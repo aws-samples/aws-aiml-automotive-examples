{
 "cells": [
  {
   "cell_type": "markdown",
   "id": "0463b082-6f0a-4ffe-9fa9-d1075cea18d4",
   "metadata": {},
   "source": [
    "# Build a Q&A application with Bedrock, Langchain and FAISS index\n",
    "\n",
    "This notebook explains steps requried to build a Question & Answer application using Retrieval Augmented Generation (RAG) architecture.\n",
    "RAG combines the power of pre-trained LLMs with information retrieval - enabling more accurate and context-aware responses\n",
    "\n",
    "(This notebook was tested on SageMaker Studio ml.m5.2xlarge instance with Datascience 3.0 kernel)"
   ]
  },
  {
   "cell_type": "markdown",
   "id": "f98018ce-fbc3-48c7-9238-01a3fa5addd3",
   "metadata": {},
   "source": [
    "## Solution architecture\n",
    "\n",
    "Below diagram provides an overview of the solution architecture. Key parts \n",
    "\n",
    "* Leverage Amazon Kendra or OpenSearch as the knowledge store or utilize a combination of Embeddings & Index store\n",
    "* Range of options for Embeddings including Bedrock Titan, Cohere, Hugging face etc.\n",
    "* FAISS, PineCone, Chroma, etc. as Vector stores\n",
    "* LLM hosted by SageMaker Jumpstart endpoint or managed by Bedrock (Anthropic Claude, AI21 Jumbo Instruct or Titan)\n",
    "\n",
    "<br>\n",
    "<img src =\"images/rag-architecture-options.png\" width=\"600\"/>"
   ]
  },
  {
   "cell_type": "markdown",
   "id": "e1b059e4-443a-4fa5-a9d7-b02f3763615e",
   "metadata": {},
   "source": [
    "## Pre-requisites\n",
    "NOTE: This step would take around 40-50 mins to install all dependencies. Time would vary based on the instance type used for this notebook."
   ]
  },
  {
   "cell_type": "code",
   "execution_count": null,
   "id": "6e0e1867-409a-43bf-bc07-83a67599216c",
   "metadata": {
    "tags": []
   },
   "outputs": [],
   "source": [
    "!pip install faiss-cpu\n",
    "!pip install langchain --upgrade\n",
    "!pip install pypdf"
   ]
  },
  {
   "cell_type": "code",
   "execution_count": null,
   "id": "63a4a8ff-8b50-47da-a6c7-c7b0cb206a15",
   "metadata": {
    "tags": []
   },
   "outputs": [],
   "source": [
    "!pip install sentence_transformers"
   ]
  },
  {
   "cell_type": "code",
   "execution_count": null,
   "id": "d1c05900-664c-4747-a4bf-8af770dafa09",
   "metadata": {
    "tags": []
   },
   "outputs": [],
   "source": [
    "!pip install sagemaker --upgrade"
   ]
  },
  {
   "cell_type": "code",
   "execution_count": null,
   "id": "9312ebd0-e2fb-4ded-bdb5-a125ed319b81",
   "metadata": {
    "tags": []
   },
   "outputs": [],
   "source": [
    "!pip install boto3 --upgrade"
   ]
  },
  {
   "cell_type": "markdown",
   "id": "e3d4b94d-3d83-40aa-8a92-03435f7f4776",
   "metadata": {},
   "source": [
    "## Restart Kernel"
   ]
  },
  {
   "cell_type": "code",
   "execution_count": null,
   "id": "edd8069f-83c0-4517-aec9-f7fe28440adf",
   "metadata": {},
   "outputs": [],
   "source": [
    "#Restart Kernel after the installs\n",
    "import IPython\n",
    "app = IPython.Application.instance()\n",
    "app.kernel.do_shutdown(True)  "
   ]
  },
  {
   "cell_type": "markdown",
   "id": "489eb77a-b0b4-4339-9eeb-e81dabcdeea2",
   "metadata": {},
   "source": [
    "## Setup depedencies"
   ]
  },
  {
   "cell_type": "code",
   "execution_count": 2,
   "id": "20315fba-ef88-4a7a-b859-eb82cac80559",
   "metadata": {
    "tags": []
   },
   "outputs": [
    {
     "data": {
      "text/plain": [
       "'3.10.6 (main, Oct  7 2022, 20:19:58) [GCC 11.2.0]'"
      ]
     },
     "execution_count": 2,
     "metadata": {},
     "output_type": "execute_result"
    }
   ],
   "source": [
    "#Check Python version is greater than 3.8 which is required by Langchain if you want to use Langchain\n",
    "import sys\n",
    "sys.version"
   ]
  },
  {
   "cell_type": "code",
   "execution_count": 3,
   "id": "474c9b4a-95ec-4879-b13e-d5363314e143",
   "metadata": {
    "tags": []
   },
   "outputs": [],
   "source": [
    "assert sys.version_info >= (3, 8)"
   ]
  },
  {
   "cell_type": "code",
   "execution_count": 4,
   "id": "31be7dc4-bef3-4223-9f0d-50f5ba707a90",
   "metadata": {
    "tags": []
   },
   "outputs": [],
   "source": [
    "import langchain"
   ]
  },
  {
   "cell_type": "code",
   "execution_count": 5,
   "id": "f4e6e9ec-46a2-4e25-98fd-3231c729c859",
   "metadata": {
    "tags": []
   },
   "outputs": [
    {
     "data": {
      "text/plain": [
       "'0.0.314'"
      ]
     },
     "execution_count": 5,
     "metadata": {},
     "output_type": "execute_result"
    }
   ],
   "source": [
    "langchain.__version__"
   ]
  },
  {
   "cell_type": "code",
   "execution_count": 6,
   "id": "d7ade1e6-d10e-4b39-bc34-886f61145e97",
   "metadata": {
    "tags": []
   },
   "outputs": [],
   "source": [
    "import os, json\n",
    "from tqdm import tqdm\n",
    "from langchain.document_loaders import PyPDFLoader\n",
    "from langchain.text_splitter import RecursiveCharacterTextSplitter,CharacterTextSplitter,NLTKTextSplitter\n",
    "import pathlib "
   ]
  },
  {
   "cell_type": "markdown",
   "id": "8df427bc-eebe-4412-a135-a874fb042947",
   "metadata": {},
   "source": [
    "## Perform document pre-processing\n",
    "Load the documents, perform clean-up of the text before generating embeddings"
   ]
  },
  {
   "cell_type": "code",
   "execution_count": 7,
   "id": "5a94faf8-e3cb-48cd-88d6-9a7a327b6e4f",
   "metadata": {
    "tags": []
   },
   "outputs": [],
   "source": [
    "text_splitter = RecursiveCharacterTextSplitter(\n",
    "    chunk_size=800,\n",
    "    chunk_overlap=100,\n",
    "    #separators=[\"\\n\\n\", \"\\n\", \".\", \"!\", \"?\", \" \", \",\", \"\"],\n",
    "    length_function=len,\n",
    "    keep_separator=False,\n",
    "    add_start_index=False\n",
    ")\n"
   ]
  },
  {
   "cell_type": "code",
   "execution_count": 8,
   "id": "8c364185-5ee8-49bd-8390-4c349e6e3422",
   "metadata": {
    "tags": []
   },
   "outputs": [],
   "source": [
    "# Put your directory containing PDFs here\n",
    "index_name = 'firetv'\n",
    "directory = f'pdfs/{index_name}'"
   ]
  },
  {
   "cell_type": "code",
   "execution_count": 9,
   "id": "4e11839f-a854-4fc5-9259-cb8abfe7b81e",
   "metadata": {
    "tags": []
   },
   "outputs": [
    {
     "data": {
      "text/plain": [
       "['pdfs/firetv/Amazon_Fire_TV_User_Guide.pdf']"
      ]
     },
     "execution_count": 9,
     "metadata": {},
     "output_type": "execute_result"
    }
   ],
   "source": [
    "pdf_documents = [os.path.join(directory, filename) for filename in os.listdir(directory)]\n",
    "pdf_documents"
   ]
  },
  {
   "cell_type": "code",
   "execution_count": 10,
   "id": "a7a157ee-8c76-49ef-8203-2b7ef03f6ef7",
   "metadata": {
    "tags": []
   },
   "outputs": [],
   "source": [
    "langchain_documents = []\n",
    "for document in pdf_documents:\n",
    "    loader = PyPDFLoader(document)\n",
    "    data = loader.load()\n",
    "    langchain_documents.extend(data)\n"
   ]
  },
  {
   "cell_type": "code",
   "execution_count": 11,
   "id": "5c6bea2e-ca2b-4150-ad27-da5ea62e71d5",
   "metadata": {
    "tags": []
   },
   "outputs": [
    {
     "name": "stdout",
     "output_type": "stream",
     "text": [
      "loaded document pages:  90\n",
      "Splitting all documents\n",
      "Num split pages:  189\n"
     ]
    }
   ],
   "source": [
    "print(\"loaded document pages: \", len(langchain_documents))\n",
    "print(\"Splitting all documents\")\n",
    "split_docs = text_splitter.split_documents(langchain_documents)\n",
    "print(\"Num split pages: \", len(split_docs))"
   ]
  },
  {
   "cell_type": "code",
   "execution_count": 12,
   "id": "2d68869a-d8ea-42bd-b696-69fdbb8794ba",
   "metadata": {
    "tags": []
   },
   "outputs": [
    {
     "data": {
      "text/plain": [
       "'Amazon Fire TV User Guide'"
      ]
     },
     "execution_count": 12,
     "metadata": {},
     "output_type": "execute_result"
    }
   ],
   "source": [
    "split_docs[0].page_content"
   ]
  },
  {
   "cell_type": "code",
   "execution_count": 13,
   "id": "2003c5b7-2f8d-4ce4-9e30-89c873b4f515",
   "metadata": {
    "tags": []
   },
   "outputs": [],
   "source": [
    "import regex as re\n",
    "for d in split_docs:\n",
    "    text = d.page_content\n",
    "    text = re.sub(r\"(\\w+)-\\n(\\w+)\", r\"\\1\\2\", text)\n",
    "    text = re.sub(r\"(?<!\\n\\s)\\n(?!\\s\\n)\", \" \", text.strip()) # Remove newlines \n",
    "    text = re.sub(r\"\\n\\s*\\n\", \"\\n\\n\", text)\n",
    "    text = re.sub(r'[/X]', \"\", text)     #Remove hexadecimal chars\n",
    "    text = re.sub(r\"(\\\\u[0-9A-Fa-f]+)\",\" \",text) #Remove other speciail characters\n",
    "    d.page_content = text"
   ]
  },
  {
   "cell_type": "markdown",
   "id": "7ae50b01-0f7f-41fa-b3fa-3ecc630d5747",
   "metadata": {},
   "source": [
    "## Generate Embeddings\n",
    "Use an embeddings model to generate embeddings of the cleaned-up doc"
   ]
  },
  {
   "cell_type": "markdown",
   "id": "3ea739ef-f75b-4aa5-9bbb-cb4ae137639a",
   "metadata": {},
   "source": [
    "### Option 1- Bedrock Titan Embeddings"
   ]
  },
  {
   "cell_type": "code",
   "execution_count": 14,
   "id": "cb7b13d0-347e-4819-80c3-5e0f3a6bf752",
   "metadata": {
    "tags": []
   },
   "outputs": [
    {
     "name": "stdout",
     "output_type": "stream",
     "text": [
      "sagemaker.config INFO - Not applying SDK defaults from location: /etc/xdg/sagemaker/config.yaml\n",
      "sagemaker.config INFO - Not applying SDK defaults from location: /root/.config/sagemaker/config.yaml\n",
      "sagemaker.config INFO - Not applying SDK defaults from location: /etc/xdg/sagemaker/config.yaml\n",
      "sagemaker.config INFO - Not applying SDK defaults from location: /root/.config/sagemaker/config.yaml\n"
     ]
    }
   ],
   "source": [
    "import boto3\n",
    "import sagemaker\n",
    "session = boto3.Session()\n",
    "sagemaker_session = sagemaker.Session()\n",
    "studio_region = sagemaker_session.boto_region_name \n",
    "bedrock = session.client(\"bedrock-runtime\", region_name=studio_region)\n",
    "\n",
    "from langchain.embeddings import BedrockEmbeddings\n",
    "emb = BedrockEmbeddings(region_name =\"us-east-1\",model_id = \"amazon.titan-e1t-medium\")\n",
    "emb.model_kwargs = {}"
   ]
  },
  {
   "cell_type": "markdown",
   "id": "7afbaff8-568a-429c-b19f-fb9092484466",
   "metadata": {},
   "source": [
    "### Option 2- Huggingface Embeddings - Requires sentence_transformers"
   ]
  },
  {
   "cell_type": "code",
   "execution_count": 15,
   "id": "01159685-f3e0-4d87-a8bb-ac942a0d95a9",
   "metadata": {
    "tags": []
   },
   "outputs": [],
   "source": [
    "from langchain.embeddings import HuggingFaceEmbeddings\n",
    "emb = HuggingFaceEmbeddings()"
   ]
  },
  {
   "cell_type": "markdown",
   "id": "35d6a4c9-cd67-45a1-9d3c-1ace18e26cf9",
   "metadata": {},
   "source": [
    "## Setup local Vector store - FAISS "
   ]
  },
  {
   "cell_type": "code",
   "execution_count": 16,
   "id": "8dc43db5-2a05-44fc-a629-c0609011d1d2",
   "metadata": {
    "tags": []
   },
   "outputs": [],
   "source": [
    "from langchain.vectorstores import FAISS"
   ]
  },
  {
   "cell_type": "code",
   "execution_count": 17,
   "id": "eea489f2-7133-4037-b81b-8a36b36da3e1",
   "metadata": {
    "tags": []
   },
   "outputs": [
    {
     "name": "stdout",
     "output_type": "stream",
     "text": [
      "Embed and create vector index\n"
     ]
    }
   ],
   "source": [
    "print(\"Embed and create vector index\")\n",
    "db = FAISS.from_documents(split_docs, embedding=emb)"
   ]
  },
  {
   "cell_type": "markdown",
   "id": "e6cbdb61-8740-422f-adff-443dcfaa1f90",
   "metadata": {},
   "source": [
    "### Save the indices locally as a file"
   ]
  },
  {
   "cell_type": "code",
   "execution_count": 18,
   "id": "100af08f-89cb-43f6-a0a3-a3a69d64864a",
   "metadata": {},
   "outputs": [],
   "source": [
    "index_path = 'faiss_indices'"
   ]
  },
  {
   "cell_type": "code",
   "execution_count": 19,
   "id": "9e82059e-6097-4da6-b0c1-1e75ba8113f7",
   "metadata": {},
   "outputs": [
    {
     "name": "stdout",
     "output_type": "stream",
     "text": [
      "Save the index created locally\n"
     ]
    }
   ],
   "source": [
    "print('Save the index created locally')\n",
    "pathlib.Path(index_path).mkdir(parents=True, exist_ok=True)\n",
    "db.save_local(folder_path=index_path, index_name= index_name)"
   ]
  },
  {
   "cell_type": "markdown",
   "id": "3ac2aded-5d4c-4ba6-ba57-90055270edbe",
   "metadata": {},
   "source": [
    "### Load from local file cache"
   ]
  },
  {
   "cell_type": "code",
   "execution_count": 20,
   "id": "c15d13a5-395b-4b54-ac9d-ea23b8ec5f97",
   "metadata": {},
   "outputs": [
    {
     "name": "stdout",
     "output_type": "stream",
     "text": [
      "CPU times: user 2.96 ms, sys: 0 ns, total: 2.96 ms\n",
      "Wall time: 18.8 ms\n"
     ]
    }
   ],
   "source": [
    "%%time\n",
    "#Check if load local works properly\n",
    "db_local = FAISS.load_local(folder_path=index_path, embeddings=emb, index_name=index_name)"
   ]
  },
  {
   "cell_type": "markdown",
   "id": "3f500810-861e-4cca-b0cf-ea87fc878118",
   "metadata": {},
   "source": [
    "### Perform a similarity search and get top 3 matching docs"
   ]
  },
  {
   "cell_type": "code",
   "execution_count": 21,
   "id": "343462fe-f118-4f2c-97a5-fa7d8f81360d",
   "metadata": {},
   "outputs": [
    {
     "data": {
      "text/plain": [
       "[Document(page_content='Set Up Parental Controls With Parental Controls, you can block purchases and restrict access to Amazon movies, TV shows, games, apps, photos, and more. Note: Parental controls do not restrict content in third-party applications. Parental controls for third-party applications are determined by the app provider. When entering the PIN, you will need to use an Amazon remote or the Fire TV Remote App. You cannot use a third-party remote. 1. From the Home  screen, select Settings , and then select Parental Controls . 2. Using your remote, press the Select  button to turn parental controls On or Off. 3. Enter your Parental Controls PIN, and then select Next . Your PIN is the same PIN you use for other Amazon services such as Amazon Instant Video.', metadata={'source': 'pdfs/firetv/Amazon_Fire_TV_User_Guide.pdf', 'page': 15}),\n",
       " Document(page_content=\"Set time limits1. Select a child's profile. 2. In the pop-out menu, select Time Limits . 3. To set time limits, you need to first select Turn On Time Limits . 4. Set the Screen Time, which is how long your child can watch videos and play with apps each day. 5. Set the Bedtime, which is the time after which your child cannot use their FreeTime profile. 6. Select Done  to save the changes. To turn off time limits, select Turn Off Time Limits  . Add content to a child's library1. Select a child's profile. 2. In the pop-out menu, select Add Titles to Your Child's Library . 3. Scroll right and left to view available videos and apps. 4. Select an item to add it to your child's library. A checkmark appears on items that have already been added. Tip : Filter your Library by Videos , Apps , or\", metadata={'source': 'pdfs/firetv/Amazon_Fire_TV_User_Guide.pdf', 'page': 56}),\n",
       " Document(page_content='To learn more, go to Use an Amazon Fire TV Device with a Second Screen Device on page 67 . (FreeTime &) Parental Controls Enable or disable Amazon FreeTime, which allows you to create a personalized profile for your child to access videos, apps, and games that you selected for them. Parental Controls restrict purchasing, content types, and access to other features. On Amazon Fire TV, enable or disable Amazon FreeTime, which allows you to create a personalized profile for your child to access videos, apps, and games that you selected for them. Note: Parental Controls will not restrict content in thirdparty applications. Parental controls for third-party applications are determined by the app provider. Controllers and Bluetooth Devices Add, unpair, or update remotes and Bluetooth game', metadata={'source': 'pdfs/firetv/Amazon_Fire_TV_User_Guide.pdf', 'page': 10})]"
      ]
     },
     "execution_count": 21,
     "metadata": {},
     "output_type": "execute_result"
    }
   ],
   "source": [
    "query = \"How to setup Parental controls?\"\n",
    "docs = db_local.similarity_search(query, k=3)\n",
    "docs"
   ]
  },
  {
   "cell_type": "markdown",
   "id": "e6884175-f9d0-4ed5-8cf2-1f4c19508eec",
   "metadata": {},
   "source": [
    "## Access LLM with the context from vecor store"
   ]
  },
  {
   "cell_type": "code",
   "execution_count": 22,
   "id": "9a861591-c5f9-409d-a143-82baf445848f",
   "metadata": {},
   "outputs": [],
   "source": [
    "from langchain.llms.bedrock import Bedrock\n",
    "\n",
    "#Creating Anthropic Claude\n",
    "model_args= {'max_tokens_to_sample':200,'temperature':0}\n",
    "llm = Bedrock(model_id=\"anthropic.claude-v1\", client=bedrock, model_kwargs=model_args)"
   ]
  },
  {
   "cell_type": "markdown",
   "id": "78ef8bec-abf8-4e9f-b9e5-15312fbea28b",
   "metadata": {},
   "source": [
    "### Method 1- Query with chain"
   ]
  },
  {
   "cell_type": "code",
   "execution_count": 24,
   "id": "ca929068-513e-481b-a083-0dda1a91b441",
   "metadata": {
    "tags": []
   },
   "outputs": [
    {
     "name": "stdout",
     "output_type": "stream",
     "text": [
      " Here are the steps to set up Parental Controls on an Amazon Fire TV device:\n",
      "\n",
      "1. From the Home screen, select Settings, and then select Parental Controls. \n",
      "\n",
      "2. Using your remote, press the Select button to turn parental controls On.\n",
      "\n",
      "3. Enter your Parental Controls PIN, and then select Next. Your PIN is the same PIN you use for other Amazon services such as Amazon Instant Video.\n",
      "\n",
      "4. Select PIN Protect Purchases to change the button to ON. With Parental Controls enabled, all purchases on your Amazon Fire TV device will require a PIN.\n",
      "\n",
      "5. To set time limits, select a child's profile. In the pop-out menu, select Time Limits. \n",
      "\n",
      "6. To set time limits, select Turn On Time Limits. \n",
      "\n",
      "7. Set the Screen Time, which is how long your child can watch videos and play with apps each day.\n",
      "\n",
      "8\n"
     ]
    }
   ],
   "source": [
    "from langchain.chains.question_answering import load_qa_chain\n",
    "chain = load_qa_chain(llm, chain_type=\"stuff\")\n",
    "documents = db_local.similarity_search(query=query, k=5)\n",
    "print(chain.run(input_documents=documents, question=query))"
   ]
  },
  {
   "cell_type": "markdown",
   "id": "7b8109fa-9901-44de-8c2c-c2369f3ef77f",
   "metadata": {},
   "source": [
    "### Method 2- Query with Prompt template (Provides prompt customization)"
   ]
  },
  {
   "cell_type": "code",
   "execution_count": 25,
   "id": "26733b78-347a-4d91-acf6-3131c679e010",
   "metadata": {
    "tags": []
   },
   "outputs": [],
   "source": [
    "from langchain.chains import RetrievalQA\n",
    "from langchain.prompts import PromptTemplate\n",
    "\n",
    "prompt_template = \"\"\"Human: Use the following pieces of context to provide a concise answer to the question at the end. \n",
    "\n",
    "{context}\n",
    "\n",
    "Question: {question}\n",
    "Assistant:\"\"\"\n",
    "PROMPT = PromptTemplate(\n",
    "    template=prompt_template, input_variables=[\"context\", \"question\"]\n",
    ")"
   ]
  },
  {
   "cell_type": "code",
   "execution_count": 26,
   "id": "487c1db0-05e0-4e6c-95c6-abb22a5b4b1f",
   "metadata": {
    "tags": []
   },
   "outputs": [
    {
     "name": "stdout",
     "output_type": "stream",
     "text": [
      " Here are the steps to set up Parental Controls on an Amazon Fire TV device:\n",
      "\n",
      "1. From the Home screen, select Settings, and then select Parental Controls. \n",
      "\n",
      "2. Using your remote, press the Select button to turn parental controls On.\n",
      "\n",
      "3. Enter your Parental Controls PIN, and then select Next. Your PIN is the same PIN you use for other Amazon services.\n",
      "\n",
      "4. Select a child's profile. \n",
      "\n",
      "5. In the pop-out menu, select Time Limits.\n",
      "\n",
      "6. To set time limits, select Turn On Time Limits.\n",
      "\n",
      "7. Set the Screen Time, which is how long your child can watch videos and play with apps each day.\n",
      "\n",
      "8. Set the Bedtime, which is the time after which your child cannot use their profile.\n",
      "\n",
      "9. Select Done to save the changes.\n",
      "\n",
      "10. To add content to your child's library, select\n"
     ]
    }
   ],
   "source": [
    "qa = RetrievalQA.from_chain_type(\n",
    "    llm=llm,\n",
    "    chain_type=\"stuff\",\n",
    "    retriever=db_local.as_retriever(\n",
    "        search_type=\"similarity\", search_kwargs={\"k\": 3}\n",
    "    ),\n",
    "    return_source_documents=True,\n",
    "    chain_type_kwargs={\"prompt\": PROMPT}\n",
    ")\n",
    "\n",
    "response = qa({'query':query})\n",
    "print(response['result'])"
   ]
  },
  {
   "cell_type": "code",
   "execution_count": 27,
   "id": "686e0267-f2b4-45f8-b99a-5b848e1e3143",
   "metadata": {
    "tags": []
   },
   "outputs": [
    {
     "data": {
      "text/plain": [
       "[Document(page_content='Set Up Parental Controls With Parental Controls, you can block purchases and restrict access to Amazon movies, TV shows, games, apps, photos, and more. Note: Parental controls do not restrict content in third-party applications. Parental controls for third-party applications are determined by the app provider. When entering the PIN, you will need to use an Amazon remote or the Fire TV Remote App. You cannot use a third-party remote. 1. From the Home  screen, select Settings , and then select Parental Controls . 2. Using your remote, press the Select  button to turn parental controls On or Off. 3. Enter your Parental Controls PIN, and then select Next . Your PIN is the same PIN you use for other Amazon services such as Amazon Instant Video.', metadata={'source': 'pdfs/firetv/Amazon_Fire_TV_User_Guide.pdf', 'page': 15}),\n",
       " Document(page_content=\"Set time limits1. Select a child's profile. 2. In the pop-out menu, select Time Limits . 3. To set time limits, you need to first select Turn On Time Limits . 4. Set the Screen Time, which is how long your child can watch videos and play with apps each day. 5. Set the Bedtime, which is the time after which your child cannot use their FreeTime profile. 6. Select Done  to save the changes. To turn off time limits, select Turn Off Time Limits  . Add content to a child's library1. Select a child's profile. 2. In the pop-out menu, select Add Titles to Your Child's Library . 3. Scroll right and left to view available videos and apps. 4. Select an item to add it to your child's library. A checkmark appears on items that have already been added. Tip : Filter your Library by Videos , Apps , or\", metadata={'source': 'pdfs/firetv/Amazon_Fire_TV_User_Guide.pdf', 'page': 56}),\n",
       " Document(page_content='To learn more, go to Use an Amazon Fire TV Device with a Second Screen Device on page 67 . (FreeTime &) Parental Controls Enable or disable Amazon FreeTime, which allows you to create a personalized profile for your child to access videos, apps, and games that you selected for them. Parental Controls restrict purchasing, content types, and access to other features. On Amazon Fire TV, enable or disable Amazon FreeTime, which allows you to create a personalized profile for your child to access videos, apps, and games that you selected for them. Note: Parental Controls will not restrict content in thirdparty applications. Parental controls for third-party applications are determined by the app provider. Controllers and Bluetooth Devices Add, unpair, or update remotes and Bluetooth game', metadata={'source': 'pdfs/firetv/Amazon_Fire_TV_User_Guide.pdf', 'page': 10})]"
      ]
     },
     "execution_count": 27,
     "metadata": {},
     "output_type": "execute_result"
    }
   ],
   "source": [
    "response['source_documents']"
   ]
  },
  {
   "cell_type": "markdown",
   "id": "a552bb0a-79c3-4a3e-89aa-12dde3b392c7",
   "metadata": {
    "tags": []
   },
   "source": [
    "## Implement RAG architecture with Kendra Index"
   ]
  },
  {
   "cell_type": "code",
   "execution_count": null,
   "id": "4f8ef8cc-b0a2-48a2-ae4a-92785b082916",
   "metadata": {},
   "outputs": [],
   "source": [
    "kendra_index = \"\" #Provide Kendra index here"
   ]
  },
  {
   "cell_type": "code",
   "execution_count": null,
   "id": "6aee8f42-7d3f-4842-983b-42cf69d24dcf",
   "metadata": {},
   "outputs": [],
   "source": [
    "from langchain.schema.document import Document\n",
    "\n",
    "kendra = boto3.client('kendra')\n",
    "response = kendra.retrieve(IndexId=kendra_index,QueryText=query)\n",
    "docs = [Document(page_content = r['Content']) for r in response['ResultItems']]\n",
    "docs"
   ]
  },
  {
   "cell_type": "code",
   "execution_count": null,
   "id": "07489ecb-35a1-46c1-a082-1b3f6a7f4123",
   "metadata": {},
   "outputs": [],
   "source": [
    "chain = load_qa_chain(llm, chain_type=\"stuff\")\n",
    "print(chain.run(input_documents=docs, question=query))"
   ]
  },
  {
   "cell_type": "code",
   "execution_count": null,
   "id": "31aba352-766f-493b-86ac-cfae8d3fb3fa",
   "metadata": {},
   "outputs": [],
   "source": []
  }
 ],
 "metadata": {
  "availableInstances": [
   {
    "_defaultOrder": 0,
    "_isFastLaunch": true,
    "category": "General purpose",
    "gpuNum": 0,
    "hideHardwareSpecs": false,
    "memoryGiB": 4,
    "name": "ml.t3.medium",
    "vcpuNum": 2
   },
   {
    "_defaultOrder": 1,
    "_isFastLaunch": false,
    "category": "General purpose",
    "gpuNum": 0,
    "hideHardwareSpecs": false,
    "memoryGiB": 8,
    "name": "ml.t3.large",
    "vcpuNum": 2
   },
   {
    "_defaultOrder": 2,
    "_isFastLaunch": false,
    "category": "General purpose",
    "gpuNum": 0,
    "hideHardwareSpecs": false,
    "memoryGiB": 16,
    "name": "ml.t3.xlarge",
    "vcpuNum": 4
   },
   {
    "_defaultOrder": 3,
    "_isFastLaunch": false,
    "category": "General purpose",
    "gpuNum": 0,
    "hideHardwareSpecs": false,
    "memoryGiB": 32,
    "name": "ml.t3.2xlarge",
    "vcpuNum": 8
   },
   {
    "_defaultOrder": 4,
    "_isFastLaunch": true,
    "category": "General purpose",
    "gpuNum": 0,
    "hideHardwareSpecs": false,
    "memoryGiB": 8,
    "name": "ml.m5.large",
    "vcpuNum": 2
   },
   {
    "_defaultOrder": 5,
    "_isFastLaunch": false,
    "category": "General purpose",
    "gpuNum": 0,
    "hideHardwareSpecs": false,
    "memoryGiB": 16,
    "name": "ml.m5.xlarge",
    "vcpuNum": 4
   },
   {
    "_defaultOrder": 6,
    "_isFastLaunch": false,
    "category": "General purpose",
    "gpuNum": 0,
    "hideHardwareSpecs": false,
    "memoryGiB": 32,
    "name": "ml.m5.2xlarge",
    "vcpuNum": 8
   },
   {
    "_defaultOrder": 7,
    "_isFastLaunch": false,
    "category": "General purpose",
    "gpuNum": 0,
    "hideHardwareSpecs": false,
    "memoryGiB": 64,
    "name": "ml.m5.4xlarge",
    "vcpuNum": 16
   },
   {
    "_defaultOrder": 8,
    "_isFastLaunch": false,
    "category": "General purpose",
    "gpuNum": 0,
    "hideHardwareSpecs": false,
    "memoryGiB": 128,
    "name": "ml.m5.8xlarge",
    "vcpuNum": 32
   },
   {
    "_defaultOrder": 9,
    "_isFastLaunch": false,
    "category": "General purpose",
    "gpuNum": 0,
    "hideHardwareSpecs": false,
    "memoryGiB": 192,
    "name": "ml.m5.12xlarge",
    "vcpuNum": 48
   },
   {
    "_defaultOrder": 10,
    "_isFastLaunch": false,
    "category": "General purpose",
    "gpuNum": 0,
    "hideHardwareSpecs": false,
    "memoryGiB": 256,
    "name": "ml.m5.16xlarge",
    "vcpuNum": 64
   },
   {
    "_defaultOrder": 11,
    "_isFastLaunch": false,
    "category": "General purpose",
    "gpuNum": 0,
    "hideHardwareSpecs": false,
    "memoryGiB": 384,
    "name": "ml.m5.24xlarge",
    "vcpuNum": 96
   },
   {
    "_defaultOrder": 12,
    "_isFastLaunch": false,
    "category": "General purpose",
    "gpuNum": 0,
    "hideHardwareSpecs": false,
    "memoryGiB": 8,
    "name": "ml.m5d.large",
    "vcpuNum": 2
   },
   {
    "_defaultOrder": 13,
    "_isFastLaunch": false,
    "category": "General purpose",
    "gpuNum": 0,
    "hideHardwareSpecs": false,
    "memoryGiB": 16,
    "name": "ml.m5d.xlarge",
    "vcpuNum": 4
   },
   {
    "_defaultOrder": 14,
    "_isFastLaunch": false,
    "category": "General purpose",
    "gpuNum": 0,
    "hideHardwareSpecs": false,
    "memoryGiB": 32,
    "name": "ml.m5d.2xlarge",
    "vcpuNum": 8
   },
   {
    "_defaultOrder": 15,
    "_isFastLaunch": false,
    "category": "General purpose",
    "gpuNum": 0,
    "hideHardwareSpecs": false,
    "memoryGiB": 64,
    "name": "ml.m5d.4xlarge",
    "vcpuNum": 16
   },
   {
    "_defaultOrder": 16,
    "_isFastLaunch": false,
    "category": "General purpose",
    "gpuNum": 0,
    "hideHardwareSpecs": false,
    "memoryGiB": 128,
    "name": "ml.m5d.8xlarge",
    "vcpuNum": 32
   },
   {
    "_defaultOrder": 17,
    "_isFastLaunch": false,
    "category": "General purpose",
    "gpuNum": 0,
    "hideHardwareSpecs": false,
    "memoryGiB": 192,
    "name": "ml.m5d.12xlarge",
    "vcpuNum": 48
   },
   {
    "_defaultOrder": 18,
    "_isFastLaunch": false,
    "category": "General purpose",
    "gpuNum": 0,
    "hideHardwareSpecs": false,
    "memoryGiB": 256,
    "name": "ml.m5d.16xlarge",
    "vcpuNum": 64
   },
   {
    "_defaultOrder": 19,
    "_isFastLaunch": false,
    "category": "General purpose",
    "gpuNum": 0,
    "hideHardwareSpecs": false,
    "memoryGiB": 384,
    "name": "ml.m5d.24xlarge",
    "vcpuNum": 96
   },
   {
    "_defaultOrder": 20,
    "_isFastLaunch": false,
    "category": "General purpose",
    "gpuNum": 0,
    "hideHardwareSpecs": true,
    "memoryGiB": 0,
    "name": "ml.geospatial.interactive",
    "supportedImageNames": [
     "sagemaker-geospatial-v1-0"
    ],
    "vcpuNum": 0
   },
   {
    "_defaultOrder": 21,
    "_isFastLaunch": true,
    "category": "Compute optimized",
    "gpuNum": 0,
    "hideHardwareSpecs": false,
    "memoryGiB": 4,
    "name": "ml.c5.large",
    "vcpuNum": 2
   },
   {
    "_defaultOrder": 22,
    "_isFastLaunch": false,
    "category": "Compute optimized",
    "gpuNum": 0,
    "hideHardwareSpecs": false,
    "memoryGiB": 8,
    "name": "ml.c5.xlarge",
    "vcpuNum": 4
   },
   {
    "_defaultOrder": 23,
    "_isFastLaunch": false,
    "category": "Compute optimized",
    "gpuNum": 0,
    "hideHardwareSpecs": false,
    "memoryGiB": 16,
    "name": "ml.c5.2xlarge",
    "vcpuNum": 8
   },
   {
    "_defaultOrder": 24,
    "_isFastLaunch": false,
    "category": "Compute optimized",
    "gpuNum": 0,
    "hideHardwareSpecs": false,
    "memoryGiB": 32,
    "name": "ml.c5.4xlarge",
    "vcpuNum": 16
   },
   {
    "_defaultOrder": 25,
    "_isFastLaunch": false,
    "category": "Compute optimized",
    "gpuNum": 0,
    "hideHardwareSpecs": false,
    "memoryGiB": 72,
    "name": "ml.c5.9xlarge",
    "vcpuNum": 36
   },
   {
    "_defaultOrder": 26,
    "_isFastLaunch": false,
    "category": "Compute optimized",
    "gpuNum": 0,
    "hideHardwareSpecs": false,
    "memoryGiB": 96,
    "name": "ml.c5.12xlarge",
    "vcpuNum": 48
   },
   {
    "_defaultOrder": 27,
    "_isFastLaunch": false,
    "category": "Compute optimized",
    "gpuNum": 0,
    "hideHardwareSpecs": false,
    "memoryGiB": 144,
    "name": "ml.c5.18xlarge",
    "vcpuNum": 72
   },
   {
    "_defaultOrder": 28,
    "_isFastLaunch": false,
    "category": "Compute optimized",
    "gpuNum": 0,
    "hideHardwareSpecs": false,
    "memoryGiB": 192,
    "name": "ml.c5.24xlarge",
    "vcpuNum": 96
   },
   {
    "_defaultOrder": 29,
    "_isFastLaunch": true,
    "category": "Accelerated computing",
    "gpuNum": 1,
    "hideHardwareSpecs": false,
    "memoryGiB": 16,
    "name": "ml.g4dn.xlarge",
    "vcpuNum": 4
   },
   {
    "_defaultOrder": 30,
    "_isFastLaunch": false,
    "category": "Accelerated computing",
    "gpuNum": 1,
    "hideHardwareSpecs": false,
    "memoryGiB": 32,
    "name": "ml.g4dn.2xlarge",
    "vcpuNum": 8
   },
   {
    "_defaultOrder": 31,
    "_isFastLaunch": false,
    "category": "Accelerated computing",
    "gpuNum": 1,
    "hideHardwareSpecs": false,
    "memoryGiB": 64,
    "name": "ml.g4dn.4xlarge",
    "vcpuNum": 16
   },
   {
    "_defaultOrder": 32,
    "_isFastLaunch": false,
    "category": "Accelerated computing",
    "gpuNum": 1,
    "hideHardwareSpecs": false,
    "memoryGiB": 128,
    "name": "ml.g4dn.8xlarge",
    "vcpuNum": 32
   },
   {
    "_defaultOrder": 33,
    "_isFastLaunch": false,
    "category": "Accelerated computing",
    "gpuNum": 4,
    "hideHardwareSpecs": false,
    "memoryGiB": 192,
    "name": "ml.g4dn.12xlarge",
    "vcpuNum": 48
   },
   {
    "_defaultOrder": 34,
    "_isFastLaunch": false,
    "category": "Accelerated computing",
    "gpuNum": 1,
    "hideHardwareSpecs": false,
    "memoryGiB": 256,
    "name": "ml.g4dn.16xlarge",
    "vcpuNum": 64
   },
   {
    "_defaultOrder": 35,
    "_isFastLaunch": false,
    "category": "Accelerated computing",
    "gpuNum": 1,
    "hideHardwareSpecs": false,
    "memoryGiB": 61,
    "name": "ml.p3.2xlarge",
    "vcpuNum": 8
   },
   {
    "_defaultOrder": 36,
    "_isFastLaunch": false,
    "category": "Accelerated computing",
    "gpuNum": 4,
    "hideHardwareSpecs": false,
    "memoryGiB": 244,
    "name": "ml.p3.8xlarge",
    "vcpuNum": 32
   },
   {
    "_defaultOrder": 37,
    "_isFastLaunch": false,
    "category": "Accelerated computing",
    "gpuNum": 8,
    "hideHardwareSpecs": false,
    "memoryGiB": 488,
    "name": "ml.p3.16xlarge",
    "vcpuNum": 64
   },
   {
    "_defaultOrder": 38,
    "_isFastLaunch": false,
    "category": "Accelerated computing",
    "gpuNum": 8,
    "hideHardwareSpecs": false,
    "memoryGiB": 768,
    "name": "ml.p3dn.24xlarge",
    "vcpuNum": 96
   },
   {
    "_defaultOrder": 39,
    "_isFastLaunch": false,
    "category": "Memory Optimized",
    "gpuNum": 0,
    "hideHardwareSpecs": false,
    "memoryGiB": 16,
    "name": "ml.r5.large",
    "vcpuNum": 2
   },
   {
    "_defaultOrder": 40,
    "_isFastLaunch": false,
    "category": "Memory Optimized",
    "gpuNum": 0,
    "hideHardwareSpecs": false,
    "memoryGiB": 32,
    "name": "ml.r5.xlarge",
    "vcpuNum": 4
   },
   {
    "_defaultOrder": 41,
    "_isFastLaunch": false,
    "category": "Memory Optimized",
    "gpuNum": 0,
    "hideHardwareSpecs": false,
    "memoryGiB": 64,
    "name": "ml.r5.2xlarge",
    "vcpuNum": 8
   },
   {
    "_defaultOrder": 42,
    "_isFastLaunch": false,
    "category": "Memory Optimized",
    "gpuNum": 0,
    "hideHardwareSpecs": false,
    "memoryGiB": 128,
    "name": "ml.r5.4xlarge",
    "vcpuNum": 16
   },
   {
    "_defaultOrder": 43,
    "_isFastLaunch": false,
    "category": "Memory Optimized",
    "gpuNum": 0,
    "hideHardwareSpecs": false,
    "memoryGiB": 256,
    "name": "ml.r5.8xlarge",
    "vcpuNum": 32
   },
   {
    "_defaultOrder": 44,
    "_isFastLaunch": false,
    "category": "Memory Optimized",
    "gpuNum": 0,
    "hideHardwareSpecs": false,
    "memoryGiB": 384,
    "name": "ml.r5.12xlarge",
    "vcpuNum": 48
   },
   {
    "_defaultOrder": 45,
    "_isFastLaunch": false,
    "category": "Memory Optimized",
    "gpuNum": 0,
    "hideHardwareSpecs": false,
    "memoryGiB": 512,
    "name": "ml.r5.16xlarge",
    "vcpuNum": 64
   },
   {
    "_defaultOrder": 46,
    "_isFastLaunch": false,
    "category": "Memory Optimized",
    "gpuNum": 0,
    "hideHardwareSpecs": false,
    "memoryGiB": 768,
    "name": "ml.r5.24xlarge",
    "vcpuNum": 96
   },
   {
    "_defaultOrder": 47,
    "_isFastLaunch": false,
    "category": "Accelerated computing",
    "gpuNum": 1,
    "hideHardwareSpecs": false,
    "memoryGiB": 16,
    "name": "ml.g5.xlarge",
    "vcpuNum": 4
   },
   {
    "_defaultOrder": 48,
    "_isFastLaunch": false,
    "category": "Accelerated computing",
    "gpuNum": 1,
    "hideHardwareSpecs": false,
    "memoryGiB": 32,
    "name": "ml.g5.2xlarge",
    "vcpuNum": 8
   },
   {
    "_defaultOrder": 49,
    "_isFastLaunch": false,
    "category": "Accelerated computing",
    "gpuNum": 1,
    "hideHardwareSpecs": false,
    "memoryGiB": 64,
    "name": "ml.g5.4xlarge",
    "vcpuNum": 16
   },
   {
    "_defaultOrder": 50,
    "_isFastLaunch": false,
    "category": "Accelerated computing",
    "gpuNum": 1,
    "hideHardwareSpecs": false,
    "memoryGiB": 128,
    "name": "ml.g5.8xlarge",
    "vcpuNum": 32
   },
   {
    "_defaultOrder": 51,
    "_isFastLaunch": false,
    "category": "Accelerated computing",
    "gpuNum": 1,
    "hideHardwareSpecs": false,
    "memoryGiB": 256,
    "name": "ml.g5.16xlarge",
    "vcpuNum": 64
   },
   {
    "_defaultOrder": 52,
    "_isFastLaunch": false,
    "category": "Accelerated computing",
    "gpuNum": 4,
    "hideHardwareSpecs": false,
    "memoryGiB": 192,
    "name": "ml.g5.12xlarge",
    "vcpuNum": 48
   },
   {
    "_defaultOrder": 53,
    "_isFastLaunch": false,
    "category": "Accelerated computing",
    "gpuNum": 4,
    "hideHardwareSpecs": false,
    "memoryGiB": 384,
    "name": "ml.g5.24xlarge",
    "vcpuNum": 96
   },
   {
    "_defaultOrder": 54,
    "_isFastLaunch": false,
    "category": "Accelerated computing",
    "gpuNum": 8,
    "hideHardwareSpecs": false,
    "memoryGiB": 768,
    "name": "ml.g5.48xlarge",
    "vcpuNum": 192
   },
   {
    "_defaultOrder": 55,
    "_isFastLaunch": false,
    "category": "Accelerated computing",
    "gpuNum": 8,
    "hideHardwareSpecs": false,
    "memoryGiB": 1152,
    "name": "ml.p4d.24xlarge",
    "vcpuNum": 96
   },
   {
    "_defaultOrder": 56,
    "_isFastLaunch": false,
    "category": "Accelerated computing",
    "gpuNum": 8,
    "hideHardwareSpecs": false,
    "memoryGiB": 1152,
    "name": "ml.p4de.24xlarge",
    "vcpuNum": 96
   }
  ],
  "instance_type": "ml.t3.medium",
  "kernelspec": {
   "display_name": "Python 3 (Data Science 3.0)",
   "language": "python",
   "name": "python3__SAGEMAKER_INTERNAL__arn:aws:sagemaker:us-east-1:081325390199:image/sagemaker-data-science-310-v1"
  },
  "language_info": {
   "codemirror_mode": {
    "name": "ipython",
    "version": 3
   },
   "file_extension": ".py",
   "mimetype": "text/x-python",
   "name": "python",
   "nbconvert_exporter": "python",
   "pygments_lexer": "ipython3",
   "version": "3.10.6"
  }
 },
 "nbformat": 4,
 "nbformat_minor": 5
}
