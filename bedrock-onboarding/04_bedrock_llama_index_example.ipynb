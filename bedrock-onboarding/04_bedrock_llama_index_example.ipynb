{
 "cells": [
  {
   "cell_type": "markdown",
   "id": "3f032412-6927-4625-89fe-cf99baefb594",
   "metadata": {},
   "source": [
    "# Build a Q&A application with Bedrock, Llama Index and Langchain\n",
    "\n",
    "This notebook explains steps requried to build a Question & Answer application with Bedrock - Anthropic Claude model, Langchain and LLama index"
   ]
  },
  {
   "cell_type": "markdown",
   "id": "601c7bc3-ded8-4e72-970c-5580ee6cada8",
   "metadata": {},
   "source": [
    "## Pre-requisites"
   ]
  },
  {
   "cell_type": "code",
   "execution_count": null,
   "id": "469e43a7-58fe-4d7c-9412-a13c39cdbf00",
   "metadata": {
    "tags": []
   },
   "outputs": [],
   "source": [
    "!pip install langchain --upgrade"
   ]
  },
  {
   "cell_type": "code",
   "execution_count": null,
   "id": "1a53a953-a197-4cb0-a353-d21ae8826f81",
   "metadata": {
    "tags": []
   },
   "outputs": [],
   "source": [
    "!pip install llama-index"
   ]
  },
  {
   "cell_type": "code",
   "execution_count": null,
   "id": "c1d9720c-412b-456c-a507-adc54dd2ffcf",
   "metadata": {
    "tags": []
   },
   "outputs": [],
   "source": [
    "!pip install sentence_transformers"
   ]
  },
  {
   "cell_type": "code",
   "execution_count": null,
   "id": "27e34c4e-75c4-4f7a-a7b8-66a962889aae",
   "metadata": {},
   "outputs": [],
   "source": [
    "!pip install sagemaker --upgrade"
   ]
  },
  {
   "cell_type": "code",
   "execution_count": null,
   "id": "da147b64-4207-4031-9073-47adabd501eb",
   "metadata": {
    "tags": []
   },
   "outputs": [],
   "source": [
    "!pip install boto3 --upgrade"
   ]
  },
  {
   "cell_type": "code",
   "execution_count": null,
   "id": "16c05b67-8f96-4844-b175-d467df9b34a0",
   "metadata": {},
   "outputs": [],
   "source": [
    "!pip install langchain-community --upgrade"
   ]
  },
  {
   "cell_type": "markdown",
   "id": "590356a8-6caa-4b96-9c9b-78bcec47f88d",
   "metadata": {},
   "source": [
    "## Restart Kernel"
   ]
  },
  {
   "cell_type": "code",
   "execution_count": null,
   "id": "fa11bc42-96b6-4cb2-a859-759c8f0d9932",
   "metadata": {},
   "outputs": [],
   "source": [
    "#Restart Kernel after the installs\n",
    "import IPython\n",
    "app = IPython.Application.instance()\n",
    "app.kernel.do_shutdown(True)  "
   ]
  },
  {
   "cell_type": "markdown",
   "id": "9646cabe-a19e-4697-89e2-2f7588683884",
   "metadata": {},
   "source": [
    "## Setup depedencies"
   ]
  },
  {
   "cell_type": "code",
   "execution_count": 1,
   "id": "c233c672-1063-428c-b4df-4833dbc94b18",
   "metadata": {
    "tags": []
   },
   "outputs": [
    {
     "data": {
      "text/plain": [
       "'3.10.13 | packaged by conda-forge | (main, Oct 26 2023, 18:07:37) [GCC 12.3.0]'"
      ]
     },
     "execution_count": 1,
     "metadata": {},
     "output_type": "execute_result"
    }
   ],
   "source": [
    "#Check Python version is greater than 3.8 which is required by Langchain if you want to use Langchain\n",
    "import sys\n",
    "sys.version"
   ]
  },
  {
   "cell_type": "code",
   "execution_count": 2,
   "id": "5cbb9654-1f30-44cc-bee9-056163a53a11",
   "metadata": {
    "tags": []
   },
   "outputs": [],
   "source": [
    "assert sys.version_info >= (3, 8)"
   ]
  },
  {
   "cell_type": "code",
   "execution_count": 3,
   "id": "f3bf3ee4-f7aa-4601-9634-7ea00b34840a",
   "metadata": {
    "tags": []
   },
   "outputs": [],
   "source": [
    "import logging\n",
    "\n",
    "logging.getLogger().setLevel(logging.CRITICAL)"
   ]
  },
  {
   "cell_type": "code",
   "execution_count": 4,
   "id": "e6e5dc32-7427-438f-b3d6-14799fc8e55f",
   "metadata": {
    "tags": []
   },
   "outputs": [],
   "source": [
    "from llama_index import download_loader, SimpleDirectoryReader\n",
    "from llama_index import VectorStoreIndex \n",
    "from llama_index.embeddings.langchain import LangchainEmbedding\n",
    "from llama_index import LLMPredictor, ServiceContext\n",
    "#import torch\n",
    "\n",
    "import langchain\n",
    "#from langchain.embeddings.huggingface import HuggingFaceEmbeddings"
   ]
  },
  {
   "cell_type": "code",
   "execution_count": 5,
   "id": "aff218ce-1ff9-45b9-8f8f-5d9b7f051ccf",
   "metadata": {
    "tags": []
   },
   "outputs": [],
   "source": [
    "import os, json\n",
    "from tqdm import tqdm\n",
    "import pathlib\n",
    "from pathlib import Path"
   ]
  },
  {
   "cell_type": "code",
   "execution_count": 6,
   "id": "6246bde2-3781-41ab-9af4-18b25cb20351",
   "metadata": {
    "tags": []
   },
   "outputs": [
    {
     "name": "stdout",
     "output_type": "stream",
     "text": [
      "sagemaker.config INFO - Not applying SDK defaults from location: /etc/xdg/sagemaker/config.yaml\n",
      "sagemaker.config INFO - Not applying SDK defaults from location: /home/sagemaker-user/.config/sagemaker/config.yaml\n"
     ]
    }
   ],
   "source": [
    "import boto3\n",
    "import sagemaker\n",
    "session = boto3.Session()\n",
    "sagemaker_session = sagemaker.Session()\n",
    "studio_region = sagemaker_session.boto_region_name \n",
    "bedrock = session.client(\"bedrock-runtime\")"
   ]
  },
  {
   "cell_type": "code",
   "execution_count": 7,
   "id": "d977a5ed-297f-44db-86c7-8c9c893ee96a",
   "metadata": {
    "tags": []
   },
   "outputs": [],
   "source": [
    "# Put your directory containing PDFs here\n",
    "pdf_file_name = 'Amazon_Fire_TV_User_Guide.pdf'\n",
    "pdf_path = f'pdfs/firetv/{pdf_file_name}'"
   ]
  },
  {
   "cell_type": "code",
   "execution_count": 8,
   "id": "b9bb2336-c100-413a-98ed-0bc123f5c555",
   "metadata": {
    "tags": []
   },
   "outputs": [],
   "source": [
    "index_directory= f'llama_indices'\n",
    "index_path = f'{index_directory}/{pdf_file_name}'\n",
    "pathlib.Path(index_directory).mkdir(parents=True, exist_ok=True)"
   ]
  },
  {
   "cell_type": "markdown",
   "id": "8ecc0e98-9722-4be0-9c2e-137691e4f568",
   "metadata": {},
   "source": [
    "## Load data with PDFReader"
   ]
  },
  {
   "cell_type": "code",
   "execution_count": 9,
   "id": "1120db43-cbeb-42cb-9d94-29b0d6704f5f",
   "metadata": {
    "tags": []
   },
   "outputs": [],
   "source": [
    "pdf_loader = download_loader('PDFReader')\n",
    "loader = pdf_loader()\n",
    "docs = loader.load_data(file=Path(pdf_path))"
   ]
  },
  {
   "cell_type": "markdown",
   "id": "efe828df-9ac6-4e5d-a3c7-304e7db8ded3",
   "metadata": {},
   "source": [
    "## Create Huggingface Embeddings and Embeddings model"
   ]
  },
  {
   "cell_type": "code",
   "execution_count": 10,
   "id": "0af2f08a-95e4-4f69-8758-ce43176c46dd",
   "metadata": {
    "tags": []
   },
   "outputs": [
    {
     "name": "stderr",
     "output_type": "stream",
     "text": [
      "2024-01-26 20:52:20.008356: I tensorflow/core/platform/cpu_feature_guard.cc:182] This TensorFlow binary is optimized to use available CPU instructions in performance-critical operations.\n",
      "To enable the following instructions: SSE4.1 SSE4.2 AVX AVX2 AVX512F FMA, in other operations, rebuild TensorFlow with the appropriate compiler flags.\n"
     ]
    }
   ],
   "source": [
    "from langchain_community.embeddings import HuggingFaceEmbeddings\n",
    "emb = HuggingFaceEmbeddings(model_name=\"all-MiniLM-L6-v2\")\n",
    "#emb = HuggingFaceEmbeddings()\n",
    "emb_model = LangchainEmbedding(emb)\n"
   ]
  },
  {
   "cell_type": "code",
   "execution_count": 11,
   "id": "604a800c-cfa6-4048-b2b2-5cb62181bb51",
   "metadata": {
    "tags": []
   },
   "outputs": [],
   "source": [
    "from langchain_community.llms.bedrock import Bedrock\n",
    "\n",
    "#Creating Anthropic Claude\n",
    "model_args= {'max_tokens_to_sample':200,'temperature':0}\n",
    "llm = Bedrock(model_id=\"anthropic.claude-v1\", client=bedrock, model_kwargs=model_args)\n",
    "llm_predictor = LLMPredictor(llm=llm)"
   ]
  },
  {
   "cell_type": "code",
   "execution_count": 12,
   "id": "51ef5666-7e13-4b54-bebf-70e5665f1f1f",
   "metadata": {
    "tags": []
   },
   "outputs": [
    {
     "name": "stdout",
     "output_type": "stream",
     "text": [
      "LLMPredictor is deprecated, please use LLM instead.\n"
     ]
    }
   ],
   "source": [
    "sc = ServiceContext.from_defaults(llm_predictor=llm_predictor, embed_model=emb_model)"
   ]
  },
  {
   "cell_type": "markdown",
   "id": "f9e8e592-4af3-4ccb-be5d-6311f1bbf349",
   "metadata": {},
   "source": [
    "## Persist with Vector store"
   ]
  },
  {
   "cell_type": "code",
   "execution_count": 13,
   "id": "4deed195-3a8f-43d8-9d9c-72278e18724e",
   "metadata": {
    "tags": []
   },
   "outputs": [],
   "source": [
    "index = VectorStoreIndex.from_documents(docs,service_context=sc)\n",
    "index.storage_context.persist(persist_dir=index_path)"
   ]
  },
  {
   "cell_type": "markdown",
   "id": "cb8661ff-59ec-4c59-8fea-0a5ab36436c8",
   "metadata": {},
   "source": [
    "## Query LLM with Index"
   ]
  },
  {
   "cell_type": "code",
   "execution_count": 14,
   "id": "49f33fc4-f3ff-4a8e-ab70-da15d131dade",
   "metadata": {
    "tags": []
   },
   "outputs": [],
   "source": [
    "from llama_index import StorageContext, load_index_from_storage\n",
    "stc = StorageContext.from_defaults(persist_dir=index_path)\n",
    "index = load_index_from_storage(stc, service_context=sc)\n",
    "engine = index.as_query_engine()"
   ]
  },
  {
   "cell_type": "code",
   "execution_count": 15,
   "id": "6da09772-5756-43d6-b61e-9e0fa39e9609",
   "metadata": {
    "tags": []
   },
   "outputs": [
    {
     "name": "stderr",
     "output_type": "stream",
     "text": [
      "/opt/conda/lib/python3.10/site-packages/langchain_core/_api/deprecation.py:117: LangChainDeprecationWarning: The function `predict` was deprecated in LangChain 0.1.7 and will be removed in 0.2.0. Use invoke instead.\n",
      "  warn_deprecated(\n"
     ]
    }
   ],
   "source": [
    "query = \"How to setup Parental controls?\"\n",
    "resp = engine.query(query)"
   ]
  },
  {
   "cell_type": "code",
   "execution_count": 16,
   "id": "03651cf9-7793-41a0-bdbc-0d8be69636b6",
   "metadata": {
    "tags": []
   },
   "outputs": [
    {
     "name": "stdout",
     "output_type": "stream",
     "text": [
      " Here are the steps to set up Parental Controls on your Amazon Fire TV:\n",
      "\n",
      "1. From the Home screen, select Settings, and then select Parental Controls.\n",
      "\n",
      "2. Using your remote, press the Select button to turn parental controls On. \n",
      "\n",
      "3. Enter your Parental Controls PIN, and then select Next. Your PIN is the same PIN you use for other Amazon services such as Amazon Instant Video.\n",
      "\n",
      "4. After you set a PIN, you can set one or more of the following settings:\n",
      "\n",
      "•Require a PIN for all purchases: This will require a PIN for any purchases made on the Fire TV.\n",
      "\n",
      "•Require a PIN for Amazon Instant Video only: This will require a PIN only for viewing content on Amazon Instant Video. \n",
      "\n",
      "•Block the ability to view or purchase certain content types, such as games, apps, or photos.\n",
      "\n",
      "•Change your Parental Controls PIN:\n"
     ]
    }
   ],
   "source": [
    "#Print Query Response\n",
    "print(resp.response)"
   ]
  },
  {
   "cell_type": "code",
   "execution_count": 17,
   "id": "80e53fbf-9625-4cfa-9e57-5f13283972fc",
   "metadata": {
    "tags": []
   },
   "outputs": [
    {
     "name": "stdout",
     "output_type": "stream",
     "text": [
      "Total number of source nodes 2\n"
     ]
    }
   ],
   "source": [
    "#Browse through the source nodes\n",
    "print(f'Total number of source nodes {len(resp.source_nodes)}')"
   ]
  },
  {
   "cell_type": "code",
   "execution_count": 18,
   "id": "c1f01272-6f0c-4ff4-a1ad-2b8279905542",
   "metadata": {
    "tags": []
   },
   "outputs": [
    {
     "name": "stdout",
     "output_type": "stream",
     "text": [
      "Node 1\n",
      "--------------------\n",
      "text : Set Up Parental Controls\n",
      "With Parental Controls, you can block purchases and restrict access to Amazon movies, TV shows,\n",
      "games, apps, photos, and more.\n",
      "Note: Parental controls do not restrict content in third-party applications. Parental controls for third-party applications\n",
      "are determined by the app provider.\n",
      "When entering the PIN, you will need to use an Amazon remote or the Fire TV Remote App. You cannot\n",
      "use a third-party remote.\n",
      "1. From the Home  screen, select Settings , and then select Parental Controls .\n",
      "2. Using your remote, press the Select  button to turn parental controls On or Off.\n",
      "3. Enter your Parental Controls PIN, and then select Next .\n",
      "Your PIN is the same PIN you use for other Amazon services such as Amazon Instant Video.\n",
      "Note: If you forget your PIN, go to Amazon Instant Video SettingsAmazon Instant Video Settings  (Amazon.com full\n",
      "site)Amazon Instant Video Settings (https://www.amazon.com/video/settings) to reset your Parental Controls PIN.\n",
      "4. After you set a PIN, you can set one or more of the following settings:\n",
      "•Require a PIN for all purchases\n",
      "•Require a PIN for Amazon Instant Video only\n",
      "•Block the ability to view or purchase certain content types, such as games, apps, or photos\n",
      "•Change your Parental Controls PIN\n",
      "After you enable Parental Controls, most actions related to content viewing, purchasing, or changing\n",
      "settings will require you to enter your Parental Controls PIN.\n",
      "Related Help Topics\n",
      "Turn Off In-App Purchasing on page 76\n",
      "Set Up Your Amazon Instant Video PINSet Up Parental Controls\n",
      "16 \n",
      "\n",
      "metadata : {'page_label': '16', 'file_name': 'Amazon_Fire_TV_User_Guide.pdf'}\n",
      "\n",
      "Node 2\n",
      "--------------------\n",
      "text : Turn Off In-App Purchasing\n",
      "You can prevent accidental in-app purchases by turning on Parental Controls.\n",
      "When purchasing is enabled, you can purchase items (such as in-game currency or premium unlocks)\n",
      "within a free or paid app. These items unlock additional functionality, such as new levels in a game, or\n",
      "allow you to purchase subscriptions and more. If you don't want in-app items to be purchased while using a\n",
      "game or app, you can disable the option on your Amazon Fire TV device.\n",
      "1. From the Home  screen, select Settings  > Parental Controls .\n",
      "2. Press the Select  button again to change the button to ON.\n",
      "3. Enter your Amazon Parental Controls PIN (if you already have one) or create a new one, and then\n",
      "select Next .\n",
      "Parental control options will display.\n",
      "Note: If you forget your PIN, visit www.amazon.com/PIN  to reset your Parental Controls PIN.\n",
      "4. Select PIN Protect Purchases  to change the button to ON.\n",
      "With Parental Controls enabled, all purchases on your Amazon Fire TV device will require a PIN.\n",
      "Related Help Topics\n",
      "About In-App Items & Subscriptions\n",
      "Set Up Parental Controls on page 16Turn Off In-App Purchasing\n",
      "76 \n",
      "\n",
      "metadata : {'page_label': '76', 'file_name': 'Amazon_Fire_TV_User_Guide.pdf'}\n",
      "\n"
     ]
    }
   ],
   "source": [
    "for i, n in enumerate(resp.source_nodes):\n",
    "    print(f'Node {i +1}') \n",
    "    print('-' * 20)    \n",
    "    print(f'text : {n.node.text} \\n')\n",
    "    print(f'metadata : {n.node.metadata}\\n')\n"
   ]
  },
  {
   "cell_type": "code",
   "execution_count": null,
   "id": "3a6585b9-19db-4a99-8c84-a00e70b5b7ac",
   "metadata": {},
   "outputs": [],
   "source": []
  }
 ],
 "metadata": {
  "availableInstances": [
   {
    "_defaultOrder": 0,
    "_isFastLaunch": true,
    "category": "General purpose",
    "gpuNum": 0,
    "hideHardwareSpecs": false,
    "memoryGiB": 4,
    "name": "ml.t3.medium",
    "vcpuNum": 2
   },
   {
    "_defaultOrder": 1,
    "_isFastLaunch": false,
    "category": "General purpose",
    "gpuNum": 0,
    "hideHardwareSpecs": false,
    "memoryGiB": 8,
    "name": "ml.t3.large",
    "vcpuNum": 2
   },
   {
    "_defaultOrder": 2,
    "_isFastLaunch": false,
    "category": "General purpose",
    "gpuNum": 0,
    "hideHardwareSpecs": false,
    "memoryGiB": 16,
    "name": "ml.t3.xlarge",
    "vcpuNum": 4
   },
   {
    "_defaultOrder": 3,
    "_isFastLaunch": false,
    "category": "General purpose",
    "gpuNum": 0,
    "hideHardwareSpecs": false,
    "memoryGiB": 32,
    "name": "ml.t3.2xlarge",
    "vcpuNum": 8
   },
   {
    "_defaultOrder": 4,
    "_isFastLaunch": true,
    "category": "General purpose",
    "gpuNum": 0,
    "hideHardwareSpecs": false,
    "memoryGiB": 8,
    "name": "ml.m5.large",
    "vcpuNum": 2
   },
   {
    "_defaultOrder": 5,
    "_isFastLaunch": false,
    "category": "General purpose",
    "gpuNum": 0,
    "hideHardwareSpecs": false,
    "memoryGiB": 16,
    "name": "ml.m5.xlarge",
    "vcpuNum": 4
   },
   {
    "_defaultOrder": 6,
    "_isFastLaunch": false,
    "category": "General purpose",
    "gpuNum": 0,
    "hideHardwareSpecs": false,
    "memoryGiB": 32,
    "name": "ml.m5.2xlarge",
    "vcpuNum": 8
   },
   {
    "_defaultOrder": 7,
    "_isFastLaunch": false,
    "category": "General purpose",
    "gpuNum": 0,
    "hideHardwareSpecs": false,
    "memoryGiB": 64,
    "name": "ml.m5.4xlarge",
    "vcpuNum": 16
   },
   {
    "_defaultOrder": 8,
    "_isFastLaunch": false,
    "category": "General purpose",
    "gpuNum": 0,
    "hideHardwareSpecs": false,
    "memoryGiB": 128,
    "name": "ml.m5.8xlarge",
    "vcpuNum": 32
   },
   {
    "_defaultOrder": 9,
    "_isFastLaunch": false,
    "category": "General purpose",
    "gpuNum": 0,
    "hideHardwareSpecs": false,
    "memoryGiB": 192,
    "name": "ml.m5.12xlarge",
    "vcpuNum": 48
   },
   {
    "_defaultOrder": 10,
    "_isFastLaunch": false,
    "category": "General purpose",
    "gpuNum": 0,
    "hideHardwareSpecs": false,
    "memoryGiB": 256,
    "name": "ml.m5.16xlarge",
    "vcpuNum": 64
   },
   {
    "_defaultOrder": 11,
    "_isFastLaunch": false,
    "category": "General purpose",
    "gpuNum": 0,
    "hideHardwareSpecs": false,
    "memoryGiB": 384,
    "name": "ml.m5.24xlarge",
    "vcpuNum": 96
   },
   {
    "_defaultOrder": 12,
    "_isFastLaunch": false,
    "category": "General purpose",
    "gpuNum": 0,
    "hideHardwareSpecs": false,
    "memoryGiB": 8,
    "name": "ml.m5d.large",
    "vcpuNum": 2
   },
   {
    "_defaultOrder": 13,
    "_isFastLaunch": false,
    "category": "General purpose",
    "gpuNum": 0,
    "hideHardwareSpecs": false,
    "memoryGiB": 16,
    "name": "ml.m5d.xlarge",
    "vcpuNum": 4
   },
   {
    "_defaultOrder": 14,
    "_isFastLaunch": false,
    "category": "General purpose",
    "gpuNum": 0,
    "hideHardwareSpecs": false,
    "memoryGiB": 32,
    "name": "ml.m5d.2xlarge",
    "vcpuNum": 8
   },
   {
    "_defaultOrder": 15,
    "_isFastLaunch": false,
    "category": "General purpose",
    "gpuNum": 0,
    "hideHardwareSpecs": false,
    "memoryGiB": 64,
    "name": "ml.m5d.4xlarge",
    "vcpuNum": 16
   },
   {
    "_defaultOrder": 16,
    "_isFastLaunch": false,
    "category": "General purpose",
    "gpuNum": 0,
    "hideHardwareSpecs": false,
    "memoryGiB": 128,
    "name": "ml.m5d.8xlarge",
    "vcpuNum": 32
   },
   {
    "_defaultOrder": 17,
    "_isFastLaunch": false,
    "category": "General purpose",
    "gpuNum": 0,
    "hideHardwareSpecs": false,
    "memoryGiB": 192,
    "name": "ml.m5d.12xlarge",
    "vcpuNum": 48
   },
   {
    "_defaultOrder": 18,
    "_isFastLaunch": false,
    "category": "General purpose",
    "gpuNum": 0,
    "hideHardwareSpecs": false,
    "memoryGiB": 256,
    "name": "ml.m5d.16xlarge",
    "vcpuNum": 64
   },
   {
    "_defaultOrder": 19,
    "_isFastLaunch": false,
    "category": "General purpose",
    "gpuNum": 0,
    "hideHardwareSpecs": false,
    "memoryGiB": 384,
    "name": "ml.m5d.24xlarge",
    "vcpuNum": 96
   },
   {
    "_defaultOrder": 20,
    "_isFastLaunch": false,
    "category": "General purpose",
    "gpuNum": 0,
    "hideHardwareSpecs": true,
    "memoryGiB": 0,
    "name": "ml.geospatial.interactive",
    "supportedImageNames": [
     "sagemaker-geospatial-v1-0"
    ],
    "vcpuNum": 0
   },
   {
    "_defaultOrder": 21,
    "_isFastLaunch": true,
    "category": "Compute optimized",
    "gpuNum": 0,
    "hideHardwareSpecs": false,
    "memoryGiB": 4,
    "name": "ml.c5.large",
    "vcpuNum": 2
   },
   {
    "_defaultOrder": 22,
    "_isFastLaunch": false,
    "category": "Compute optimized",
    "gpuNum": 0,
    "hideHardwareSpecs": false,
    "memoryGiB": 8,
    "name": "ml.c5.xlarge",
    "vcpuNum": 4
   },
   {
    "_defaultOrder": 23,
    "_isFastLaunch": false,
    "category": "Compute optimized",
    "gpuNum": 0,
    "hideHardwareSpecs": false,
    "memoryGiB": 16,
    "name": "ml.c5.2xlarge",
    "vcpuNum": 8
   },
   {
    "_defaultOrder": 24,
    "_isFastLaunch": false,
    "category": "Compute optimized",
    "gpuNum": 0,
    "hideHardwareSpecs": false,
    "memoryGiB": 32,
    "name": "ml.c5.4xlarge",
    "vcpuNum": 16
   },
   {
    "_defaultOrder": 25,
    "_isFastLaunch": false,
    "category": "Compute optimized",
    "gpuNum": 0,
    "hideHardwareSpecs": false,
    "memoryGiB": 72,
    "name": "ml.c5.9xlarge",
    "vcpuNum": 36
   },
   {
    "_defaultOrder": 26,
    "_isFastLaunch": false,
    "category": "Compute optimized",
    "gpuNum": 0,
    "hideHardwareSpecs": false,
    "memoryGiB": 96,
    "name": "ml.c5.12xlarge",
    "vcpuNum": 48
   },
   {
    "_defaultOrder": 27,
    "_isFastLaunch": false,
    "category": "Compute optimized",
    "gpuNum": 0,
    "hideHardwareSpecs": false,
    "memoryGiB": 144,
    "name": "ml.c5.18xlarge",
    "vcpuNum": 72
   },
   {
    "_defaultOrder": 28,
    "_isFastLaunch": false,
    "category": "Compute optimized",
    "gpuNum": 0,
    "hideHardwareSpecs": false,
    "memoryGiB": 192,
    "name": "ml.c5.24xlarge",
    "vcpuNum": 96
   },
   {
    "_defaultOrder": 29,
    "_isFastLaunch": true,
    "category": "Accelerated computing",
    "gpuNum": 1,
    "hideHardwareSpecs": false,
    "memoryGiB": 16,
    "name": "ml.g4dn.xlarge",
    "vcpuNum": 4
   },
   {
    "_defaultOrder": 30,
    "_isFastLaunch": false,
    "category": "Accelerated computing",
    "gpuNum": 1,
    "hideHardwareSpecs": false,
    "memoryGiB": 32,
    "name": "ml.g4dn.2xlarge",
    "vcpuNum": 8
   },
   {
    "_defaultOrder": 31,
    "_isFastLaunch": false,
    "category": "Accelerated computing",
    "gpuNum": 1,
    "hideHardwareSpecs": false,
    "memoryGiB": 64,
    "name": "ml.g4dn.4xlarge",
    "vcpuNum": 16
   },
   {
    "_defaultOrder": 32,
    "_isFastLaunch": false,
    "category": "Accelerated computing",
    "gpuNum": 1,
    "hideHardwareSpecs": false,
    "memoryGiB": 128,
    "name": "ml.g4dn.8xlarge",
    "vcpuNum": 32
   },
   {
    "_defaultOrder": 33,
    "_isFastLaunch": false,
    "category": "Accelerated computing",
    "gpuNum": 4,
    "hideHardwareSpecs": false,
    "memoryGiB": 192,
    "name": "ml.g4dn.12xlarge",
    "vcpuNum": 48
   },
   {
    "_defaultOrder": 34,
    "_isFastLaunch": false,
    "category": "Accelerated computing",
    "gpuNum": 1,
    "hideHardwareSpecs": false,
    "memoryGiB": 256,
    "name": "ml.g4dn.16xlarge",
    "vcpuNum": 64
   },
   {
    "_defaultOrder": 35,
    "_isFastLaunch": false,
    "category": "Accelerated computing",
    "gpuNum": 1,
    "hideHardwareSpecs": false,
    "memoryGiB": 61,
    "name": "ml.p3.2xlarge",
    "vcpuNum": 8
   },
   {
    "_defaultOrder": 36,
    "_isFastLaunch": false,
    "category": "Accelerated computing",
    "gpuNum": 4,
    "hideHardwareSpecs": false,
    "memoryGiB": 244,
    "name": "ml.p3.8xlarge",
    "vcpuNum": 32
   },
   {
    "_defaultOrder": 37,
    "_isFastLaunch": false,
    "category": "Accelerated computing",
    "gpuNum": 8,
    "hideHardwareSpecs": false,
    "memoryGiB": 488,
    "name": "ml.p3.16xlarge",
    "vcpuNum": 64
   },
   {
    "_defaultOrder": 38,
    "_isFastLaunch": false,
    "category": "Accelerated computing",
    "gpuNum": 8,
    "hideHardwareSpecs": false,
    "memoryGiB": 768,
    "name": "ml.p3dn.24xlarge",
    "vcpuNum": 96
   },
   {
    "_defaultOrder": 39,
    "_isFastLaunch": false,
    "category": "Memory Optimized",
    "gpuNum": 0,
    "hideHardwareSpecs": false,
    "memoryGiB": 16,
    "name": "ml.r5.large",
    "vcpuNum": 2
   },
   {
    "_defaultOrder": 40,
    "_isFastLaunch": false,
    "category": "Memory Optimized",
    "gpuNum": 0,
    "hideHardwareSpecs": false,
    "memoryGiB": 32,
    "name": "ml.r5.xlarge",
    "vcpuNum": 4
   },
   {
    "_defaultOrder": 41,
    "_isFastLaunch": false,
    "category": "Memory Optimized",
    "gpuNum": 0,
    "hideHardwareSpecs": false,
    "memoryGiB": 64,
    "name": "ml.r5.2xlarge",
    "vcpuNum": 8
   },
   {
    "_defaultOrder": 42,
    "_isFastLaunch": false,
    "category": "Memory Optimized",
    "gpuNum": 0,
    "hideHardwareSpecs": false,
    "memoryGiB": 128,
    "name": "ml.r5.4xlarge",
    "vcpuNum": 16
   },
   {
    "_defaultOrder": 43,
    "_isFastLaunch": false,
    "category": "Memory Optimized",
    "gpuNum": 0,
    "hideHardwareSpecs": false,
    "memoryGiB": 256,
    "name": "ml.r5.8xlarge",
    "vcpuNum": 32
   },
   {
    "_defaultOrder": 44,
    "_isFastLaunch": false,
    "category": "Memory Optimized",
    "gpuNum": 0,
    "hideHardwareSpecs": false,
    "memoryGiB": 384,
    "name": "ml.r5.12xlarge",
    "vcpuNum": 48
   },
   {
    "_defaultOrder": 45,
    "_isFastLaunch": false,
    "category": "Memory Optimized",
    "gpuNum": 0,
    "hideHardwareSpecs": false,
    "memoryGiB": 512,
    "name": "ml.r5.16xlarge",
    "vcpuNum": 64
   },
   {
    "_defaultOrder": 46,
    "_isFastLaunch": false,
    "category": "Memory Optimized",
    "gpuNum": 0,
    "hideHardwareSpecs": false,
    "memoryGiB": 768,
    "name": "ml.r5.24xlarge",
    "vcpuNum": 96
   },
   {
    "_defaultOrder": 47,
    "_isFastLaunch": false,
    "category": "Accelerated computing",
    "gpuNum": 1,
    "hideHardwareSpecs": false,
    "memoryGiB": 16,
    "name": "ml.g5.xlarge",
    "vcpuNum": 4
   },
   {
    "_defaultOrder": 48,
    "_isFastLaunch": false,
    "category": "Accelerated computing",
    "gpuNum": 1,
    "hideHardwareSpecs": false,
    "memoryGiB": 32,
    "name": "ml.g5.2xlarge",
    "vcpuNum": 8
   },
   {
    "_defaultOrder": 49,
    "_isFastLaunch": false,
    "category": "Accelerated computing",
    "gpuNum": 1,
    "hideHardwareSpecs": false,
    "memoryGiB": 64,
    "name": "ml.g5.4xlarge",
    "vcpuNum": 16
   },
   {
    "_defaultOrder": 50,
    "_isFastLaunch": false,
    "category": "Accelerated computing",
    "gpuNum": 1,
    "hideHardwareSpecs": false,
    "memoryGiB": 128,
    "name": "ml.g5.8xlarge",
    "vcpuNum": 32
   },
   {
    "_defaultOrder": 51,
    "_isFastLaunch": false,
    "category": "Accelerated computing",
    "gpuNum": 1,
    "hideHardwareSpecs": false,
    "memoryGiB": 256,
    "name": "ml.g5.16xlarge",
    "vcpuNum": 64
   },
   {
    "_defaultOrder": 52,
    "_isFastLaunch": false,
    "category": "Accelerated computing",
    "gpuNum": 4,
    "hideHardwareSpecs": false,
    "memoryGiB": 192,
    "name": "ml.g5.12xlarge",
    "vcpuNum": 48
   },
   {
    "_defaultOrder": 53,
    "_isFastLaunch": false,
    "category": "Accelerated computing",
    "gpuNum": 4,
    "hideHardwareSpecs": false,
    "memoryGiB": 384,
    "name": "ml.g5.24xlarge",
    "vcpuNum": 96
   },
   {
    "_defaultOrder": 54,
    "_isFastLaunch": false,
    "category": "Accelerated computing",
    "gpuNum": 8,
    "hideHardwareSpecs": false,
    "memoryGiB": 768,
    "name": "ml.g5.48xlarge",
    "vcpuNum": 192
   },
   {
    "_defaultOrder": 55,
    "_isFastLaunch": false,
    "category": "Accelerated computing",
    "gpuNum": 8,
    "hideHardwareSpecs": false,
    "memoryGiB": 1152,
    "name": "ml.p4d.24xlarge",
    "vcpuNum": 96
   },
   {
    "_defaultOrder": 56,
    "_isFastLaunch": false,
    "category": "Accelerated computing",
    "gpuNum": 8,
    "hideHardwareSpecs": false,
    "memoryGiB": 1152,
    "name": "ml.p4de.24xlarge",
    "vcpuNum": 96
   }
  ],
  "instance_type": "ml.m5.2xlarge",
  "kernelspec": {
   "display_name": "Python 3 (ipykernel)",
   "language": "python",
   "name": "python3"
  },
  "language_info": {
   "codemirror_mode": {
    "name": "ipython",
    "version": 3
   },
   "file_extension": ".py",
   "mimetype": "text/x-python",
   "name": "python",
   "nbconvert_exporter": "python",
   "pygments_lexer": "ipython3",
   "version": "3.10.13"
  }
 },
 "nbformat": 4,
 "nbformat_minor": 5
}
