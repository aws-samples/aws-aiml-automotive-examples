{
 "cells": [
  {
   "cell_type": "markdown",
   "id": "e752613d-5548-4fe0-bbab-24b0ddce000e",
   "metadata": {},
   "source": [
    "# Bedrock Additional Features - Streaming support & Retry \n",
    "\n",
    "This notebook covers additional features and controls with Bedrock. This covers Streaming and Retry mechanism\n",
    "\n",
    "(This notebook was tested on SageMaker Studio ml.m5.2xlarge instance with Datascience 3.0 kernel)"
   ]
  },
  {
   "cell_type": "markdown",
   "id": "540a1d96-61f4-4044-be00-76e6900ac728",
   "metadata": {},
   "source": [
    "## Pre-requisites"
   ]
  },
  {
   "cell_type": "code",
   "execution_count": 2,
   "id": "cadeed82-fd7b-4b62-8ee0-bb2703694af4",
   "metadata": {
    "tags": []
   },
   "outputs": [
    {
     "data": {
      "text/plain": [
       "'3.10.6 (main, Oct  7 2022, 20:19:58) [GCC 11.2.0]'"
      ]
     },
     "execution_count": 2,
     "metadata": {},
     "output_type": "execute_result"
    }
   ],
   "source": [
    "#Check Python version is greater than 3.8 which is required by Langchain if you want to use Langchain\n",
    "import sys\n",
    "sys.version"
   ]
  },
  {
   "cell_type": "markdown",
   "id": "72f2ef08-3b26-4552-a614-5418c98100f5",
   "metadata": {},
   "source": [
    "## Install SDK\n",
    "We will download the latest version of the SDK and unzip the archive into a folder"
   ]
  },
  {
   "cell_type": "code",
   "execution_count": null,
   "id": "e084b91f-1ddf-4bea-b453-3d2f7f2f5fa2",
   "metadata": {},
   "outputs": [],
   "source": [
    "!wget https://d2eo22ngex1n9g.cloudfront.net/Documentation/SDK/bedrock-python-sdk.zip -P bedrock_docs/"
   ]
  },
  {
   "cell_type": "code",
   "execution_count": null,
   "id": "3a832eef-48ab-4442-8fb3-f526f325c47e",
   "metadata": {},
   "outputs": [],
   "source": [
    "!unzip -o bedrock_docs/bedrock-python-sdk.zip -d bedrock_docs/SDK-1-28"
   ]
  },
  {
   "cell_type": "markdown",
   "id": "e55699cd-df40-4b9a-991d-0665ceee80bf",
   "metadata": {},
   "source": [
    "### Uninstall previous version of SDK"
   ]
  },
  {
   "cell_type": "code",
   "execution_count": null,
   "id": "b69512c9-e00b-4f60-9230-523908e1b1e2",
   "metadata": {},
   "outputs": [],
   "source": [
    "!python3 -m pip uninstall bedrock_docs/SDK/boto3-1.26.162-py3-none-any.whl -y\n",
    "!python3 -m pip uninstall bedrock_docs/SDK/botocore-1.29.162-py3-none-any.whl -y"
   ]
  },
  {
   "cell_type": "code",
   "execution_count": null,
   "id": "7b1025bd-ccae-4a61-8ef4-02d352c04255",
   "metadata": {
    "tags": []
   },
   "outputs": [],
   "source": [
    "!python3 -m pip install bedrock_docs/SDK-1-28/boto3-1.28.21-py3-none-any.whl\n",
    "!python3 -m pip install bedrock_docs/SDK-1-28/botocore-1.31.21-py3-none-any.whl"
   ]
  },
  {
   "cell_type": "markdown",
   "id": "77330f6d-e564-4ce1-8c65-cd24fed97742",
   "metadata": {},
   "source": [
    "## Install Dependencies"
   ]
  },
  {
   "cell_type": "code",
   "execution_count": null,
   "id": "42bd2649-ea24-4c7a-ae62-8ef8995b3438",
   "metadata": {
    "tags": []
   },
   "outputs": [],
   "source": [
    "!pip install langchain --upgrade"
   ]
  },
  {
   "cell_type": "markdown",
   "id": "315cb643-9469-4fe4-b2e3-dc1e2e9bfccc",
   "metadata": {},
   "source": [
    "## Restart Kernel"
   ]
  },
  {
   "cell_type": "code",
   "execution_count": null,
   "id": "cd5e55c1-a02e-4a10-9109-bcafdce969df",
   "metadata": {
    "tags": []
   },
   "outputs": [],
   "source": [
    "import IPython\n",
    "app = IPython.Application.instance()\n",
    "app.kernel.do_shutdown(True)  "
   ]
  },
  {
   "cell_type": "code",
   "execution_count": 3,
   "id": "9b375a01-6192-4012-a3c2-493a8c14b7bd",
   "metadata": {
    "tags": []
   },
   "outputs": [
    {
     "data": {
      "text/plain": [
       "'3.10.6 (main, Oct  7 2022, 20:19:58) [GCC 11.2.0]'"
      ]
     },
     "execution_count": 3,
     "metadata": {},
     "output_type": "execute_result"
    }
   ],
   "source": [
    "#Check Python version is greater than 3.8 which is required by Langchain if you want to use Langchain\n",
    "import sys\n",
    "sys.version"
   ]
  },
  {
   "cell_type": "code",
   "execution_count": 4,
   "id": "a078262a-4eb2-41e8-ab8d-7ec69f6e1e14",
   "metadata": {
    "tags": []
   },
   "outputs": [],
   "source": [
    "assert sys.version_info >= (3, 8)"
   ]
  },
  {
   "cell_type": "code",
   "execution_count": 5,
   "id": "60496eba-ecc2-4a78-a788-a99738788c0c",
   "metadata": {
    "tags": []
   },
   "outputs": [],
   "source": [
    "import langchain"
   ]
  },
  {
   "cell_type": "code",
   "execution_count": 6,
   "id": "9e20737d-9659-43b1-94c3-718866d76beb",
   "metadata": {
    "tags": []
   },
   "outputs": [
    {
     "data": {
      "text/plain": [
       "'0.0.279'"
      ]
     },
     "execution_count": 6,
     "metadata": {},
     "output_type": "execute_result"
    }
   ],
   "source": [
    "langchain.__version__"
   ]
  },
  {
   "cell_type": "code",
   "execution_count": 7,
   "id": "cceb71a6-a909-4bf2-9fc2-d52b7bd34b93",
   "metadata": {
    "tags": []
   },
   "outputs": [],
   "source": [
    "import sagemaker\n",
    "import boto3\n",
    "session = boto3.Session()\n",
    "sagemaker_session = sagemaker.Session()\n",
    "studio_region = sagemaker_session.boto_region_name \n",
    "#sagemaker_session.get_caller_identity_arn()"
   ]
  },
  {
   "cell_type": "code",
   "execution_count": 8,
   "id": "df5aede8-41eb-47ac-b244-acff46d41f52",
   "metadata": {
    "tags": []
   },
   "outputs": [],
   "source": [
    "import json\n",
    "\n",
    "#Create Bedrock client\n",
    "bedrock = boto3.client('bedrock' , 'us-east-1', endpoint_url='https://bedrock.us-east-1.amazonaws.com')\n",
    "prompt_data = \"\"\"Command: Write me a blog about making strong business decisions as a leader.\\nBlog:\"\"\""
   ]
  },
  {
   "cell_type": "markdown",
   "id": "39501c9f-af72-43dc-afef-26554291fa08",
   "metadata": {
    "tags": []
   },
   "source": [
    "## Streaming Response\n",
    "Bedrock provides streaming inference for models that support streaming. To run inference with streaming, use the InvokeModelWithResponseStream operation."
   ]
  },
  {
   "cell_type": "code",
   "execution_count": 9,
   "id": "05542a82-7547-4adb-8929-0be820519b1a",
   "metadata": {
    "tags": []
   },
   "outputs": [
    {
     "data": {
      "text/markdown": [
       "\n",
       "Business leaders make many decisions every day that shape and affect their organizations. However, some decisions end up being more critical than others, setting the path for success or leading to challenges down the road. Making strong business decisions requires a thoughtful approach, considering all available options and their potential consequences. Here are some strategies for making decisive yet well-reasoned calls as a leader:\n",
       "Research thoroughly. Do not rely on first impressions or quick analysis alone. Gather as many relevant facts, data, and expert opinions as possible before deciding on a course of action. Evaluate all possible options methodically, weighing pros and cons in an objective manner. This thorough research helps ensure important considerations are not missed.\n",
       "Consult with others. Seek input from employees, customers, industry peers, and experts. Multiple viewpoints can reveal insights and angles that one person may not think of. Discussing options with stakeholders also helps explain the rationale behind choices, building understanding and buy-in. Just be careful not to premature"
      ]
     },
     "metadata": {},
     "output_type": "display_data"
    }
   ],
   "source": [
    "from IPython.display import display, display_markdown, Markdown, clear_output\n",
    "\n",
    "body = json.dumps({\"prompt\": prompt_data, \"max_tokens_to_sample\": 200})\n",
    "modelId = \"anthropic.claude-instant-v1\"  \n",
    "accept = \"application/json\"\n",
    "contentType = \"application/json\"\n",
    "\n",
    "response = bedrock.invoke_model_with_response_stream(body=body, modelId=modelId, accept=accept, contentType=contentType)\n",
    "stream = response.get('body')\n",
    "output = []\n",
    "\n",
    "if stream:\n",
    "    for event in stream:\n",
    "        chunk = event.get('chunk')\n",
    "        if chunk:\n",
    "            chunk_obj = json.loads(chunk.get('bytes').decode())\n",
    "            text = chunk_obj['completion']\n",
    "            clear_output(wait=True)\n",
    "            output.append(text)\n",
    "            display_markdown(Markdown(''.join(output)))"
   ]
  },
  {
   "cell_type": "markdown",
   "id": "51807a6e-79f1-4ff4-bb04-99134c0cb551",
   "metadata": {},
   "source": [
    "## Bedrock boto3 client API calls with retry\n",
    "The code sniippet below shows how to implement retry with Botocore configuration. For more details check the [documentation.](https://botocore.amazonaws.com/v1/documentation/api/latest/reference/config.html)\n",
    "\n",
    "**total_max_attempts** :An integer representing the maximum number of total attempts that will be made on a single request. This includes the initial request, so a value of 1 indicates that no requests will be retried.\n",
    "\n",
    "**mode**: Possible values legacy, standard and adaptive.\n",
    "\n",
    "- legacy - The pre-existing retry behavior.\n",
    "- standard - The standardized set of retry rules. This will also default to 3 max attempts unless overridden.\n",
    "- adaptive - Retries with additional client side throttling.\n"
   ]
  },
  {
   "cell_type": "code",
   "execution_count": 10,
   "id": "5ce411f4-44cd-4786-989d-3efd6c91504f",
   "metadata": {
    "tags": []
   },
   "outputs": [
    {
     "data": {
      "text/plain": [
       "{'ResponseMetadata': {'RequestId': 'aee0c94a-572c-49b4-af73-b75cacfedc4c',\n",
       "  'HTTPStatusCode': 200,\n",
       "  'HTTPHeaders': {'date': 'Fri, 01 Sep 2023 20:16:52 GMT',\n",
       "   'content-type': 'application/json',\n",
       "   'content-length': '1166',\n",
       "   'connection': 'keep-alive',\n",
       "   'x-amzn-requestid': 'aee0c94a-572c-49b4-af73-b75cacfedc4c'},\n",
       "  'RetryAttempts': 0},\n",
       " 'modelSummaries': [{'modelArn': 'arn:aws:bedrock:us-east-1::foundation-model/amazon.titan-tg1-large',\n",
       "   'modelId': 'amazon.titan-tg1-large'},\n",
       "  {'modelArn': 'arn:aws:bedrock:us-east-1::foundation-model/amazon.titan-e1t-medium',\n",
       "   'modelId': 'amazon.titan-e1t-medium'},\n",
       "  {'modelArn': 'arn:aws:bedrock:us-east-1::foundation-model/stability.stable-diffusion-xl',\n",
       "   'modelId': 'stability.stable-diffusion-xl'},\n",
       "  {'modelArn': 'arn:aws:bedrock:us-east-1::foundation-model/ai21.j2-grande-instruct',\n",
       "   'modelId': 'ai21.j2-grande-instruct'},\n",
       "  {'modelArn': 'arn:aws:bedrock:us-east-1::foundation-model/ai21.j2-jumbo-instruct',\n",
       "   'modelId': 'ai21.j2-jumbo-instruct'},\n",
       "  {'modelArn': 'arn:aws:bedrock:us-east-1::foundation-model/ai21.j2-mid',\n",
       "   'modelId': 'ai21.j2-mid'},\n",
       "  {'modelArn': 'arn:aws:bedrock:us-east-1::foundation-model/ai21.j2-ultra',\n",
       "   'modelId': 'ai21.j2-ultra'},\n",
       "  {'modelArn': 'arn:aws:bedrock:us-east-1::foundation-model/anthropic.claude-instant-v1',\n",
       "   'modelId': 'anthropic.claude-instant-v1'},\n",
       "  {'modelArn': 'arn:aws:bedrock:us-east-1::foundation-model/anthropic.claude-v1',\n",
       "   'modelId': 'anthropic.claude-v1'},\n",
       "  {'modelArn': 'arn:aws:bedrock:us-east-1::foundation-model/anthropic.claude-v2',\n",
       "   'modelId': 'anthropic.claude-v2'}]}"
      ]
     },
     "execution_count": 10,
     "metadata": {},
     "output_type": "execute_result"
    }
   ],
   "source": [
    "import boto3\n",
    "from botocore.config import Config\n",
    "\n",
    "config = Config(\n",
    "   retries = {\n",
    "      'total_max_attempts': 10, #This includes total attempts including the initial attempt\n",
    "      'mode': 'standard' # legacy, standard, adaptive\n",
    "   }\n",
    ")\n",
    "\n",
    "#Create Bedrock client\n",
    "bedrock = boto3.client('bedrock' , 'us-east-1', endpoint_url='https://bedrock.us-east-1.amazonaws.com',config=config)\n",
    "bedrock.list_foundation_models()"
   ]
  },
  {
   "cell_type": "markdown",
   "id": "b529f80a-9f28-4a70-b21f-ce39e268d0b4",
   "metadata": {},
   "source": [
    "## Retry option when using Langchain\n",
    "You can pass the Boto3 client created with retry attempts configuration when creating Bedrock LLM with Langchain "
   ]
  },
  {
   "cell_type": "code",
   "execution_count": 11,
   "id": "06a6db52-cc3e-4dbc-bac8-9ad9b6c8ad77",
   "metadata": {
    "tags": []
   },
   "outputs": [
    {
     "data": {
      "text/plain": [
       "\" Making strong business decisions as a leader requires a combination of strategic thinking, careful analysis, and insight into the ever-changing market and industry trends. In this blog post, we'll explore some key factors that leaders should consider when making important business decisions.\\nUnderstand the Business Objective:\\nBefore making any business decision, it's crucial to have a clear understanding of the organization's overall objectives and the specific goals that the decision is intended to achieve. This ensures that the decision aligns with the company's vision\""
      ]
     },
     "execution_count": 11,
     "metadata": {},
     "output_type": "execute_result"
    }
   ],
   "source": [
    "import boto3\n",
    "from botocore.config import Config\n",
    "from langchain.llms.bedrock import Bedrock\n",
    "\n",
    "config = Config(\n",
    "   retries = {\n",
    "      'total_max_attempts': 10, #This includes total attempts including the initial attempt\n",
    "      'mode': 'standard' # legacy, standard, adaptive\n",
    "   }\n",
    ")\n",
    "\n",
    "#Create Bedrock client\n",
    "bedrock = boto3.client('bedrock' , 'us-east-1', endpoint_url='https://bedrock.us-east-1.amazonaws.com',config=config)\n",
    "\n",
    "#Pass the client to create Bedrock\n",
    "llm = Bedrock(\n",
    "        client=bedrock,\n",
    "        model_id=\"amazon.titan-tg1-large\",\n",
    "        model_kwargs={\"temperature\": 0.5, \"maxTokenCount\": 100}\n",
    "    )\n",
    "\n",
    "llm(prompt_data)"
   ]
  },
  {
   "cell_type": "markdown",
   "id": "c08c3249-031e-4c8f-b900-1f1e7aa7a93d",
   "metadata": {},
   "source": [
    "## Submitting a batch with Retry attempts\n",
    "You can submit a batch of requests with retry attempts config enabled client"
   ]
  },
  {
   "cell_type": "code",
   "execution_count": 18,
   "id": "6312a51e-63d9-4060-8737-08229390d6ee",
   "metadata": {
    "tags": []
   },
   "outputs": [],
   "source": [
    "from concurrent.futures import ThreadPoolExecutor, as_completed\n",
    "\n",
    "class ThrottlingException(Exception):\n",
    "    \"Raised when Langchain llm gets retry error\"\n",
    "    pass\n",
    "\n",
    "def bedrock_llm_call(prompt):\n",
    "    try:\n",
    "        return llm(prompt)\n",
    "    except ValueError as ex:\n",
    "        print(f\"Received value error. Details {ex}\")\n",
    "        raise ThrottlingException(f\"Retry error encounetred. Failed to process data {prompt}.\")"
   ]
  },
  {
   "cell_type": "code",
   "execution_count": 19,
   "id": "12d1a8ab-6b36-4d4d-bf34-c0b861843759",
   "metadata": {
    "tags": []
   },
   "outputs": [
    {
     "name": "stdout",
     "output_type": "stream",
     "text": [
      "1: Prompt: Command: Write me a blog about making strong business decisions as a leader. Limit your response to 1 sentence(s). \n",
      "Blog: Response:  Making strong business decisions as a leader requires a combination of strategic thinking, careful analysis, and insight into market trends and customer needs.\n",
      "2: Prompt: Command: Write me a blog about making strong business decisions as a leader. Limit your response to 2 sentence(s). \n",
      "Blog: Response:  Making strong business decisions as a leader requires a combination of strategic thinking, careful analysis, and insight into market trends. Leaders must be able to weigh the potential risks and benefits of different options and make a decision that aligns with the overall goals and mission of the organization. In addition, effective decision-making also requires effective communication with stakeholders and the ability to adapt to changing circumstances.\n",
      "3: Prompt: Command: Write me a blog about making strong business decisions as a leader. Limit your response to 3 sentence(s). \n",
      "Blog: Response: \n",
      "Making strong business decisions as a leader requires a combination of strategic thinking, careful analysis, and insight. Leaders must be able to weigh the pros and cons of different options while also considering the potential impact on their team, stakeholders, and the overall success of the organization. In order to make informed decisions, leaders must stay informed about industry trends, market conditions, and the evolving needs of their customers. They must also be able to balance short-term goals with long-term vision and have the courage\n",
      "4: Prompt: Command: Write me a blog about making strong business decisions as a leader. Limit your response to 4 sentence(s). \n",
      "Blog: Response: \n",
      "As a leader, making strong business decisions is crucial for the success and growth of the organization. Here are some key factors to consider when making difficult decisions:\n",
      "\n",
      "Understand the situation: Begin by gathering as much information as possible about the situation and the potential decisions. Identify the key stakeholders, gather data, and analyze the potential outcomes of each option.\n",
      "\n",
      "Define clear goals and objectives: Clearly define what you hope to achieve with the decision. Ensure that the goals are SMART (specific,\n",
      "5: Prompt: Command: Write me a blog about making strong business decisions as a leader. Limit your response to 5 sentence(s). \n",
      "Blog: Response: \n",
      "As a leader, making strong business decisions is crucial for the success and growth of the organization. Here are some key factors to consider when making difficult decisions:\n",
      "\n",
      "Gather accurate and relevant information: Before making a decision, gather all the necessary information about the situation. Talk to experts, analyze data, and consider multiple perspectives.\n",
      "\n",
      "Understand the desired outcome: Clearly define what you want to achieve with the decision. Identify the potential outcomes and their associated risks and benefits.\n",
      "\n",
      "Consider stakeholder\n"
     ]
    }
   ],
   "source": [
    "batch_prompt_data = []\n",
    "\n",
    "prompt_template = \"\"\"Command: Write me a blog about making strong business decisions as a leader. Limit your response to {n} sentence(s). \\nBlog:\"\"\"\n",
    "\n",
    "for i in range(1,6):\n",
    "    batch_prompt_data.append(prompt_template.format(n=i))\n",
    "\n",
    "with ThreadPoolExecutor(max_workers=3) as executor:\n",
    "    #Create KV pairs\n",
    "    submitted_items = {executor.submit(bedrock_llm_call, d): d for d in batch_prompt_data}\n",
    "\n",
    "    for i, future in enumerate(as_completed(submitted_items)):\n",
    "        d = submitted_items[future]\n",
    "        try:\n",
    "            resp = future.result()\n",
    "            print(f\"{i +1}: Prompt: {d} Response: {resp}\")\n",
    "        except ThrottlingException as ex:\n",
    "            print(f\"Received Throttling exception: {ex}\")"
   ]
  },
  {
   "cell_type": "code",
   "execution_count": null,
   "id": "d0e3f27e-d778-4951-92bd-d385bc03c842",
   "metadata": {},
   "outputs": [],
   "source": []
  }
 ],
 "metadata": {
  "availableInstances": [
   {
    "_defaultOrder": 0,
    "_isFastLaunch": true,
    "category": "General purpose",
    "gpuNum": 0,
    "hideHardwareSpecs": false,
    "memoryGiB": 4,
    "name": "ml.t3.medium",
    "vcpuNum": 2
   },
   {
    "_defaultOrder": 1,
    "_isFastLaunch": false,
    "category": "General purpose",
    "gpuNum": 0,
    "hideHardwareSpecs": false,
    "memoryGiB": 8,
    "name": "ml.t3.large",
    "vcpuNum": 2
   },
   {
    "_defaultOrder": 2,
    "_isFastLaunch": false,
    "category": "General purpose",
    "gpuNum": 0,
    "hideHardwareSpecs": false,
    "memoryGiB": 16,
    "name": "ml.t3.xlarge",
    "vcpuNum": 4
   },
   {
    "_defaultOrder": 3,
    "_isFastLaunch": false,
    "category": "General purpose",
    "gpuNum": 0,
    "hideHardwareSpecs": false,
    "memoryGiB": 32,
    "name": "ml.t3.2xlarge",
    "vcpuNum": 8
   },
   {
    "_defaultOrder": 4,
    "_isFastLaunch": true,
    "category": "General purpose",
    "gpuNum": 0,
    "hideHardwareSpecs": false,
    "memoryGiB": 8,
    "name": "ml.m5.large",
    "vcpuNum": 2
   },
   {
    "_defaultOrder": 5,
    "_isFastLaunch": false,
    "category": "General purpose",
    "gpuNum": 0,
    "hideHardwareSpecs": false,
    "memoryGiB": 16,
    "name": "ml.m5.xlarge",
    "vcpuNum": 4
   },
   {
    "_defaultOrder": 6,
    "_isFastLaunch": false,
    "category": "General purpose",
    "gpuNum": 0,
    "hideHardwareSpecs": false,
    "memoryGiB": 32,
    "name": "ml.m5.2xlarge",
    "vcpuNum": 8
   },
   {
    "_defaultOrder": 7,
    "_isFastLaunch": false,
    "category": "General purpose",
    "gpuNum": 0,
    "hideHardwareSpecs": false,
    "memoryGiB": 64,
    "name": "ml.m5.4xlarge",
    "vcpuNum": 16
   },
   {
    "_defaultOrder": 8,
    "_isFastLaunch": false,
    "category": "General purpose",
    "gpuNum": 0,
    "hideHardwareSpecs": false,
    "memoryGiB": 128,
    "name": "ml.m5.8xlarge",
    "vcpuNum": 32
   },
   {
    "_defaultOrder": 9,
    "_isFastLaunch": false,
    "category": "General purpose",
    "gpuNum": 0,
    "hideHardwareSpecs": false,
    "memoryGiB": 192,
    "name": "ml.m5.12xlarge",
    "vcpuNum": 48
   },
   {
    "_defaultOrder": 10,
    "_isFastLaunch": false,
    "category": "General purpose",
    "gpuNum": 0,
    "hideHardwareSpecs": false,
    "memoryGiB": 256,
    "name": "ml.m5.16xlarge",
    "vcpuNum": 64
   },
   {
    "_defaultOrder": 11,
    "_isFastLaunch": false,
    "category": "General purpose",
    "gpuNum": 0,
    "hideHardwareSpecs": false,
    "memoryGiB": 384,
    "name": "ml.m5.24xlarge",
    "vcpuNum": 96
   },
   {
    "_defaultOrder": 12,
    "_isFastLaunch": false,
    "category": "General purpose",
    "gpuNum": 0,
    "hideHardwareSpecs": false,
    "memoryGiB": 8,
    "name": "ml.m5d.large",
    "vcpuNum": 2
   },
   {
    "_defaultOrder": 13,
    "_isFastLaunch": false,
    "category": "General purpose",
    "gpuNum": 0,
    "hideHardwareSpecs": false,
    "memoryGiB": 16,
    "name": "ml.m5d.xlarge",
    "vcpuNum": 4
   },
   {
    "_defaultOrder": 14,
    "_isFastLaunch": false,
    "category": "General purpose",
    "gpuNum": 0,
    "hideHardwareSpecs": false,
    "memoryGiB": 32,
    "name": "ml.m5d.2xlarge",
    "vcpuNum": 8
   },
   {
    "_defaultOrder": 15,
    "_isFastLaunch": false,
    "category": "General purpose",
    "gpuNum": 0,
    "hideHardwareSpecs": false,
    "memoryGiB": 64,
    "name": "ml.m5d.4xlarge",
    "vcpuNum": 16
   },
   {
    "_defaultOrder": 16,
    "_isFastLaunch": false,
    "category": "General purpose",
    "gpuNum": 0,
    "hideHardwareSpecs": false,
    "memoryGiB": 128,
    "name": "ml.m5d.8xlarge",
    "vcpuNum": 32
   },
   {
    "_defaultOrder": 17,
    "_isFastLaunch": false,
    "category": "General purpose",
    "gpuNum": 0,
    "hideHardwareSpecs": false,
    "memoryGiB": 192,
    "name": "ml.m5d.12xlarge",
    "vcpuNum": 48
   },
   {
    "_defaultOrder": 18,
    "_isFastLaunch": false,
    "category": "General purpose",
    "gpuNum": 0,
    "hideHardwareSpecs": false,
    "memoryGiB": 256,
    "name": "ml.m5d.16xlarge",
    "vcpuNum": 64
   },
   {
    "_defaultOrder": 19,
    "_isFastLaunch": false,
    "category": "General purpose",
    "gpuNum": 0,
    "hideHardwareSpecs": false,
    "memoryGiB": 384,
    "name": "ml.m5d.24xlarge",
    "vcpuNum": 96
   },
   {
    "_defaultOrder": 20,
    "_isFastLaunch": false,
    "category": "General purpose",
    "gpuNum": 0,
    "hideHardwareSpecs": true,
    "memoryGiB": 0,
    "name": "ml.geospatial.interactive",
    "supportedImageNames": [
     "sagemaker-geospatial-v1-0"
    ],
    "vcpuNum": 0
   },
   {
    "_defaultOrder": 21,
    "_isFastLaunch": true,
    "category": "Compute optimized",
    "gpuNum": 0,
    "hideHardwareSpecs": false,
    "memoryGiB": 4,
    "name": "ml.c5.large",
    "vcpuNum": 2
   },
   {
    "_defaultOrder": 22,
    "_isFastLaunch": false,
    "category": "Compute optimized",
    "gpuNum": 0,
    "hideHardwareSpecs": false,
    "memoryGiB": 8,
    "name": "ml.c5.xlarge",
    "vcpuNum": 4
   },
   {
    "_defaultOrder": 23,
    "_isFastLaunch": false,
    "category": "Compute optimized",
    "gpuNum": 0,
    "hideHardwareSpecs": false,
    "memoryGiB": 16,
    "name": "ml.c5.2xlarge",
    "vcpuNum": 8
   },
   {
    "_defaultOrder": 24,
    "_isFastLaunch": false,
    "category": "Compute optimized",
    "gpuNum": 0,
    "hideHardwareSpecs": false,
    "memoryGiB": 32,
    "name": "ml.c5.4xlarge",
    "vcpuNum": 16
   },
   {
    "_defaultOrder": 25,
    "_isFastLaunch": false,
    "category": "Compute optimized",
    "gpuNum": 0,
    "hideHardwareSpecs": false,
    "memoryGiB": 72,
    "name": "ml.c5.9xlarge",
    "vcpuNum": 36
   },
   {
    "_defaultOrder": 26,
    "_isFastLaunch": false,
    "category": "Compute optimized",
    "gpuNum": 0,
    "hideHardwareSpecs": false,
    "memoryGiB": 96,
    "name": "ml.c5.12xlarge",
    "vcpuNum": 48
   },
   {
    "_defaultOrder": 27,
    "_isFastLaunch": false,
    "category": "Compute optimized",
    "gpuNum": 0,
    "hideHardwareSpecs": false,
    "memoryGiB": 144,
    "name": "ml.c5.18xlarge",
    "vcpuNum": 72
   },
   {
    "_defaultOrder": 28,
    "_isFastLaunch": false,
    "category": "Compute optimized",
    "gpuNum": 0,
    "hideHardwareSpecs": false,
    "memoryGiB": 192,
    "name": "ml.c5.24xlarge",
    "vcpuNum": 96
   },
   {
    "_defaultOrder": 29,
    "_isFastLaunch": true,
    "category": "Accelerated computing",
    "gpuNum": 1,
    "hideHardwareSpecs": false,
    "memoryGiB": 16,
    "name": "ml.g4dn.xlarge",
    "vcpuNum": 4
   },
   {
    "_defaultOrder": 30,
    "_isFastLaunch": false,
    "category": "Accelerated computing",
    "gpuNum": 1,
    "hideHardwareSpecs": false,
    "memoryGiB": 32,
    "name": "ml.g4dn.2xlarge",
    "vcpuNum": 8
   },
   {
    "_defaultOrder": 31,
    "_isFastLaunch": false,
    "category": "Accelerated computing",
    "gpuNum": 1,
    "hideHardwareSpecs": false,
    "memoryGiB": 64,
    "name": "ml.g4dn.4xlarge",
    "vcpuNum": 16
   },
   {
    "_defaultOrder": 32,
    "_isFastLaunch": false,
    "category": "Accelerated computing",
    "gpuNum": 1,
    "hideHardwareSpecs": false,
    "memoryGiB": 128,
    "name": "ml.g4dn.8xlarge",
    "vcpuNum": 32
   },
   {
    "_defaultOrder": 33,
    "_isFastLaunch": false,
    "category": "Accelerated computing",
    "gpuNum": 4,
    "hideHardwareSpecs": false,
    "memoryGiB": 192,
    "name": "ml.g4dn.12xlarge",
    "vcpuNum": 48
   },
   {
    "_defaultOrder": 34,
    "_isFastLaunch": false,
    "category": "Accelerated computing",
    "gpuNum": 1,
    "hideHardwareSpecs": false,
    "memoryGiB": 256,
    "name": "ml.g4dn.16xlarge",
    "vcpuNum": 64
   },
   {
    "_defaultOrder": 35,
    "_isFastLaunch": false,
    "category": "Accelerated computing",
    "gpuNum": 1,
    "hideHardwareSpecs": false,
    "memoryGiB": 61,
    "name": "ml.p3.2xlarge",
    "vcpuNum": 8
   },
   {
    "_defaultOrder": 36,
    "_isFastLaunch": false,
    "category": "Accelerated computing",
    "gpuNum": 4,
    "hideHardwareSpecs": false,
    "memoryGiB": 244,
    "name": "ml.p3.8xlarge",
    "vcpuNum": 32
   },
   {
    "_defaultOrder": 37,
    "_isFastLaunch": false,
    "category": "Accelerated computing",
    "gpuNum": 8,
    "hideHardwareSpecs": false,
    "memoryGiB": 488,
    "name": "ml.p3.16xlarge",
    "vcpuNum": 64
   },
   {
    "_defaultOrder": 38,
    "_isFastLaunch": false,
    "category": "Accelerated computing",
    "gpuNum": 8,
    "hideHardwareSpecs": false,
    "memoryGiB": 768,
    "name": "ml.p3dn.24xlarge",
    "vcpuNum": 96
   },
   {
    "_defaultOrder": 39,
    "_isFastLaunch": false,
    "category": "Memory Optimized",
    "gpuNum": 0,
    "hideHardwareSpecs": false,
    "memoryGiB": 16,
    "name": "ml.r5.large",
    "vcpuNum": 2
   },
   {
    "_defaultOrder": 40,
    "_isFastLaunch": false,
    "category": "Memory Optimized",
    "gpuNum": 0,
    "hideHardwareSpecs": false,
    "memoryGiB": 32,
    "name": "ml.r5.xlarge",
    "vcpuNum": 4
   },
   {
    "_defaultOrder": 41,
    "_isFastLaunch": false,
    "category": "Memory Optimized",
    "gpuNum": 0,
    "hideHardwareSpecs": false,
    "memoryGiB": 64,
    "name": "ml.r5.2xlarge",
    "vcpuNum": 8
   },
   {
    "_defaultOrder": 42,
    "_isFastLaunch": false,
    "category": "Memory Optimized",
    "gpuNum": 0,
    "hideHardwareSpecs": false,
    "memoryGiB": 128,
    "name": "ml.r5.4xlarge",
    "vcpuNum": 16
   },
   {
    "_defaultOrder": 43,
    "_isFastLaunch": false,
    "category": "Memory Optimized",
    "gpuNum": 0,
    "hideHardwareSpecs": false,
    "memoryGiB": 256,
    "name": "ml.r5.8xlarge",
    "vcpuNum": 32
   },
   {
    "_defaultOrder": 44,
    "_isFastLaunch": false,
    "category": "Memory Optimized",
    "gpuNum": 0,
    "hideHardwareSpecs": false,
    "memoryGiB": 384,
    "name": "ml.r5.12xlarge",
    "vcpuNum": 48
   },
   {
    "_defaultOrder": 45,
    "_isFastLaunch": false,
    "category": "Memory Optimized",
    "gpuNum": 0,
    "hideHardwareSpecs": false,
    "memoryGiB": 512,
    "name": "ml.r5.16xlarge",
    "vcpuNum": 64
   },
   {
    "_defaultOrder": 46,
    "_isFastLaunch": false,
    "category": "Memory Optimized",
    "gpuNum": 0,
    "hideHardwareSpecs": false,
    "memoryGiB": 768,
    "name": "ml.r5.24xlarge",
    "vcpuNum": 96
   },
   {
    "_defaultOrder": 47,
    "_isFastLaunch": false,
    "category": "Accelerated computing",
    "gpuNum": 1,
    "hideHardwareSpecs": false,
    "memoryGiB": 16,
    "name": "ml.g5.xlarge",
    "vcpuNum": 4
   },
   {
    "_defaultOrder": 48,
    "_isFastLaunch": false,
    "category": "Accelerated computing",
    "gpuNum": 1,
    "hideHardwareSpecs": false,
    "memoryGiB": 32,
    "name": "ml.g5.2xlarge",
    "vcpuNum": 8
   },
   {
    "_defaultOrder": 49,
    "_isFastLaunch": false,
    "category": "Accelerated computing",
    "gpuNum": 1,
    "hideHardwareSpecs": false,
    "memoryGiB": 64,
    "name": "ml.g5.4xlarge",
    "vcpuNum": 16
   },
   {
    "_defaultOrder": 50,
    "_isFastLaunch": false,
    "category": "Accelerated computing",
    "gpuNum": 1,
    "hideHardwareSpecs": false,
    "memoryGiB": 128,
    "name": "ml.g5.8xlarge",
    "vcpuNum": 32
   },
   {
    "_defaultOrder": 51,
    "_isFastLaunch": false,
    "category": "Accelerated computing",
    "gpuNum": 1,
    "hideHardwareSpecs": false,
    "memoryGiB": 256,
    "name": "ml.g5.16xlarge",
    "vcpuNum": 64
   },
   {
    "_defaultOrder": 52,
    "_isFastLaunch": false,
    "category": "Accelerated computing",
    "gpuNum": 4,
    "hideHardwareSpecs": false,
    "memoryGiB": 192,
    "name": "ml.g5.12xlarge",
    "vcpuNum": 48
   },
   {
    "_defaultOrder": 53,
    "_isFastLaunch": false,
    "category": "Accelerated computing",
    "gpuNum": 4,
    "hideHardwareSpecs": false,
    "memoryGiB": 384,
    "name": "ml.g5.24xlarge",
    "vcpuNum": 96
   },
   {
    "_defaultOrder": 54,
    "_isFastLaunch": false,
    "category": "Accelerated computing",
    "gpuNum": 8,
    "hideHardwareSpecs": false,
    "memoryGiB": 768,
    "name": "ml.g5.48xlarge",
    "vcpuNum": 192
   },
   {
    "_defaultOrder": 55,
    "_isFastLaunch": false,
    "category": "Accelerated computing",
    "gpuNum": 8,
    "hideHardwareSpecs": false,
    "memoryGiB": 1152,
    "name": "ml.p4d.24xlarge",
    "vcpuNum": 96
   },
   {
    "_defaultOrder": 56,
    "_isFastLaunch": false,
    "category": "Accelerated computing",
    "gpuNum": 8,
    "hideHardwareSpecs": false,
    "memoryGiB": 1152,
    "name": "ml.p4de.24xlarge",
    "vcpuNum": 96
   }
  ],
  "instance_type": "ml.m5.2xlarge",
  "kernelspec": {
   "display_name": "Python 3 (Data Science 3.0)",
   "language": "python",
   "name": "python3__SAGEMAKER_INTERNAL__arn:aws:sagemaker:us-east-1:081325390199:image/sagemaker-data-science-310-v1"
  },
  "language_info": {
   "codemirror_mode": {
    "name": "ipython",
    "version": 3
   },
   "file_extension": ".py",
   "mimetype": "text/x-python",
   "name": "python",
   "nbconvert_exporter": "python",
   "pygments_lexer": "ipython3",
   "version": "3.10.6"
  }
 },
 "nbformat": 4,
 "nbformat_minor": 5
}
