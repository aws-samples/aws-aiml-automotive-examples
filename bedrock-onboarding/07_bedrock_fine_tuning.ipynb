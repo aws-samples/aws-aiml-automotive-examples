{
 "cells": [
  {
   "cell_type": "markdown",
   "id": "7786875a-b67a-49d1-acde-34e840b72dc7",
   "metadata": {},
   "source": [
    "# Fine Tune Amazon Titan Text Large model with Bedrock\n",
    "\n",
    "This notebook provides steps requried to fine tune a model. Using Amazon Bedrock you can customize a model to improve its performance on specific tasks by providing  labeled training dataset. You can upload the training and validation datasets to S3, provide S3 URI to the fine tuning job. You can set the hyper parameters for the fine-tuning job, start and monitor the job status. Once the job is complete, you will be able to invoke the custom trained model. \n",
    "\n",
    " \n",
    "(This notebook was tested on SageMaker Studio ml.m5.2xlarge instance with Datascience 3.0 kernel)"
   ]
  },
  {
   "cell_type": "markdown",
   "id": "ab5c56db",
   "metadata": {},
   "source": [
    "To customize the model to meet your requirements, there are multiple options. In context learning is the fastest approach as it leverages pre-trained model and optionally RAG can be used to inject additional context from the knowledge base. \n",
    "\n",
    "When the performance of the output is not meeting the requirements or if you have domain specific data, Fine tuning can be considered. It should be noted that Fine tuning requires additional effort and compute.\n",
    "\n",
    "<img src =\"images/llm_customization_options.png\" width=\"600\"/>"
   ]
  },
  {
   "cell_type": "markdown",
   "id": "faf95fd7-cd84-4454-baa0-395f8ef54c4d",
   "metadata": {},
   "source": [
    "## Pre-requisites"
   ]
  },
  {
   "cell_type": "code",
   "execution_count": null,
   "id": "1995ca55-aadf-44b6-af87-03cd7dafc6db",
   "metadata": {
    "tags": []
   },
   "outputs": [],
   "source": [
    "#Check Python version is greater than 3.8 which is required by Langchain if you want to use Langchain\n",
    "import sys\n",
    "sys.version"
   ]
  },
  {
   "cell_type": "markdown",
   "id": "250a5245-e7d0-4547-bf61-8ab5f3a0eee9",
   "metadata": {},
   "source": [
    "## Install the SDK"
   ]
  },
  {
   "cell_type": "markdown",
   "id": "87df9f2c",
   "metadata": {},
   "source": [
    "NOTE: This notebook requires Bedrock Python SDK. Install Bedrock SDK if you haven't done yet. Refer to 00_bedrock_onboarding.ipynb notebook for steps to install and uninstall previous version if any."
   ]
  },
  {
   "cell_type": "code",
   "execution_count": null,
   "id": "8676e528-dbe0-4c5a-a7b2-dada29661961",
   "metadata": {
    "tags": []
   },
   "outputs": [],
   "source": [
    "!pip install datasets"
   ]
  },
  {
   "cell_type": "code",
   "execution_count": null,
   "id": "906efc69-edd4-4039-9f8a-f11319ba6041",
   "metadata": {
    "tags": []
   },
   "outputs": [],
   "source": [
    "!pip install jinja2"
   ]
  },
  {
   "cell_type": "markdown",
   "id": "3b621751-99e1-4252-b878-4364b8fdab2e",
   "metadata": {
    "tags": []
   },
   "source": [
    "# Create IAM Role and assign Permissions\n",
    "\n",
    "We need to create two roles\n",
    "\n",
    "Role A- Notebook execution\n",
    "--\n",
    "This notebook requires permissions to invoke Bedrock service. Ensure to add a policy to the role listed above similar to\n",
    "    \n",
    "```\n",
    "{\n",
    "    \"Version\": \"2012-10-17\",\n",
    "    \"Statement\": [\n",
    "        {\n",
    "            \"Sid\": \"Bedrock\",\n",
    "            \"Effect\": \"Allow\",\n",
    "            \"Action\": \"bedrock:*\",\n",
    "            \"Resource\": \"*\"\n",
    "        }\n",
    "    ]\n",
    "}\n",
    "```\n",
    "\n",
    "Role B- Data access\n",
    "--\n",
    "To start the Fine tuning job, the role created above will pass execution to another IAM role that has access to Fine tuning job. Create a role that has following Trust relationship\n",
    "\n",
    "```\n",
    "{\n",
    "  \"Version\": \"2012-10-17\",\n",
    "  \"Statement\": [\n",
    "    {\n",
    "      \"Effect\": \"Allow\",\n",
    "      \"Principal\": {\n",
    "        \"Service\": \"bedrock.amazonaws.com\"\n",
    "      },\n",
    "      \"Action\": \"sts:AssumeRole\",\n",
    "      \"Condition\": {\n",
    "        \"StringEquals\": {\n",
    "          \"aws:SourceAccount\": \"<account>\"\n",
    "        },\n",
    "        \"ArnEquals\": {\n",
    "          \"aws:SourceArn\": \"arn:aws:bedrock:<region>:<account>:model-customization-job/*\"\n",
    "        }\n",
    "      }\n",
    "    }\n",
    "  ]\n",
    "}\n",
    "```\n",
    "The role created above needs to have permissions to S3 bucket where the training & validation datasets are located and access to S3 location where fine-tuning job output will be written\n",
    "\n",
    "```\n",
    "{\n",
    "    \"Version\": \"2012-10-17\",\n",
    "    \"Statement\": [\n",
    "        {\n",
    "            \"Effect\": \"Allow\",\n",
    "            \"Action\": [\n",
    "                \"s3:GetObject\",\n",
    "                \"s3:PutObject\",\n",
    "                \"s3:ListBucket\",\n",
    "                \"s3:ListObjects\"\n",
    "            ],\n",
    "            \"Resource\": [\n",
    "                \"arn:aws:s3:::<train_set_bucket>\",\n",
    "                \"arn:aws:s3:::<train_set_bucket>/*\",\n",
    "                \"arn:aws:s3:::<test_set_bucket>\",\n",
    "                \"arn:aws:s3:::<test_set_bucket>/*\",\n",
    "                \"arn:aws:s3:::<job_output_bucket>\",\n",
    "                \"arn:aws:s3:::<job_output_bucket>/*\"\n",
    "            ]\n",
    "        }\n",
    "    ]\n",
    "}\n",
    "\n",
    "```\n",
    "\n",
    "\n",
    "Also ensure Role A has permissions to pass IAM Role to Role B. This needs to be defined as an IAM policy similar to below\n",
    "\n",
    "```\n",
    "{\n",
    "\t\"Version\": \"2012-10-17\",\n",
    "\t\"Statement\": [\n",
    "\t\t{\n",
    "\t\t\t\"Effect\": \"Allow\",\n",
    "\t\t\t\"Action\": [\n",
    "\t\t\t\t\"iam:GetRole\",\n",
    "\t\t\t\t\"iam:PassRole\"\n",
    "\t\t\t],\n",
    "\t\t\t\"Resource\": \"arn:aws:iam::<account>:role/*\"\n",
    "\t\t}\n",
    "\t]\n",
    "}\n",
    "\n",
    "```\n"
   ]
  },
  {
   "cell_type": "markdown",
   "id": "655b8655-71c7-4af3-a954-085b5e80a0a9",
   "metadata": {},
   "source": [
    "## Restart Kernel"
   ]
  },
  {
   "cell_type": "code",
   "execution_count": null,
   "id": "77d0af31-edda-4d3f-804c-4463d9571b58",
   "metadata": {
    "tags": []
   },
   "outputs": [],
   "source": [
    "import IPython\n",
    "app = IPython.Application.instance()\n",
    "app.kernel.do_shutdown(True)  "
   ]
  },
  {
   "cell_type": "code",
   "execution_count": 2,
   "id": "a5d520a2-dcfc-4559-8899-1b7feee94f76",
   "metadata": {
    "tags": []
   },
   "outputs": [],
   "source": [
    "import sagemaker\n",
    "import boto3\n",
    "session = boto3.Session()\n",
    "sagemaker_session = sagemaker.Session()\n",
    "studio_region = sagemaker_session.boto_region_name \n",
    "#sagemaker_session.get_caller_identity_arn()"
   ]
  },
  {
   "cell_type": "code",
   "execution_count": 81,
   "id": "7a699367-f622-4a10-8683-954af9f3adbe",
   "metadata": {
    "tags": []
   },
   "outputs": [
    {
     "data": {
      "text/plain": [
       "{'ResponseMetadata': {'RequestId': 'c02947cb-ef0f-4aa3-ab8c-23b4fee9c746',\n",
       "  'HTTPStatusCode': 200,\n",
       "  'HTTPHeaders': {'date': 'Wed, 23 Aug 2023 18:59:02 GMT',\n",
       "   'content-type': 'application/json',\n",
       "   'content-length': '1166',\n",
       "   'connection': 'keep-alive',\n",
       "   'x-amzn-requestid': 'c02947cb-ef0f-4aa3-ab8c-23b4fee9c746'},\n",
       "  'RetryAttempts': 0},\n",
       " 'modelSummaries': [{'modelArn': 'arn:aws:bedrock:us-east-1::foundation-model/amazon.titan-tg1-large',\n",
       "   'modelId': 'amazon.titan-tg1-large'},\n",
       "  {'modelArn': 'arn:aws:bedrock:us-east-1::foundation-model/amazon.titan-e1t-medium',\n",
       "   'modelId': 'amazon.titan-e1t-medium'},\n",
       "  {'modelArn': 'arn:aws:bedrock:us-east-1::foundation-model/stability.stable-diffusion-xl',\n",
       "   'modelId': 'stability.stable-diffusion-xl'},\n",
       "  {'modelArn': 'arn:aws:bedrock:us-east-1::foundation-model/ai21.j2-grande-instruct',\n",
       "   'modelId': 'ai21.j2-grande-instruct'},\n",
       "  {'modelArn': 'arn:aws:bedrock:us-east-1::foundation-model/ai21.j2-jumbo-instruct',\n",
       "   'modelId': 'ai21.j2-jumbo-instruct'},\n",
       "  {'modelArn': 'arn:aws:bedrock:us-east-1::foundation-model/ai21.j2-mid',\n",
       "   'modelId': 'ai21.j2-mid'},\n",
       "  {'modelArn': 'arn:aws:bedrock:us-east-1::foundation-model/ai21.j2-ultra',\n",
       "   'modelId': 'ai21.j2-ultra'},\n",
       "  {'modelArn': 'arn:aws:bedrock:us-east-1::foundation-model/anthropic.claude-instant-v1',\n",
       "   'modelId': 'anthropic.claude-instant-v1'},\n",
       "  {'modelArn': 'arn:aws:bedrock:us-east-1::foundation-model/anthropic.claude-v1',\n",
       "   'modelId': 'anthropic.claude-v1'},\n",
       "  {'modelArn': 'arn:aws:bedrock:us-east-1::foundation-model/anthropic.claude-v2',\n",
       "   'modelId': 'anthropic.claude-v2'}]}"
      ]
     },
     "execution_count": 81,
     "metadata": {},
     "output_type": "execute_result"
    }
   ],
   "source": [
    "#Check if basic commands work with bedrock client\n",
    "bedrock = boto3.client('bedrock' , 'us-east-1', endpoint_url='https://bedrock.us-east-1.amazonaws.com')\n",
    "bedrock.list_foundation_models()"
   ]
  },
  {
   "cell_type": "markdown",
   "id": "d0a247ef-920e-4385-b680-8e2add6d4017",
   "metadata": {},
   "source": [
    "## Download datasets\n",
    "In this step, we will use [SQUAD dataset](https://arxiv.org/abs/1606.05250) for fine tuning. This dataset has a list of questions under different categories (title). We will filter for a category and use the filtered set for fine-tuning purpose"
   ]
  },
  {
   "cell_type": "code",
   "execution_count": 82,
   "id": "e6a7208a-fd9f-46a1-8fee-a04882a28f89",
   "metadata": {
    "tags": []
   },
   "outputs": [],
   "source": [
    "from datasets import load_dataset\n",
    "raw_datasets = load_dataset(\"squad\")"
   ]
  },
  {
   "cell_type": "code",
   "execution_count": 6,
   "id": "aa5113c4-8941-419c-8cf6-41552caab24f",
   "metadata": {
    "tags": []
   },
   "outputs": [
    {
     "data": {
      "text/plain": [
       "DatasetDict({\n",
       "    train: Dataset({\n",
       "        features: ['id', 'title', 'context', 'question', 'answers'],\n",
       "        num_rows: 87599\n",
       "    })\n",
       "    validation: Dataset({\n",
       "        features: ['id', 'title', 'context', 'question', 'answers'],\n",
       "        num_rows: 10570\n",
       "    })\n",
       "})"
      ]
     },
     "execution_count": 6,
     "metadata": {},
     "output_type": "execute_result"
    }
   ],
   "source": [
    "raw_datasets"
   ]
  },
  {
   "cell_type": "code",
   "execution_count": 7,
   "id": "62114b3f-55aa-4244-9728-1d49364ef6a1",
   "metadata": {
    "tags": []
   },
   "outputs": [
    {
     "data": {
      "text/plain": [
       "(Dataset({\n",
       "     features: ['id', 'title', 'context', 'question', 'answers'],\n",
       "     num_rows: 225\n",
       " }),\n",
       " Dataset({\n",
       "     features: ['id', 'title', 'context', 'question', 'answers'],\n",
       "     num_rows: 25\n",
       " }))"
      ]
     },
     "execution_count": 7,
     "metadata": {},
     "output_type": "execute_result"
    }
   ],
   "source": [
    "category = 'Solar_energy'\n",
    "raw_train_set = raw_datasets['train']\n",
    "raw_test_set = raw_datasets['validation']\n",
    "train_set = raw_train_set.filter(lambda x: x['title'] == category)\n",
    "test_set = raw_test_set.filter(lambda x: x['title'] == category)\n",
    "\n",
    "if len(test_set) == 0: #If there is no test data set available, split the train set for this\n",
    "    split_set = train_set.train_test_split(test_size=0.1)\n",
    "    train_set,test_set = split_set['train'],split_set['test']\n",
    "\n",
    "train_set, test_set"
   ]
  },
  {
   "cell_type": "markdown",
   "id": "fc55132d-4716-4899-81d4-3f5e04cbabc2",
   "metadata": {},
   "source": [
    "## Prepare Training Dataset\n",
    "In this step, we will upload training data to an S3 bucket. Bedrock customization job expects training and validation data to be in JSONL format and there should be any new line character at the end of the file.\n",
    "We will convert the dataset downloaded into a JSONL file"
   ]
  },
  {
   "cell_type": "code",
   "execution_count": 8,
   "id": "1b12f211-a267-4002-8fbb-ca24351958d4",
   "metadata": {
    "tags": []
   },
   "outputs": [],
   "source": [
    "import pathlib , os, json\n",
    "fine_tune_dataset_path = 'data/finetuned'\n",
    "pathlib.Path(fine_tune_dataset_path).mkdir(parents=True, exist_ok=True)"
   ]
  },
  {
   "cell_type": "code",
   "execution_count": 90,
   "id": "07437bed-11e0-405f-8cbd-743598dbea4d",
   "metadata": {
    "tags": []
   },
   "outputs": [],
   "source": [
    "import jinja2\n",
    "\n",
    "env = jinja2.Environment(loader=jinja2.FileSystemLoader('templates'))\n",
    "squad_template = env.get_template('fine_tuning.txt')\n",
    "\n",
    "def create_data_file(data,file_name):\n",
    "    data_len = len(data)\n",
    "    with open(file_name,'w') as f:\n",
    "        for i, item in enumerate(data):\n",
    "            c,q,answers = item['context'],item['question'],item['answers']['text']\n",
    "            if len(answers) > 0:\n",
    "                a = answers[0]\n",
    "                c = c.replace('\"','') #Remove any double quotes in context, question and answer\n",
    "                q = q.replace('\"','')\n",
    "                a = a.replace('\"','')\n",
    "                jsonl = squad_template.render(context=c,question=q,answer=a)\n",
    "                f.write(jsonl)\n",
    "                if i < (data_len -1):\n",
    "                    f.write('\\n')\n",
    "    print(f'File {file_name} created with {data_len} rows')"
   ]
  },
  {
   "cell_type": "code",
   "execution_count": 116,
   "id": "e8f93cd4-4d09-4878-b1e5-eeed45a243e3",
   "metadata": {
    "tags": []
   },
   "outputs": [],
   "source": [
    "from io import StringIO \n",
    "from urllib.parse import urlparse\n",
    "import boto3\n",
    "import sys\n",
    "import pandas as pd\n",
    "\n",
    "def split_s3_path(s3_uri):\n",
    "    parse_result = urlparse(s3_uri, allow_fragments=False)\n",
    "    return parse_result.netloc,parse_result.path.lstrip('/')\n",
    "\n",
    "def s3_csv_to_df(s3_uri):\n",
    "    s3 = boto3.client('s3')\n",
    "    bucket, object_key = split_s3_path(s3_uri)\n",
    "    csv = s3.get_object(Bucket=bucket, Key=object_key)\n",
    "    csvs = csv['Body'].read().decode('utf-8')\n",
    "    df = pd.read_csv(StringIO(csvs),sep=',')\n",
    "    return df\n"
   ]
  },
  {
   "cell_type": "code",
   "execution_count": 10,
   "id": "ca3d3353-02f2-4371-a8fe-f84bf912890f",
   "metadata": {
    "tags": []
   },
   "outputs": [],
   "source": [
    "train_file_name = f'{fine_tune_dataset_path}/train_data.jsonl'\n",
    "test_file_name = f'{fine_tune_dataset_path}/test_data.jsonl'"
   ]
  },
  {
   "cell_type": "code",
   "execution_count": null,
   "id": "f43a76bb-4237-4f85-a77d-72825c31f615",
   "metadata": {},
   "outputs": [],
   "source": [
    "create_data_file(train_set,train_file_name)\n",
    "create_data_file(test_set,test_file_name)"
   ]
  },
  {
   "cell_type": "markdown",
   "id": "8d614a3a-95ab-4209-92a8-f561220a11b4",
   "metadata": {},
   "source": [
    "### Upload the files created locally yo S3 and get the URIs"
   ]
  },
  {
   "cell_type": "code",
   "execution_count": null,
   "id": "fa006048-ab6d-4571-aac9-5111f96ebc54",
   "metadata": {
    "tags": []
   },
   "outputs": [],
   "source": [
    "bucket = sagemaker_session.default_bucket()\n",
    "fine_tuning_prefix = 'bedrock_fine_tuning'\n",
    "train_data_s3_path = sagemaker_session.upload_data(train_file_name, bucket=bucket, key_prefix=fine_tuning_prefix)\n",
    "test_data_s3_path = sagemaker_session.upload_data(test_file_name, bucket=bucket, key_prefix=fine_tuning_prefix)\n",
    "\n",
    "train_data_s3_path,test_data_s3_path"
   ]
  },
  {
   "cell_type": "markdown",
   "id": "1dec63bb-145e-482a-a543-e119a758cb68",
   "metadata": {
    "tags": []
   },
   "source": [
    "## Start the Fine tuning job\n",
    "We will prepare the inputs to the Fine tuning job (aka model customization job) and start the job.\n",
    "Please make sure you have provided necessary IAM permissions explained in previous steps before proceeding further.\n",
    "\n",
    "Besisdes the Hyperparameters, we define the names (Job name, Custom model name), attach tags to job and custom model for tracking purposes, location of Training and test set and the output path where the fine tuning job would save the training & validaition metrics.  \n",
    "\n",
    "We can optionally supply VPC configuation to ensure calls from the fine tuning job to fetch training/ validation data are routed through VPC/ Private Links to S3. You can define security groups to define access controls for the fine tuning job.\n",
    "\n",
    "Fine Tuning job supports following Hyper parameters\n",
    "\n",
    "- Epochs\n",
    "- Batch size\n",
    "- Learning Rate\n",
    "- Learning rate warmup steps"
   ]
  },
  {
   "cell_type": "code",
   "execution_count": 121,
   "id": "8ad0747b-f360-422d-8687-2b8ddffa1be0",
   "metadata": {
    "tags": []
   },
   "outputs": [
    {
     "data": {
      "text/plain": [
       "('08327152-a75d-4cf6-9907-8fa0b56cbe0c',\n",
       " 'solar_energy_model',\n",
       " 'bedrock-titan-202308-2321-3904')"
      ]
     },
     "execution_count": 121,
     "metadata": {},
     "output_type": "execute_result"
    }
   ],
   "source": [
    "from uuid import uuid4\n",
    "from datetime import datetime\n",
    "\n",
    "#Define Hyperparameters\n",
    "hyper_params = {\"epochCount\" : \"1\",\"batchSize\":\"1\", \"learningRate\": \"0.00005\",\"learningRateWarmupSteps\":\"0\"}\n",
    "\n",
    "#Define names (Job, Model)\n",
    "base_model = \"amazon.titan-tg1-large\"\n",
    "client_token = str(uuid4())\n",
    "custom_model_name= category.lower() + '_model'\n",
    "job_name = f\"bedrock-titan-{datetime.now().strftime('%Y%m-%d%H-%M%S')}\"\n",
    "\n",
    "#Define tahs for tracking purposes\n",
    "model_tags = [{\"key\": \"custom_model_type\",\"value\": category.lower()}]\n",
    "job_tags = [{\"key\": \"base_model_type\",\"value\": base_model.replace(\".\",\"-\")}]\n",
    "\n",
    "\n",
    "output_s3_path = f's3://{bucket}/{fine_tuning_prefix}/output/'\n",
    "\n",
    "fine_tuning_role = sagemaker_session.get_caller_identity_arn() \n",
    "fine_tuning_role = '<ADD FINE TUNING ROLE>' \n",
    "\n",
    "#Optional Setup VPC configuration\n",
    "# vpc_config = {\n",
    "#     \"securityGroupIds\":[\"sg-1\",\"sg-2\"],\n",
    "#     \"subnetIds\":[\"subnet-a\", \"subnet-b\"]\n",
    "# }\n",
    "\n",
    "client_token, custom_model_name, job_name"
   ]
  },
  {
   "cell_type": "markdown",
   "id": "7f917ea5-8276-459f-88fe-d2e75d1d1cc4",
   "metadata": {},
   "source": [
    "### Start the job using create_model_customization_job API\n",
    "NOTE: This might take upto 30 minutes to complete depending on the training and validation dataset and other hyperparameters like Epochs etc."
   ]
  },
  {
   "cell_type": "code",
   "execution_count": null,
   "id": "21012cf8-b163-404d-9754-1dbb31d5c17e",
   "metadata": {
    "tags": []
   },
   "outputs": [],
   "source": [
    "bedrock.create_model_customization_job(    \n",
    "    baseModelIdentifier = base_model,\n",
    "    clientRequestToken = client_token,\n",
    "    customModelName = custom_model_name,\n",
    "    customModelTags = model_tags,\n",
    "    jobTags=job_tags, \n",
    "    hyperParameters = hyper_params,\n",
    "    jobName=job_name,\n",
    "    outputDataConfig = {\"s3Uri\": output_s3_path},\n",
    "    trainingDataConfig = {\"s3Uri\" : train_data_s3_path},\n",
    "    validationDataConfig =  {\"validators\": [ {\"s3Uri\": test_data_s3_path}]},\n",
    "    roleArn = fine_tuning_role,\n",
    "    #vpcConfig = vpc_config\n",
    ")"
   ]
  },
  {
   "cell_type": "markdown",
   "id": "3ba4b623-4fe5-4588-9a78-fa5e3868304b",
   "metadata": {},
   "source": [
    "## Monitor the Fine tuning job\n",
    "Once the job is submitted we will get the Job ARN. We will be able to monitor the job with APIs list_model_customization_jobs & list_model_customization_jobs"
   ]
  },
  {
   "cell_type": "code",
   "execution_count": null,
   "id": "07dc7ed1-95ed-4aa7-98f3-ea9423d3fdd6",
   "metadata": {
    "tags": []
   },
   "outputs": [],
   "source": [
    "bedrock.list_model_customization_jobs(nameContains=job_name)"
   ]
  },
  {
   "cell_type": "code",
   "execution_count": 106,
   "id": "cd39b948-10e1-45a3-a6e1-62a493a986f8",
   "metadata": {
    "tags": []
   },
   "outputs": [],
   "source": [
    "job_name = 'bedrock-titan-202308-2316-5550'\n",
    "job_detail = bedrock.get_model_customization_job(jobIdentifier=job_name)"
   ]
  },
  {
   "cell_type": "code",
   "execution_count": null,
   "id": "360f6442-3a2a-41df-9f55-203a79cda414",
   "metadata": {
    "tags": []
   },
   "outputs": [],
   "source": [
    "job_detail"
   ]
  },
  {
   "cell_type": "code",
   "execution_count": null,
   "id": "9930fcf2-b871-4d75-b45d-a8af1bffebe4",
   "metadata": {
    "tags": []
   },
   "outputs": [],
   "source": [
    "job_detail['status'], job_detail['jobArn']"
   ]
  },
  {
   "cell_type": "markdown",
   "id": "a4097178-0179-4661-a8bf-139277af0ea9",
   "metadata": {
    "tags": []
   },
   "source": [
    "## Stop Model customization job (Optional)\n",
    "We can stop a model customization job in progress"
   ]
  },
  {
   "cell_type": "code",
   "execution_count": 128,
   "id": "927da046-b610-47d2-b545-103105c68080",
   "metadata": {
    "tags": []
   },
   "outputs": [],
   "source": [
    "#Optional- Uncomment to stop the job\n",
    "\n",
    "#stop_model_customization_job(jobIdentifier=job_detail['jobArn'])"
   ]
  },
  {
   "cell_type": "markdown",
   "id": "fc597daf-e876-4446-bdc7-be83941dec7f",
   "metadata": {},
   "source": [
    "## View Training and Validation Metrics\n",
    "Wait until the status of the Fine tuning job changes to \"Completed\" before proceeding further\n",
    "In this step we will view the Training and Validation metrics"
   ]
  },
  {
   "cell_type": "code",
   "execution_count": null,
   "id": "5d59f760-d319-4f9a-8080-6b31a89799b4",
   "metadata": {
    "tags": []
   },
   "outputs": [],
   "source": [
    "job_metrics_out_s3_prefix = f\"{job_detail['outputDataConfig']['s3Uri']}model-customization-job-{job_detail['jobArn'].split('/')[-1]}\"\n",
    "job_metrics_out_s3_prefix"
   ]
  },
  {
   "cell_type": "markdown",
   "id": "2cf58ea3-bbde-4d6d-bd08-aee592b1920c",
   "metadata": {
    "tags": []
   },
   "source": [
    "### Print Step wise training metrics"
   ]
  },
  {
   "cell_type": "code",
   "execution_count": 117,
   "id": "3ee9ea32-9166-4d81-b7a5-ac10f9afaf43",
   "metadata": {
    "tags": []
   },
   "outputs": [
    {
     "data": {
      "text/html": [
       "<div>\n",
       "<style scoped>\n",
       "    .dataframe tbody tr th:only-of-type {\n",
       "        vertical-align: middle;\n",
       "    }\n",
       "\n",
       "    .dataframe tbody tr th {\n",
       "        vertical-align: top;\n",
       "    }\n",
       "\n",
       "    .dataframe thead th {\n",
       "        text-align: right;\n",
       "    }\n",
       "</style>\n",
       "<table border=\"1\" class=\"dataframe\">\n",
       "  <thead>\n",
       "    <tr style=\"text-align: right;\">\n",
       "      <th></th>\n",
       "      <th>step_number</th>\n",
       "      <th>epoch_number</th>\n",
       "      <th>training_loss</th>\n",
       "    </tr>\n",
       "  </thead>\n",
       "  <tbody>\n",
       "    <tr>\n",
       "      <th>0</th>\n",
       "      <td>0</td>\n",
       "      <td>1</td>\n",
       "      <td>1.773438</td>\n",
       "    </tr>\n",
       "    <tr>\n",
       "      <th>1</th>\n",
       "      <td>1</td>\n",
       "      <td>1</td>\n",
       "      <td>0.617188</td>\n",
       "    </tr>\n",
       "    <tr>\n",
       "      <th>2</th>\n",
       "      <td>2</td>\n",
       "      <td>1</td>\n",
       "      <td>0.128906</td>\n",
       "    </tr>\n",
       "    <tr>\n",
       "      <th>3</th>\n",
       "      <td>3</td>\n",
       "      <td>1</td>\n",
       "      <td>0.433594</td>\n",
       "    </tr>\n",
       "    <tr>\n",
       "      <th>4</th>\n",
       "      <td>4</td>\n",
       "      <td>1</td>\n",
       "      <td>0.122559</td>\n",
       "    </tr>\n",
       "    <tr>\n",
       "      <th>5</th>\n",
       "      <td>5</td>\n",
       "      <td>1</td>\n",
       "      <td>1.546875</td>\n",
       "    </tr>\n",
       "    <tr>\n",
       "      <th>6</th>\n",
       "      <td>6</td>\n",
       "      <td>1</td>\n",
       "      <td>0.675781</td>\n",
       "    </tr>\n",
       "    <tr>\n",
       "      <th>7</th>\n",
       "      <td>7</td>\n",
       "      <td>1</td>\n",
       "      <td>0.699219</td>\n",
       "    </tr>\n",
       "    <tr>\n",
       "      <th>8</th>\n",
       "      <td>8</td>\n",
       "      <td>1</td>\n",
       "      <td>1.257812</td>\n",
       "    </tr>\n",
       "    <tr>\n",
       "      <th>9</th>\n",
       "      <td>9</td>\n",
       "      <td>1</td>\n",
       "      <td>1.734375</td>\n",
       "    </tr>\n",
       "  </tbody>\n",
       "</table>\n",
       "</div>"
      ],
      "text/plain": [
       "   step_number  epoch_number  training_loss\n",
       "0            0             1       1.773438\n",
       "1            1             1       0.617188\n",
       "2            2             1       0.128906\n",
       "3            3             1       0.433594\n",
       "4            4             1       0.122559\n",
       "5            5             1       1.546875\n",
       "6            6             1       0.675781\n",
       "7            7             1       0.699219\n",
       "8            8             1       1.257812\n",
       "9            9             1       1.734375"
      ]
     },
     "execution_count": 117,
     "metadata": {},
     "output_type": "execute_result"
    }
   ],
   "source": [
    "\n",
    "training_metrics_csv = f'{job_metrics_out_s3_prefix}/training_artifacts/step_wise_training_metrics.csv'\n",
    "train_metrics_df = s3_csv_to_df(training_metrics_csv)\n",
    "train_metrics_df"
   ]
  },
  {
   "cell_type": "markdown",
   "id": "c1384aa1-1708-444c-bcbd-d7a901211da2",
   "metadata": {},
   "source": [
    "### Print Validation metrics"
   ]
  },
  {
   "cell_type": "code",
   "execution_count": 118,
   "id": "b62d3618-e5fc-4064-b1d2-36577c59a238",
   "metadata": {
    "tags": []
   },
   "outputs": [
    {
     "data": {
      "text/html": [
       "<div>\n",
       "<style scoped>\n",
       "    .dataframe tbody tr th:only-of-type {\n",
       "        vertical-align: middle;\n",
       "    }\n",
       "\n",
       "    .dataframe tbody tr th {\n",
       "        vertical-align: top;\n",
       "    }\n",
       "\n",
       "    .dataframe thead th {\n",
       "        text-align: right;\n",
       "    }\n",
       "</style>\n",
       "<table border=\"1\" class=\"dataframe\">\n",
       "  <thead>\n",
       "    <tr style=\"text-align: right;\">\n",
       "      <th></th>\n",
       "      <th>step_number</th>\n",
       "      <th>epoch_number</th>\n",
       "      <th>validation_loss</th>\n",
       "    </tr>\n",
       "  </thead>\n",
       "  <tbody>\n",
       "    <tr>\n",
       "      <th>0</th>\n",
       "      <td>10</td>\n",
       "      <td>1</td>\n",
       "      <td>0.738204</td>\n",
       "    </tr>\n",
       "  </tbody>\n",
       "</table>\n",
       "</div>"
      ],
      "text/plain": [
       "   step_number  epoch_number  validation_loss\n",
       "0           10             1         0.738204"
      ]
     },
     "execution_count": 118,
     "metadata": {},
     "output_type": "execute_result"
    }
   ],
   "source": [
    "validation_metrics_csv = f'{job_metrics_out_s3_prefix}/validation_artifacts/post_fine_tuning_validation/validation/validation_metrics.csv'\n",
    "validation_metrics_df = s3_csv_to_df(validation_metrics_csv)\n",
    "validation_metrics_df"
   ]
  },
  {
   "cell_type": "markdown",
   "id": "417a28ec-d17d-40f9-a983-727e847dfc4a",
   "metadata": {},
   "source": [
    "## List Custom Models"
   ]
  },
  {
   "cell_type": "code",
   "execution_count": null,
   "id": "afda2e97-8902-4cd9-a3c9-47d686ea35e7",
   "metadata": {
    "tags": []
   },
   "outputs": [],
   "source": [
    "bedrock.list_custom_models()"
   ]
  },
  {
   "cell_type": "markdown",
   "id": "b1670747-3d10-44db-bec0-57c96d0c29b0",
   "metadata": {},
   "source": [
    "## Query custom model activation status\n",
    "In this step we will check the activation status of the model and check if it is ready for taking real-time inference requests"
   ]
  },
  {
   "cell_type": "code",
   "execution_count": null,
   "id": "294729d8-ce0c-489c-b6e8-fafb1af614b4",
   "metadata": {
    "tags": []
   },
   "outputs": [],
   "source": [
    "custom_model = bedrock.get_custom_model(modelIdentifier=custom_model_name)\n",
    "custom_model['realTimeInferenceStatus'], custom_model['modelArn']"
   ]
  },
  {
   "cell_type": "markdown",
   "id": "90fafc14-65e5-4a16-b1f7-aadafcdcb255",
   "metadata": {},
   "source": [
    "## Invoke Custom Model\n",
    "In this step we will invoke teh custom model trained with the Domain specific data. We will select a random item from the test set to get results.\n",
    "NOTE: Wait until the model is \"ACTIVE\" in the real time inference status. It might take upto 10 minutes for the model to become active."
   ]
  },
  {
   "cell_type": "code",
   "execution_count": 103,
   "id": "d1659661-38d3-4bbd-95a2-bf4fbef46650",
   "metadata": {
    "tags": []
   },
   "outputs": [
    {
     "data": {
      "text/plain": [
       "{'id': '56cff5ff234ae51400d9c178',\n",
       " 'title': 'Solar_energy',\n",
       " 'context': 'Solar cookers use sunlight for cooking, drying and pasteurization. They can be grouped into three broad categories: box cookers, panel cookers and reflector cookers. The simplest solar cooker is the box cooker first built by Horace de Saussure in 1767. A basic box cooker consists of an insulated container with a transparent lid. It can be used effectively with partially overcast skies and will typically reach temperatures of 90–150 °C (194–302 °F). Panel cookers use a reflective panel to direct sunlight onto an insulated container and reach temperatures comparable to box cookers. Reflector cookers use various concentrating geometries (dish, trough, Fresnel mirrors) to focus light on a cooking container. These cookers reach temperatures of 315 °C (599 °F) and above but require direct light to function properly and must be repositioned to track the Sun.',\n",
       " 'question': 'What is the typical temperature range for a box cooker?',\n",
       " 'answers': {'text': ['90–150 °C (194–302 °F)'], 'answer_start': [429]}}"
      ]
     },
     "execution_count": 103,
     "metadata": {},
     "output_type": "execute_result"
    }
   ],
   "source": [
    "import random\n",
    "item_no = random.randint(0,len(test_set) - 1)\n",
    "test_item = test_set[item_no]\n",
    "test_item"
   ]
  },
  {
   "cell_type": "code",
   "execution_count": 119,
   "id": "15708429-b533-44f3-80c2-437d19ff09ab",
   "metadata": {
    "tags": []
   },
   "outputs": [
    {
     "name": "stdout",
     "output_type": "stream",
     "text": [
      "90–150\n"
     ]
    }
   ],
   "source": [
    "import json\n",
    "prompt_template = \"Given the context below, answer the specified question. The answer should be extracted directly from the context verbatim. CONTEXT: {context} QUESTION: {question}\"\n",
    "\n",
    "prompt = prompt_template.format(context=test_item['context'],question=test_item['question'])\n",
    "\n",
    "body = json.dumps({\"inputText\": prompt})\n",
    "modelId = custom_model_name\n",
    "accept = \"application/json\"\n",
    "contentType = \"application/json\"\n",
    "\n",
    "response = bedrock.invoke_model(\n",
    "    body=body, modelId=modelId, accept=accept, contentType=contentType\n",
    ")\n",
    "response_body = json.loads(response.get(\"body\").read())\n",
    "\n",
    "print(response_body.get(\"results\")[0].get(\"outputText\"))"
   ]
  },
  {
   "cell_type": "markdown",
   "id": "f68ef512-cb09-4a54-aed1-383aadf0c339",
   "metadata": {},
   "source": [
    "## Delete Custom Model (Optional)\n",
    "We can delete the custom model created above "
   ]
  },
  {
   "cell_type": "code",
   "execution_count": 131,
   "id": "1fa90e00-7f78-437c-aec4-ed85c205d58d",
   "metadata": {
    "tags": []
   },
   "outputs": [],
   "source": [
    "#Optional. Uncomment below line to remove the custom model created\n",
    "#bedrock.delete_custom_model(modelIdentifier = custom_model['modelArn'])"
   ]
  }
 ],
 "metadata": {
  "availableInstances": [
   {
    "_defaultOrder": 0,
    "_isFastLaunch": true,
    "category": "General purpose",
    "gpuNum": 0,
    "hideHardwareSpecs": false,
    "memoryGiB": 4,
    "name": "ml.t3.medium",
    "vcpuNum": 2
   },
   {
    "_defaultOrder": 1,
    "_isFastLaunch": false,
    "category": "General purpose",
    "gpuNum": 0,
    "hideHardwareSpecs": false,
    "memoryGiB": 8,
    "name": "ml.t3.large",
    "vcpuNum": 2
   },
   {
    "_defaultOrder": 2,
    "_isFastLaunch": false,
    "category": "General purpose",
    "gpuNum": 0,
    "hideHardwareSpecs": false,
    "memoryGiB": 16,
    "name": "ml.t3.xlarge",
    "vcpuNum": 4
   },
   {
    "_defaultOrder": 3,
    "_isFastLaunch": false,
    "category": "General purpose",
    "gpuNum": 0,
    "hideHardwareSpecs": false,
    "memoryGiB": 32,
    "name": "ml.t3.2xlarge",
    "vcpuNum": 8
   },
   {
    "_defaultOrder": 4,
    "_isFastLaunch": true,
    "category": "General purpose",
    "gpuNum": 0,
    "hideHardwareSpecs": false,
    "memoryGiB": 8,
    "name": "ml.m5.large",
    "vcpuNum": 2
   },
   {
    "_defaultOrder": 5,
    "_isFastLaunch": false,
    "category": "General purpose",
    "gpuNum": 0,
    "hideHardwareSpecs": false,
    "memoryGiB": 16,
    "name": "ml.m5.xlarge",
    "vcpuNum": 4
   },
   {
    "_defaultOrder": 6,
    "_isFastLaunch": false,
    "category": "General purpose",
    "gpuNum": 0,
    "hideHardwareSpecs": false,
    "memoryGiB": 32,
    "name": "ml.m5.2xlarge",
    "vcpuNum": 8
   },
   {
    "_defaultOrder": 7,
    "_isFastLaunch": false,
    "category": "General purpose",
    "gpuNum": 0,
    "hideHardwareSpecs": false,
    "memoryGiB": 64,
    "name": "ml.m5.4xlarge",
    "vcpuNum": 16
   },
   {
    "_defaultOrder": 8,
    "_isFastLaunch": false,
    "category": "General purpose",
    "gpuNum": 0,
    "hideHardwareSpecs": false,
    "memoryGiB": 128,
    "name": "ml.m5.8xlarge",
    "vcpuNum": 32
   },
   {
    "_defaultOrder": 9,
    "_isFastLaunch": false,
    "category": "General purpose",
    "gpuNum": 0,
    "hideHardwareSpecs": false,
    "memoryGiB": 192,
    "name": "ml.m5.12xlarge",
    "vcpuNum": 48
   },
   {
    "_defaultOrder": 10,
    "_isFastLaunch": false,
    "category": "General purpose",
    "gpuNum": 0,
    "hideHardwareSpecs": false,
    "memoryGiB": 256,
    "name": "ml.m5.16xlarge",
    "vcpuNum": 64
   },
   {
    "_defaultOrder": 11,
    "_isFastLaunch": false,
    "category": "General purpose",
    "gpuNum": 0,
    "hideHardwareSpecs": false,
    "memoryGiB": 384,
    "name": "ml.m5.24xlarge",
    "vcpuNum": 96
   },
   {
    "_defaultOrder": 12,
    "_isFastLaunch": false,
    "category": "General purpose",
    "gpuNum": 0,
    "hideHardwareSpecs": false,
    "memoryGiB": 8,
    "name": "ml.m5d.large",
    "vcpuNum": 2
   },
   {
    "_defaultOrder": 13,
    "_isFastLaunch": false,
    "category": "General purpose",
    "gpuNum": 0,
    "hideHardwareSpecs": false,
    "memoryGiB": 16,
    "name": "ml.m5d.xlarge",
    "vcpuNum": 4
   },
   {
    "_defaultOrder": 14,
    "_isFastLaunch": false,
    "category": "General purpose",
    "gpuNum": 0,
    "hideHardwareSpecs": false,
    "memoryGiB": 32,
    "name": "ml.m5d.2xlarge",
    "vcpuNum": 8
   },
   {
    "_defaultOrder": 15,
    "_isFastLaunch": false,
    "category": "General purpose",
    "gpuNum": 0,
    "hideHardwareSpecs": false,
    "memoryGiB": 64,
    "name": "ml.m5d.4xlarge",
    "vcpuNum": 16
   },
   {
    "_defaultOrder": 16,
    "_isFastLaunch": false,
    "category": "General purpose",
    "gpuNum": 0,
    "hideHardwareSpecs": false,
    "memoryGiB": 128,
    "name": "ml.m5d.8xlarge",
    "vcpuNum": 32
   },
   {
    "_defaultOrder": 17,
    "_isFastLaunch": false,
    "category": "General purpose",
    "gpuNum": 0,
    "hideHardwareSpecs": false,
    "memoryGiB": 192,
    "name": "ml.m5d.12xlarge",
    "vcpuNum": 48
   },
   {
    "_defaultOrder": 18,
    "_isFastLaunch": false,
    "category": "General purpose",
    "gpuNum": 0,
    "hideHardwareSpecs": false,
    "memoryGiB": 256,
    "name": "ml.m5d.16xlarge",
    "vcpuNum": 64
   },
   {
    "_defaultOrder": 19,
    "_isFastLaunch": false,
    "category": "General purpose",
    "gpuNum": 0,
    "hideHardwareSpecs": false,
    "memoryGiB": 384,
    "name": "ml.m5d.24xlarge",
    "vcpuNum": 96
   },
   {
    "_defaultOrder": 20,
    "_isFastLaunch": false,
    "category": "General purpose",
    "gpuNum": 0,
    "hideHardwareSpecs": true,
    "memoryGiB": 0,
    "name": "ml.geospatial.interactive",
    "supportedImageNames": [
     "sagemaker-geospatial-v1-0"
    ],
    "vcpuNum": 0
   },
   {
    "_defaultOrder": 21,
    "_isFastLaunch": true,
    "category": "Compute optimized",
    "gpuNum": 0,
    "hideHardwareSpecs": false,
    "memoryGiB": 4,
    "name": "ml.c5.large",
    "vcpuNum": 2
   },
   {
    "_defaultOrder": 22,
    "_isFastLaunch": false,
    "category": "Compute optimized",
    "gpuNum": 0,
    "hideHardwareSpecs": false,
    "memoryGiB": 8,
    "name": "ml.c5.xlarge",
    "vcpuNum": 4
   },
   {
    "_defaultOrder": 23,
    "_isFastLaunch": false,
    "category": "Compute optimized",
    "gpuNum": 0,
    "hideHardwareSpecs": false,
    "memoryGiB": 16,
    "name": "ml.c5.2xlarge",
    "vcpuNum": 8
   },
   {
    "_defaultOrder": 24,
    "_isFastLaunch": false,
    "category": "Compute optimized",
    "gpuNum": 0,
    "hideHardwareSpecs": false,
    "memoryGiB": 32,
    "name": "ml.c5.4xlarge",
    "vcpuNum": 16
   },
   {
    "_defaultOrder": 25,
    "_isFastLaunch": false,
    "category": "Compute optimized",
    "gpuNum": 0,
    "hideHardwareSpecs": false,
    "memoryGiB": 72,
    "name": "ml.c5.9xlarge",
    "vcpuNum": 36
   },
   {
    "_defaultOrder": 26,
    "_isFastLaunch": false,
    "category": "Compute optimized",
    "gpuNum": 0,
    "hideHardwareSpecs": false,
    "memoryGiB": 96,
    "name": "ml.c5.12xlarge",
    "vcpuNum": 48
   },
   {
    "_defaultOrder": 27,
    "_isFastLaunch": false,
    "category": "Compute optimized",
    "gpuNum": 0,
    "hideHardwareSpecs": false,
    "memoryGiB": 144,
    "name": "ml.c5.18xlarge",
    "vcpuNum": 72
   },
   {
    "_defaultOrder": 28,
    "_isFastLaunch": false,
    "category": "Compute optimized",
    "gpuNum": 0,
    "hideHardwareSpecs": false,
    "memoryGiB": 192,
    "name": "ml.c5.24xlarge",
    "vcpuNum": 96
   },
   {
    "_defaultOrder": 29,
    "_isFastLaunch": true,
    "category": "Accelerated computing",
    "gpuNum": 1,
    "hideHardwareSpecs": false,
    "memoryGiB": 16,
    "name": "ml.g4dn.xlarge",
    "vcpuNum": 4
   },
   {
    "_defaultOrder": 30,
    "_isFastLaunch": false,
    "category": "Accelerated computing",
    "gpuNum": 1,
    "hideHardwareSpecs": false,
    "memoryGiB": 32,
    "name": "ml.g4dn.2xlarge",
    "vcpuNum": 8
   },
   {
    "_defaultOrder": 31,
    "_isFastLaunch": false,
    "category": "Accelerated computing",
    "gpuNum": 1,
    "hideHardwareSpecs": false,
    "memoryGiB": 64,
    "name": "ml.g4dn.4xlarge",
    "vcpuNum": 16
   },
   {
    "_defaultOrder": 32,
    "_isFastLaunch": false,
    "category": "Accelerated computing",
    "gpuNum": 1,
    "hideHardwareSpecs": false,
    "memoryGiB": 128,
    "name": "ml.g4dn.8xlarge",
    "vcpuNum": 32
   },
   {
    "_defaultOrder": 33,
    "_isFastLaunch": false,
    "category": "Accelerated computing",
    "gpuNum": 4,
    "hideHardwareSpecs": false,
    "memoryGiB": 192,
    "name": "ml.g4dn.12xlarge",
    "vcpuNum": 48
   },
   {
    "_defaultOrder": 34,
    "_isFastLaunch": false,
    "category": "Accelerated computing",
    "gpuNum": 1,
    "hideHardwareSpecs": false,
    "memoryGiB": 256,
    "name": "ml.g4dn.16xlarge",
    "vcpuNum": 64
   },
   {
    "_defaultOrder": 35,
    "_isFastLaunch": false,
    "category": "Accelerated computing",
    "gpuNum": 1,
    "hideHardwareSpecs": false,
    "memoryGiB": 61,
    "name": "ml.p3.2xlarge",
    "vcpuNum": 8
   },
   {
    "_defaultOrder": 36,
    "_isFastLaunch": false,
    "category": "Accelerated computing",
    "gpuNum": 4,
    "hideHardwareSpecs": false,
    "memoryGiB": 244,
    "name": "ml.p3.8xlarge",
    "vcpuNum": 32
   },
   {
    "_defaultOrder": 37,
    "_isFastLaunch": false,
    "category": "Accelerated computing",
    "gpuNum": 8,
    "hideHardwareSpecs": false,
    "memoryGiB": 488,
    "name": "ml.p3.16xlarge",
    "vcpuNum": 64
   },
   {
    "_defaultOrder": 38,
    "_isFastLaunch": false,
    "category": "Accelerated computing",
    "gpuNum": 8,
    "hideHardwareSpecs": false,
    "memoryGiB": 768,
    "name": "ml.p3dn.24xlarge",
    "vcpuNum": 96
   },
   {
    "_defaultOrder": 39,
    "_isFastLaunch": false,
    "category": "Memory Optimized",
    "gpuNum": 0,
    "hideHardwareSpecs": false,
    "memoryGiB": 16,
    "name": "ml.r5.large",
    "vcpuNum": 2
   },
   {
    "_defaultOrder": 40,
    "_isFastLaunch": false,
    "category": "Memory Optimized",
    "gpuNum": 0,
    "hideHardwareSpecs": false,
    "memoryGiB": 32,
    "name": "ml.r5.xlarge",
    "vcpuNum": 4
   },
   {
    "_defaultOrder": 41,
    "_isFastLaunch": false,
    "category": "Memory Optimized",
    "gpuNum": 0,
    "hideHardwareSpecs": false,
    "memoryGiB": 64,
    "name": "ml.r5.2xlarge",
    "vcpuNum": 8
   },
   {
    "_defaultOrder": 42,
    "_isFastLaunch": false,
    "category": "Memory Optimized",
    "gpuNum": 0,
    "hideHardwareSpecs": false,
    "memoryGiB": 128,
    "name": "ml.r5.4xlarge",
    "vcpuNum": 16
   },
   {
    "_defaultOrder": 43,
    "_isFastLaunch": false,
    "category": "Memory Optimized",
    "gpuNum": 0,
    "hideHardwareSpecs": false,
    "memoryGiB": 256,
    "name": "ml.r5.8xlarge",
    "vcpuNum": 32
   },
   {
    "_defaultOrder": 44,
    "_isFastLaunch": false,
    "category": "Memory Optimized",
    "gpuNum": 0,
    "hideHardwareSpecs": false,
    "memoryGiB": 384,
    "name": "ml.r5.12xlarge",
    "vcpuNum": 48
   },
   {
    "_defaultOrder": 45,
    "_isFastLaunch": false,
    "category": "Memory Optimized",
    "gpuNum": 0,
    "hideHardwareSpecs": false,
    "memoryGiB": 512,
    "name": "ml.r5.16xlarge",
    "vcpuNum": 64
   },
   {
    "_defaultOrder": 46,
    "_isFastLaunch": false,
    "category": "Memory Optimized",
    "gpuNum": 0,
    "hideHardwareSpecs": false,
    "memoryGiB": 768,
    "name": "ml.r5.24xlarge",
    "vcpuNum": 96
   },
   {
    "_defaultOrder": 47,
    "_isFastLaunch": false,
    "category": "Accelerated computing",
    "gpuNum": 1,
    "hideHardwareSpecs": false,
    "memoryGiB": 16,
    "name": "ml.g5.xlarge",
    "vcpuNum": 4
   },
   {
    "_defaultOrder": 48,
    "_isFastLaunch": false,
    "category": "Accelerated computing",
    "gpuNum": 1,
    "hideHardwareSpecs": false,
    "memoryGiB": 32,
    "name": "ml.g5.2xlarge",
    "vcpuNum": 8
   },
   {
    "_defaultOrder": 49,
    "_isFastLaunch": false,
    "category": "Accelerated computing",
    "gpuNum": 1,
    "hideHardwareSpecs": false,
    "memoryGiB": 64,
    "name": "ml.g5.4xlarge",
    "vcpuNum": 16
   },
   {
    "_defaultOrder": 50,
    "_isFastLaunch": false,
    "category": "Accelerated computing",
    "gpuNum": 1,
    "hideHardwareSpecs": false,
    "memoryGiB": 128,
    "name": "ml.g5.8xlarge",
    "vcpuNum": 32
   },
   {
    "_defaultOrder": 51,
    "_isFastLaunch": false,
    "category": "Accelerated computing",
    "gpuNum": 1,
    "hideHardwareSpecs": false,
    "memoryGiB": 256,
    "name": "ml.g5.16xlarge",
    "vcpuNum": 64
   },
   {
    "_defaultOrder": 52,
    "_isFastLaunch": false,
    "category": "Accelerated computing",
    "gpuNum": 4,
    "hideHardwareSpecs": false,
    "memoryGiB": 192,
    "name": "ml.g5.12xlarge",
    "vcpuNum": 48
   },
   {
    "_defaultOrder": 53,
    "_isFastLaunch": false,
    "category": "Accelerated computing",
    "gpuNum": 4,
    "hideHardwareSpecs": false,
    "memoryGiB": 384,
    "name": "ml.g5.24xlarge",
    "vcpuNum": 96
   },
   {
    "_defaultOrder": 54,
    "_isFastLaunch": false,
    "category": "Accelerated computing",
    "gpuNum": 8,
    "hideHardwareSpecs": false,
    "memoryGiB": 768,
    "name": "ml.g5.48xlarge",
    "vcpuNum": 192
   },
   {
    "_defaultOrder": 55,
    "_isFastLaunch": false,
    "category": "Accelerated computing",
    "gpuNum": 8,
    "hideHardwareSpecs": false,
    "memoryGiB": 1152,
    "name": "ml.p4d.24xlarge",
    "vcpuNum": 96
   },
   {
    "_defaultOrder": 56,
    "_isFastLaunch": false,
    "category": "Accelerated computing",
    "gpuNum": 8,
    "hideHardwareSpecs": false,
    "memoryGiB": 1152,
    "name": "ml.p4de.24xlarge",
    "vcpuNum": 96
   }
  ],
  "instance_type": "ml.m5.2xlarge",
  "kernelspec": {
   "display_name": "Python 3 (Data Science 3.0)",
   "language": "python",
   "name": "python3__SAGEMAKER_INTERNAL__arn:aws:sagemaker:us-east-1:081325390199:image/sagemaker-data-science-310-v1"
  },
  "language_info": {
   "codemirror_mode": {
    "name": "ipython",
    "version": 3
   },
   "file_extension": ".py",
   "mimetype": "text/x-python",
   "name": "python",
   "nbconvert_exporter": "python",
   "pygments_lexer": "ipython3",
   "version": "3.10.6"
  }
 },
 "nbformat": 4,
 "nbformat_minor": 5
}
