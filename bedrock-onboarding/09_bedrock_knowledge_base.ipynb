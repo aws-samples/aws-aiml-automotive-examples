{
 "cells": [
  {
   "cell_type": "markdown",
   "id": "593d7761-5e78-40aa-bf3f-06cc1fa53311",
   "metadata": {},
   "source": [
    "# Amazon Bedrock Knowledge base\n",
    "\n",
    "This notebook covers steps to create Amazon Bedrock Knowledge base. With Knowledge Bases for Amazon Bedrock, you can give FMs and agents contextual information from your company’s private data sources for Retrieval Augmented Generation (RAG) to deliver more relevant, accurate, and customized responses.\n",
    "\n",
    "In this notebook, we will create Amazon Bedrock knowledge base and ingest documents. Amazon OpenSearch Serverless will be used as a vector databse and index the policy files from a S3 bucket. \n",
    "\n",
    "To run this notebook, assumed role needs to have permissions to \n",
    "* Create IAM role and policies\n",
    "* Access Bedrock\n",
    "* Access S3\n",
    "* Create OpenSearch serverless collection, create index and ingest documents\n",
    "\n",
    "This notebook is a fork of Bedrock ImmersionDay notebook here https://github.com/aws-samples/amazon-bedrock-workshop/blob/main/07_Agents/insurance_claims_agent/with_kb/create_and_invoke_agent_with_kb.ipynb. "
   ]
  },
  {
   "cell_type": "markdown",
   "id": "b5c765f3-f1af-41e1-a489-e0773cd079dc",
   "metadata": {},
   "source": [
    "## Pre-requisites & Install dependencies"
   ]
  },
  {
   "cell_type": "code",
   "execution_count": null,
   "id": "552133ed-6903-4354-9466-12b16d41a5ff",
   "metadata": {},
   "outputs": [],
   "source": [
    "#Check Python version is greater than 3.8 which is required by Langchain if you want to use Langchain\n",
    "import sys\n",
    "sys.version"
   ]
  },
  {
   "cell_type": "code",
   "execution_count": null,
   "id": "5ceb94cc-8fd0-467d-a4d8-691c52e935f6",
   "metadata": {},
   "outputs": [],
   "source": [
    "!pip install opensearch-py\n",
    "!pip install requests-aws4auth\n",
    "!pip install -U boto3\n",
    "!pip install -U botocore\n",
    "!pip install -U awscli\n",
    "!pip install langchain --upgrade\n",
    "!pip install langchain-community --upgrade"
   ]
  },
  {
   "cell_type": "markdown",
   "id": "03f1e8e7-53f6-4ce9-af29-d295f01beea8",
   "metadata": {},
   "source": [
    "## Restart Kernel"
   ]
  },
  {
   "cell_type": "code",
   "execution_count": null,
   "id": "2c2a0e75-c3cd-446c-aa69-91c6f0267180",
   "metadata": {},
   "outputs": [],
   "source": [
    "import IPython\n",
    "app = IPython.Application.instance()\n",
    "app.kernel.do_shutdown(True)  "
   ]
  },
  {
   "cell_type": "markdown",
   "id": "27a6fc89-e8ea-41f9-a642-d35bafbbf794",
   "metadata": {},
   "source": [
    "## Import dependencies"
   ]
  },
  {
   "cell_type": "code",
   "execution_count": null,
   "id": "605df5cc-bfdf-489b-bdf1-7559aeb108e3",
   "metadata": {},
   "outputs": [],
   "source": [
    "import sys\n",
    "assert sys.version_info >= (3, 8)"
   ]
  },
  {
   "cell_type": "code",
   "execution_count": 1,
   "id": "0ee0fcf5-a586-40b1-b48f-e59633a095cb",
   "metadata": {},
   "outputs": [
    {
     "name": "stdout",
     "output_type": "stream",
     "text": [
      "sagemaker.config INFO - Not applying SDK defaults from location: /etc/xdg/sagemaker/config.yaml\n",
      "sagemaker.config INFO - Not applying SDK defaults from location: /home/sagemaker-user/.config/sagemaker/config.yaml\n"
     ]
    }
   ],
   "source": [
    "import sagemaker\n",
    "import boto3\n",
    "import json\n",
    "import random\n",
    "import time\n",
    "import zipfile\n",
    "from io import BytesIO\n",
    "import uuid\n",
    "import os\n",
    "from opensearchpy import OpenSearch, RequestsHttpConnection\n",
    "from requests_aws4auth import AWS4Auth"
   ]
  },
  {
   "cell_type": "code",
   "execution_count": 2,
   "id": "ed24be51-a7e9-4f52-a091-458f41d99c73",
   "metadata": {},
   "outputs": [],
   "source": [
    "iam = boto3.client('iam')\n",
    "s3 = boto3.client('s3')\n",
    "lambda_c = boto3.client('lambda')\n",
    "oss = boto3.client('opensearchserverless')\n",
    "sts = boto3.client('sts')"
   ]
  },
  {
   "cell_type": "code",
   "execution_count": 3,
   "id": "dca1879a-bb1d-4894-944d-848d75f2267b",
   "metadata": {},
   "outputs": [],
   "source": [
    "session = boto3.Session()\n",
    "sagemaker_session = sagemaker.Session()\n",
    "studio_region = sagemaker_session.boto_region_name \n",
    "caller_identity = sagemaker_session.get_caller_identity_arn()\n",
    "account_id = sts.get_caller_identity()[\"Account\"]"
   ]
  },
  {
   "cell_type": "code",
   "execution_count": 6,
   "id": "bf7ed859-7667-49e8-b4f2-17a4211b51e9",
   "metadata": {},
   "outputs": [],
   "source": [
    "embedding_model_arn = f'arn:aws:bedrock:{studio_region}::foundation-model/amazon.titan-embed-text-v1'\n",
    "suffix = f\"{studio_region}-{account_id}\"\n",
    "kb_bedrock_allow_policy_name = f\"ica-kb-bedrock-allow-{suffix}\"\n",
    "kb_aoss_allow_policy_name = f\"ica-kb-aoss-allow-{suffix}\"\n",
    "kb_s3_allow_policy_name = f\"ica-kb-s3-allow-{suffix}\"\n",
    "kb_collection_name = f'ica-kbc-{suffix}'\n",
    "kb_bucket_prefix = 'kb_documents'\n",
    "kb_role_name = f'AmazonBedrockExecutionRoleForKnowledgeBase_icakb'\n",
    "default_bucket = sagemaker_session.default_bucket()\n",
    "default_bucket_arn = f\"arn:aws:s3:::{default_bucket}\"\n",
    "kb_name = f'insurance-claims-kb-{suffix}'"
   ]
  },
  {
   "cell_type": "markdown",
   "id": "e5b6330b-e014-4dc6-a130-6df299c68f9e",
   "metadata": {},
   "source": [
    "## Create IAM Roles and attach policies for OpenSearch service\n",
    "\n",
    "We will create IAM policies that permit Knowledge Base to \n",
    "* invoke Bedrock Titan Embedding Foundation model\n",
    "* Amazon OpenSearch Serverless\n",
    "* S3 bucket with policy files"
   ]
  },
  {
   "cell_type": "code",
   "execution_count": null,
   "id": "100a90ca-0cee-4b29-9815-06297eb17998",
   "metadata": {},
   "outputs": [],
   "source": [
    "# Create IAM policies for KB to invoke embedding model\n",
    "bedrock_kb_allow_fm_model_policy_statement = {\n",
    "    \"Version\": \"2012-10-17\",\n",
    "    \"Statement\": [\n",
    "        {\n",
    "            \"Sid\": \"AmazonBedrockAgentBedrockFoundationModelPolicy\",\n",
    "            \"Effect\": \"Allow\",\n",
    "            \"Action\": \"bedrock:InvokeModel\",\n",
    "            \"Resource\": [\n",
    "                embedding_model_arn\n",
    "            ]\n",
    "        }\n",
    "    ]\n",
    "}\n",
    "\n",
    "kb_bedrock_policy_json = json.dumps(bedrock_kb_allow_fm_model_policy_statement)\n",
    "\n",
    "kb_bedrock_policy = iam.create_policy(\n",
    "    PolicyName=kb_bedrock_allow_policy_name,\n",
    "    PolicyDocument=kb_bedrock_policy_json)"
   ]
  },
  {
   "cell_type": "code",
   "execution_count": null,
   "id": "1de943ed-27f3-4e41-a3bb-dab124b52044",
   "metadata": {},
   "outputs": [],
   "source": [
    "# Create IAM policies for KB to access OpenSearch Serverless\n",
    "bedrock_kb_allow_aoss_policy_statement = {\n",
    "    \"Version\": \"2012-10-17\",\n",
    "    \"Statement\": [\n",
    "        {\n",
    "            \"Effect\": \"Allow\",\n",
    "            \"Action\": \"aoss:APIAccessAll\",\n",
    "            \"Resource\": [\n",
    "                f\"arn:aws:aoss:{studio_region}:{account_id}:collection/*\"\n",
    "            ]\n",
    "        }\n",
    "    ]\n",
    "}\n",
    "\n",
    "\n",
    "kb_aoss_policy_json = json.dumps(bedrock_kb_allow_aoss_policy_statement)\n",
    "\n",
    "kb_aoss_policy = iam.create_policy(\n",
    "    PolicyName=kb_aoss_allow_policy_name,\n",
    "    PolicyDocument=kb_aoss_policy_json\n",
    ")\n",
    "\n"
   ]
  },
  {
   "cell_type": "code",
   "execution_count": null,
   "id": "4a78f547-201d-4a7b-a1c5-5d6e35a2807e",
   "metadata": {},
   "outputs": [],
   "source": [
    "# Create IAM policies for KB to access S3 bucket\n",
    "kb_s3_allow_policy_statement = {\n",
    "    \"Version\": \"2012-10-17\",\n",
    "    \"Statement\": [\n",
    "        {\n",
    "            \"Sid\": \"AllowKBAccessDocuments\",\n",
    "            \"Effect\": \"Allow\",\n",
    "            \"Action\": [\n",
    "                \"s3:GetObject\",\n",
    "                \"s3:ListBucket\"\n",
    "            ],\n",
    "            \"Resource\": [\n",
    "                f\"arn:aws:s3:::{default_bucket}/*\",\n",
    "                f\"arn:aws:s3:::{default_bucket}\"\n",
    "            ],\n",
    "            \"Condition\": {\n",
    "                \"StringEquals\": {\n",
    "                    \"aws:ResourceAccount\": f\"{account_id}\"\n",
    "                }\n",
    "            }\n",
    "        }\n",
    "    ]\n",
    "}\n",
    "\n",
    "\n",
    "kb_s3_json = json.dumps(kb_s3_allow_policy_statement)\n",
    "kb_s3_policy = iam.create_policy(\n",
    "    PolicyName=kb_s3_allow_policy_name,\n",
    "    PolicyDocument=kb_s3_json\n",
    ")"
   ]
  },
  {
   "cell_type": "code",
   "execution_count": null,
   "id": "43048d7f-4fd4-44fc-a803-38a94846a528",
   "metadata": {},
   "outputs": [],
   "source": [
    "# Create IAM Role for the agent and attach IAM policies\n",
    "assume_role_policy_document = {\n",
    "    \"Version\": \"2012-10-17\",\n",
    "    \"Statement\": [{\n",
    "          \"Effect\": \"Allow\",\n",
    "          \"Principal\": {\n",
    "            \"Service\": \"bedrock.amazonaws.com\"\n",
    "          },\n",
    "          \"Action\": \"sts:AssumeRole\"\n",
    "    }]\n",
    "}\n",
    "\n",
    "assume_role_policy_document_json = json.dumps(assume_role_policy_document)\n",
    "kb_role = iam.create_role(\n",
    "    RoleName=kb_role_name,\n",
    "    AssumeRolePolicyDocument=assume_role_policy_document_json\n",
    ")\n",
    "\n",
    "# Pause to make sure role is created\n",
    "time.sleep(10)\n",
    "    \n",
    "iam.attach_role_policy(\n",
    "    RoleName=kb_role_name,\n",
    "    PolicyArn=kb_bedrock_policy['Policy']['Arn']\n",
    ")\n",
    "\n",
    "iam.attach_role_policy(\n",
    "    RoleName=kb_role_name,\n",
    "    PolicyArn=kb_aoss_policy['Policy']['Arn']\n",
    ")\n",
    "\n",
    "iam.attach_role_policy(\n",
    "    RoleName=kb_role_name,\n",
    "    PolicyArn=kb_s3_policy['Policy']['Arn']\n",
    ")"
   ]
  },
  {
   "cell_type": "code",
   "execution_count": null,
   "id": "757bde58-2bd6-4b53-93e6-0bd9095b4813",
   "metadata": {},
   "outputs": [],
   "source": [
    "kb_role_arn = kb_role[\"Role\"][\"Arn\"]\n",
    "kb_role_arn"
   ]
  },
  {
   "cell_type": "markdown",
   "id": "0e76d24f-6cc0-44ef-adc2-62e3a12cf83a",
   "metadata": {},
   "source": [
    "## Upload Knowledge Base files to S3"
   ]
  },
  {
   "cell_type": "code",
   "execution_count": null,
   "id": "17a3e7b7-ff7b-4669-a75d-1e2f4f7736b6",
   "metadata": {},
   "outputs": [],
   "source": [
    "# Upload Knowledge Base files to this s3 bucket\n",
    "for f in os.listdir(kb_bucket_prefix):\n",
    "    if f.endswith(\".docx\"):\n",
    "        s3.upload_file(kb_bucket_prefix+'/'+f, default_bucket, kb_bucket_prefix+'/'+f)\n"
   ]
  },
  {
   "cell_type": "markdown",
   "id": "201dca23-3108-4883-b862-6da64862ccd5",
   "metadata": {},
   "source": [
    "## Create a Vector database\n",
    "\n",
    "In this section we will create a vector database with OpenSearch Serverless. Amazon OpenSearch Serverless is a serverless option in Amazon OpenSearch Service. As a developer, you can use OpenSearch Serverless to run petabyte-scale workloads without configuring, managing, and scaling OpenSearch clusters. You get the same interactive millisecond response times as OpenSearch Service with the simplicity of a serverless environment. Pay only for what you use by automatically scaling resources to provide the right amount of capacity for your application—without impacting data ingestion."
   ]
  },
  {
   "cell_type": "code",
   "execution_count": null,
   "id": "07a48f1b-db8d-4bb5-909f-fb288450c2b3",
   "metadata": {},
   "outputs": [],
   "source": [
    "kb_collection_name = f'ica-kbc-{suffix}'"
   ]
  },
  {
   "cell_type": "code",
   "execution_count": null,
   "id": "30c22fdf-380c-4060-a90a-814c6eb9058a",
   "metadata": {},
   "outputs": [],
   "source": [
    "# Create OpenSearch Collection\n",
    "security_policy_json = {\n",
    "    \"Rules\": [\n",
    "        {\n",
    "            \"ResourceType\": \"collection\",\n",
    "            \"Resource\":[\n",
    "                f\"collection/{kb_collection_name}\"\n",
    "            ]\n",
    "        }\n",
    "    ],\n",
    "    \"AWSOwnedKey\": True\n",
    "}\n",
    "security_policy = oss.create_security_policy(\n",
    "    description='security policy of aoss collection',\n",
    "    name=kb_collection_name,\n",
    "    policy=json.dumps(security_policy_json),\n",
    "    type='encryption'\n",
    ")"
   ]
  },
  {
   "cell_type": "code",
   "execution_count": null,
   "id": "3ae9049b-a863-42c0-9aed-2994fedb94ba",
   "metadata": {},
   "outputs": [],
   "source": [
    "network_policy_json = [\n",
    "  {\n",
    "    \"Rules\": [\n",
    "      {\n",
    "        \"Resource\": [\n",
    "          f\"collection/{kb_collection_name}\"\n",
    "        ],\n",
    "        \"ResourceType\": \"dashboard\"\n",
    "      },\n",
    "      {\n",
    "        \"Resource\": [\n",
    "          f\"collection/{kb_collection_name}\"\n",
    "        ],\n",
    "        \"ResourceType\": \"collection\"\n",
    "      }\n",
    "    ],\n",
    "    \"AllowFromPublic\": True\n",
    "  }\n",
    "]\n",
    "\n",
    "network_policy = oss.create_security_policy(\n",
    "    description='network policy of aoss collection',\n",
    "    name=kb_collection_name,\n",
    "    policy=json.dumps(network_policy_json),\n",
    "    type='network'\n",
    ")\n"
   ]
  },
  {
   "cell_type": "code",
   "execution_count": null,
   "id": "0de8ae90-8f03-4274-b786-39c899168a8e",
   "metadata": {},
   "outputs": [],
   "source": [
    "response = sts.get_caller_identity()\n",
    "current_role = response['Arn']\n",
    "current_role"
   ]
  },
  {
   "cell_type": "code",
   "execution_count": null,
   "id": "0fc4b9e2-78c4-4f7d-9b5a-fd9aace399bc",
   "metadata": {},
   "outputs": [],
   "source": [
    "data_policy_json = [\n",
    "  {\n",
    "    \"Rules\": [\n",
    "      {\n",
    "        \"Resource\": [\n",
    "          f\"collection/{kb_collection_name}\"\n",
    "        ],\n",
    "        \"Permission\": [\n",
    "          \"aoss:DescribeCollectionItems\",\n",
    "          \"aoss:CreateCollectionItems\",\n",
    "          \"aoss:UpdateCollectionItems\",\n",
    "          \"aoss:DeleteCollectionItems\"\n",
    "        ],\n",
    "        \"ResourceType\": \"collection\"\n",
    "      },\n",
    "      {\n",
    "        \"Resource\": [\n",
    "          f\"index/{kb_collection_name}/*\"\n",
    "        ],\n",
    "        \"Permission\": [\n",
    "            \"aoss:CreateIndex\",\n",
    "            \"aoss:DeleteIndex\",\n",
    "            \"aoss:UpdateIndex\",\n",
    "            \"aoss:DescribeIndex\",\n",
    "            \"aoss:ReadDocument\",\n",
    "            \"aoss:WriteDocument\"\n",
    "        ],\n",
    "        \"ResourceType\": \"index\"\n",
    "      }\n",
    "    ],\n",
    "    \"Principal\": [\n",
    "        kb_role_arn,\n",
    "        f\"arn:aws:sts::{account_id}:assumed-role/Admin/*\",\n",
    "        current_role\n",
    "    ],\n",
    "    \"Description\": \"\"\n",
    "  }\n",
    "]\n",
    "\n",
    "data_policy = oss.create_access_policy(\n",
    "    description='data access policy for aoss collection',\n",
    "    name=kb_collection_name,\n",
    "    policy=json.dumps(data_policy_json),\n",
    "    type='data'\n",
    ")\n"
   ]
  },
  {
   "cell_type": "code",
   "execution_count": null,
   "id": "6295fe55-a21e-4cdf-b9da-1c1ba8d28bd3",
   "metadata": {},
   "outputs": [],
   "source": [
    "opensearch_collection_response = oss.create_collection(\n",
    "    description='OpenSearch collection for Amazon Bedrock Knowledge Base',\n",
    "    name=kb_collection_name,\n",
    "    standbyReplicas='DISABLED',\n",
    "    type='VECTORSEARCH'\n",
    ")\n",
    "opensearch_collection_response"
   ]
  },
  {
   "cell_type": "code",
   "execution_count": null,
   "id": "201e0d5c-edc7-47e5-b050-1cf29bc346c2",
   "metadata": {},
   "outputs": [],
   "source": [
    "collection_arn = opensearch_collection_response[\"createCollectionDetail\"][\"arn\"]\n",
    "collection_arn"
   ]
  },
  {
   "cell_type": "code",
   "execution_count": null,
   "id": "9af48fe0-8888-4c2b-a15d-9ad8ddbc4ee7",
   "metadata": {},
   "outputs": [],
   "source": [
    "# wait for collection creation\n",
    "response = oss.batch_get_collection(names=[kb_collection_name])\n",
    "# Periodically check collection status\n",
    "while (response['collectionDetails'][0]['status']) == 'CREATING':\n",
    "    print('Creating collection...')\n",
    "    time.sleep(30)\n",
    "    response = oss.batch_get_collection(names=[kb_collection_name])\n",
    "print('\\nCollection successfully created:')\n",
    "print(response[\"collectionDetails\"])\n",
    "# Extract the collection endpoint from the response\n",
    "host = (response['collectionDetails'][0]['collectionEndpoint'])\n",
    "final_host = host.replace(\"https://\", \"\")\n",
    "final_host"
   ]
  },
  {
   "cell_type": "markdown",
   "id": "fd2f72f1-8069-4202-953f-3b2f25dee9ad",
   "metadata": {},
   "source": [
    "## Creating OpenSearch Index"
   ]
  },
  {
   "cell_type": "code",
   "execution_count": 5,
   "id": "344b8f74-1974-42ff-97af-458fa384ce47",
   "metadata": {},
   "outputs": [],
   "source": [
    "kb_vector_index_name = \"bedrock-knowledge-base-index\"\n",
    "kb_metadataField = 'bedrock-knowledge-base-metadata'\n",
    "kb_textField = 'bedrock-knowledge-base-text'\n",
    "kb_vectorField = 'bedrock-knowledge-base-vector'"
   ]
  },
  {
   "cell_type": "code",
   "execution_count": null,
   "id": "f2f10691-1814-4a83-8137-5d595a1894af",
   "metadata": {},
   "outputs": [],
   "source": [
    "credentials = boto3.Session().get_credentials()\n",
    "service = 'aoss'\n",
    "awsauth = AWS4Auth(\n",
    "    credentials.access_key, \n",
    "    credentials.secret_key,\n",
    "    studio_region, \n",
    "    service, \n",
    "    session_token=credentials.token\n",
    ")\n",
    "\n",
    "# Build the OpenSearch client\n",
    "open_search_client = OpenSearch(\n",
    "    hosts=[{'host': final_host, 'port': 443}],\n",
    "    http_auth=awsauth,\n",
    "    use_ssl=True,\n",
    "    verify_certs=True,\n",
    "    connection_class=RequestsHttpConnection,\n",
    "    timeout=300\n",
    ")\n",
    "# It can take up to a minute for data access rules to be enforced\n",
    "time.sleep(45)\n",
    "index_body = {\n",
    "    \"settings\": {\n",
    "        \"index.knn\": True,\n",
    "        \"number_of_shards\": 1,\n",
    "        \"knn.algo_param.ef_search\": 512,\n",
    "        \"number_of_replicas\": 0,\n",
    "    },\n",
    "    \"mappings\": {\n",
    "        \"properties\": {}\n",
    "    }\n",
    "}\n",
    "\n"
   ]
  },
  {
   "cell_type": "code",
   "execution_count": null,
   "id": "7bff5144-5616-481b-af88-3fbd495b6b1b",
   "metadata": {},
   "outputs": [],
   "source": [
    "index_body[\"mappings\"][\"properties\"][kb_vectorField] = {\n",
    "    \"type\": \"knn_vector\",\n",
    "    \"dimension\": 1536,\n",
    "    \"method\": {\n",
    "        \"name\": \"hnsw\",\n",
    "        \"engine\": \"nmslib\",\n",
    "        \"space_type\": \"cosinesimil\",\n",
    "        \"parameters\": {\n",
    "            \"ef_construction\": 512, \n",
    "            \"m\": 16\n",
    "        },\n",
    "    },\n",
    "}\n",
    "\n",
    "index_body[\"mappings\"][\"properties\"][kb_textField] = {\n",
    "    \"type\": \"text\"\n",
    "}\n",
    "\n",
    "index_body[\"mappings\"][\"properties\"][kb_metadataField] = {\n",
    "    \"type\": \"text\"\n",
    "}\n",
    "\n",
    "# Create index\n",
    "if not open_search_client.indices.exists(kb_vector_index_name):\n",
    "    response = open_search_client.indices.create(kb_vector_index_name, body=index_body)\n",
    "    print('\\nCreating index:')\n",
    "    print(response)\n",
    "else:\n",
    "    print(f'Index {kb_vector_index_name} already exists')    "
   ]
  },
  {
   "cell_type": "code",
   "execution_count": null,
   "id": "8d088f1c-e42e-48e4-ac12-df91ce091b53",
   "metadata": {},
   "outputs": [],
   "source": [
    "storage_configuration = {\n",
    "    'opensearchServerlessConfiguration': {\n",
    "        'collectionArn': collection_arn, \n",
    "        'fieldMapping': {\n",
    "            'metadataField': kb_metadataField,\n",
    "            'textField': kb_textField,\n",
    "            'vectorField': kb_vectorField\n",
    "        },\n",
    "        'vectorIndexName': kb_vector_index_name\n",
    "    },\n",
    "    'type': 'OPENSEARCH_SERVERLESS'\n",
    "}"
   ]
  },
  {
   "cell_type": "markdown",
   "id": "f3cb520a-010e-4e26-aef0-2a075fdc146f",
   "metadata": {},
   "source": [
    "## Create Bedrock Knowledge base"
   ]
  },
  {
   "cell_type": "code",
   "execution_count": null,
   "id": "f6821337-4c21-4bda-bdbd-397d40a561d7",
   "metadata": {},
   "outputs": [],
   "source": [
    "bedrock_agent = boto3.client('bedrock-agent')\n",
    "\n",
    "# Creating the knowledge base\n",
    "try:\n",
    "    # ensure the index is created and available\n",
    "    time.sleep(45)\n",
    "    kb_obj = bedrock_agent.create_knowledge_base(\n",
    "        name=kb_name, \n",
    "        description='KB that contains information about documents requirements for insurance claims',\n",
    "        roleArn=kb_role_arn,\n",
    "        knowledgeBaseConfiguration={\n",
    "            'type': 'VECTOR',  # Corrected type\n",
    "            'vectorKnowledgeBaseConfiguration': {\n",
    "                'embeddingModelArn': embedding_model_arn\n",
    "            }\n",
    "        },\n",
    "        storageConfiguration=storage_configuration\n",
    "    )\n",
    "\n",
    "    #Print the response \n",
    "    print(kb_obj)\n",
    "\n",
    "except Exception as e:\n",
    "    print(f\"Error occurred: {e}\")"
   ]
  },
  {
   "cell_type": "code",
   "execution_count": null,
   "id": "459a7c22-d5d4-47d5-9671-6a2f2de5965a",
   "metadata": {},
   "outputs": [],
   "source": [
    "knowledge_base_id = kb_obj[\"knowledgeBase\"][\"knowledgeBaseId\"]\n",
    "knowledge_base_arn = kb_obj[\"knowledgeBase\"][\"knowledgeBaseArn\"]"
   ]
  },
  {
   "cell_type": "markdown",
   "id": "7e5f30fd-079a-4adf-8a3a-3423327395c9",
   "metadata": {},
   "source": [
    "## Create a data source to attach to created Knowledge Base\n",
    "\n",
    "Let's create a data source for our Knowledge Base. Then we will ingest our data and convert it into embeddings.\n"
   ]
  },
  {
   "cell_type": "code",
   "execution_count": null,
   "id": "58718c79-8f41-4e9c-8449-28664c36f84f",
   "metadata": {},
   "outputs": [],
   "source": [
    "# Define the S3 configuration for your data source\n",
    "s3_configuration = {\n",
    "    'bucketArn': default_bucket_arn,\n",
    "    'inclusionPrefixes': [kb_bucket_prefix]  \n",
    "}\n",
    "\n",
    "# Define the data source configuration\n",
    "data_source_configuration = {\n",
    "    's3Configuration': s3_configuration,\n",
    "    'type': 'S3'\n",
    "}\n",
    "\n",
    "chunking_strategy_configuration = {\n",
    "    \"chunkingStrategy\": \"FIXED_SIZE\",\n",
    "    \"fixedSizeChunkingConfiguration\": {\n",
    "        \"maxTokens\": 512,\n",
    "        \"overlapPercentage\": 20\n",
    "    }\n",
    "}"
   ]
  },
  {
   "cell_type": "code",
   "execution_count": null,
   "id": "0a61aa24-b364-4f50-a8e5-acbc82670f6a",
   "metadata": {},
   "outputs": [],
   "source": [
    "data_source_name = f'insurance-claims-kb-docs-{suffix}'\n",
    "# Create the data source\n",
    "try:\n",
    "    # ensure that the KB is created and available\n",
    "    time.sleep(45)\n",
    "    data_source_response = bedrock_agent.create_data_source(\n",
    "        knowledgeBaseId=knowledge_base_id,\n",
    "        name=data_source_name,\n",
    "        description='DataSource for the insurance claim documents requirements',\n",
    "        dataSourceConfiguration=data_source_configuration,\n",
    "        vectorIngestionConfiguration = {\n",
    "            \"chunkingConfiguration\": chunking_strategy_configuration\n",
    "        }\n",
    "    )\n",
    "\n",
    "    # Print the response\n",
    "    print(data_source_response)\n",
    "\n",
    "except Exception as e:\n",
    "    print(f\"Error occurred: {e}\")"
   ]
  },
  {
   "cell_type": "markdown",
   "id": "8c3e2e35-6fd4-4ea1-9250-d71e43f355dd",
   "metadata": {},
   "source": [
    "## Start the Ingestion process\n",
    "\n",
    "Once the Knowledge Base and Data Source are created, we can start the ingestion job. During the ingestion job, Knowledge Base will fetch the documents in the data source, pre-process it to extract text, chunk it based on the chunking size provided, create embeddings of each chunk and then write it to the vector database, in this case Amazon OpenSource Serverless."
   ]
  },
  {
   "cell_type": "code",
   "execution_count": null,
   "id": "4a2b42f5-4029-4429-b202-e18626586747",
   "metadata": {},
   "outputs": [],
   "source": [
    "# Start an ingestion job\n",
    "data_source_id = data_source_response[\"dataSource\"][\"dataSourceId\"]\n",
    "start_job_response = bedrock_agent.start_ingestion_job(\n",
    "    knowledgeBaseId=knowledge_base_id, \n",
    "    dataSourceId=data_source_id\n",
    ")"
   ]
  },
  {
   "cell_type": "code",
   "execution_count": null,
   "id": "f4efe548-f741-4f4e-8c60-1f5655b6d49d",
   "metadata": {},
   "outputs": [],
   "source": [
    "ingestion_job_id= start_job_response[\"ingestionJob\"][\"ingestionJobId\"]"
   ]
  },
  {
   "cell_type": "code",
   "execution_count": null,
   "id": "2f5ea9be-190c-4192-9396-43ae93cbae5b",
   "metadata": {},
   "outputs": [],
   "source": [
    "ingestion_job_response = bedrock_agent.get_ingestion_job(ingestionJobId=ingestion_job_id,\n",
    "                                knowledgeBaseId=knowledge_base_id, \n",
    "                                dataSourceId=data_source_id)\n",
    "print(ingestion_job_response)"
   ]
  },
  {
   "cell_type": "markdown",
   "id": "becc9921-4578-4682-8095-f90a4447cae8",
   "metadata": {},
   "source": [
    "## Get Knowledge base details\n",
    "Let's try to details of the knowledge base created in the previous step"
   ]
  },
  {
   "cell_type": "code",
   "execution_count": null,
   "id": "cbd62145-ab81-4b6f-aa0d-c70a8a09ce1e",
   "metadata": {},
   "outputs": [],
   "source": [
    "bedrock_agent = boto3.client('bedrock-agent')\n",
    "list_kb_response = bedrock_agent.list_knowledge_bases()\n",
    "\n",
    "for kb_obj in list_kb_response[\"knowledgeBaseSummaries\"]:\n",
    "    if kb_obj[\"name\"] == kb_name:\n",
    "        knowledge_base_id = kb_obj[\"knowledgeBaseId\"]\n",
    "        break\n",
    "print(f\"Knowledgebase name:{kb_name} ID:{knowledge_base_id}\")"
   ]
  },
  {
   "cell_type": "code",
   "execution_count": null,
   "id": "8ba13492-f510-410a-b535-84876222db15",
   "metadata": {},
   "outputs": [],
   "source": [
    "get_kb_response = bedrock_agent.get_knowledge_base(knowledgeBaseId=knowledge_base_id)\n",
    "knowledge_base_arn = get_kb_response[\"knowledgeBase\"][\"knowledgeBaseArn\"]\n",
    "print(f\"Knowledgebase ARN: {knowledge_base_arn}\")"
   ]
  },
  {
   "cell_type": "markdown",
   "id": "a073b680-9988-47e4-95b1-7c307199592e",
   "metadata": {},
   "source": [
    "## Query Knowledge base\n",
    "Run a sample query with Bedrock agent runtime client and get a response. We will run two APIS in this section\n",
    "\n",
    "* retrieve - Queries a knowledge base and retrieves information from it.\n",
    "* retrieve_and_generate - Queries a knowledge base and generates responses based on the retrieved results. The response cites up to five sources but only selects the ones that are relevant to the query."
   ]
  },
  {
   "cell_type": "code",
   "execution_count": 15,
   "id": "5ebfc5cd-bffa-4ce8-8142-2bda7f5786b6",
   "metadata": {},
   "outputs": [],
   "source": [
    "bedrock_agent_runtime = boto3.client('bedrock-agent-runtime')"
   ]
  },
  {
   "cell_type": "code",
   "execution_count": 16,
   "id": "a8146151-3cdd-4b4d-86a3-7a761ea70730",
   "metadata": {},
   "outputs": [],
   "source": [
    "query = \"what are vehicle registration requirements?\"\n",
    "retrieve_response = bedrock_agent_runtime.retrieve(\n",
    "    knowledgeBaseId=knowledge_base_id,\n",
    "    retrievalQuery={\n",
    "        'text': query\n",
    "    },\n",
    "    retrievalConfiguration={\n",
    "        'vectorSearchConfiguration': {\n",
    "            'numberOfResults': 5\n",
    "        }\n",
    "    }\n",
    ")"
   ]
  },
  {
   "cell_type": "code",
   "execution_count": null,
   "id": "d1458157-14b3-4c66-a1dd-e3a1709cf674",
   "metadata": {},
   "outputs": [],
   "source": [
    "retrieve_response[\"retrievalResults\"]"
   ]
  },
  {
   "cell_type": "code",
   "execution_count": null,
   "id": "40333994-ca2e-4af1-a547-1d4f3c7679f3",
   "metadata": {},
   "outputs": [],
   "source": [
    "model_arn = f'arn:aws:bedrock:{studio_region}::foundation-model/anthropic.claude-v2'\n",
    "\n",
    "retrieve_and_generate_response = bedrock_agent_runtime.retrieve_and_generate(\n",
    "    input={\n",
    "        'text': query\n",
    "    },\n",
    "    retrieveAndGenerateConfiguration={\n",
    "        'type': 'KNOWLEDGE_BASE',\n",
    "        'knowledgeBaseConfiguration': {\n",
    "            'knowledgeBaseId': knowledge_base_id,\n",
    "            'modelArn': model_arn\n",
    "        }\n",
    "    }\n",
    ")\n",
    "retrieve_and_generate_response"
   ]
  },
  {
   "cell_type": "markdown",
   "id": "552dc68f-0714-4db0-a090-880e20e5059d",
   "metadata": {},
   "source": [
    "## RAG with Bedrock Knowledgebase and LangChain\n",
    "In the below steps we will integrate Bedrock Knowledgebase retirever with LangChain and invoke a Bedrock model.\n"
   ]
  },
  {
   "cell_type": "code",
   "execution_count": 19,
   "id": "72a2727d-e485-4433-ae4c-e4e79d1d8aa8",
   "metadata": {},
   "outputs": [],
   "source": [
    "bedrock = session.client(\"bedrock-runtime\", region_name=studio_region)"
   ]
  },
  {
   "cell_type": "code",
   "execution_count": 20,
   "id": "2b67d0be-fde4-4472-b066-eccc708dad05",
   "metadata": {},
   "outputs": [],
   "source": [
    "from langchain_community.llms.bedrock import Bedrock\n",
    "\n",
    "#Creating Anthropic Claude\n",
    "model_args= {'max_tokens_to_sample':200,'temperature':0}\n",
    "llm = Bedrock(model_id=\"anthropic.claude-v1\", client=bedrock, model_kwargs=model_args)"
   ]
  },
  {
   "cell_type": "code",
   "execution_count": 21,
   "id": "1b4da087-6ec3-47e2-be67-3daade205782",
   "metadata": {},
   "outputs": [],
   "source": [
    "from langchain_community.retrievers.bedrock import AmazonKnowledgeBasesRetriever\n",
    "kb_retriever = AmazonKnowledgeBasesRetriever(\n",
    "        knowledge_base_id=knowledge_base_id,\n",
    "        retrieval_config={\"vectorSearchConfiguration\": {\"numberOfResults\": 4}}\n",
    ")"
   ]
  },
  {
   "cell_type": "code",
   "execution_count": null,
   "id": "643075df-8024-41f7-9ed8-e2c60905d885",
   "metadata": {},
   "outputs": [],
   "source": [
    "docs = kb_retriever.get_relevant_documents(\n",
    "        query=query\n",
    "    )\n",
    "print(docs)"
   ]
  },
  {
   "cell_type": "code",
   "execution_count": 23,
   "id": "d8fc4c5f-edca-4320-87fe-1f0d191a167a",
   "metadata": {},
   "outputs": [],
   "source": [
    "from langchain.chains import RetrievalQA\n",
    "from langchain.prompts import PromptTemplate\n",
    "\n",
    "prompt_template = \"\"\"Human: Use the following pieces of context to provide a concise answer to the question at the end. \n",
    "\n",
    "{context}\n",
    "\n",
    "Question: {question}\n",
    "Assistant:\"\"\"\n",
    "PROMPT = PromptTemplate(\n",
    "    template=prompt_template, input_variables=[\"context\", \"question\"]\n",
    ")"
   ]
  },
  {
   "cell_type": "code",
   "execution_count": 24,
   "id": "63e088f7-e08f-4604-8da8-21c93616ee34",
   "metadata": {},
   "outputs": [
    {
     "name": "stdout",
     "output_type": "stream",
     "text": [
      " Vehicle registration requires:\n",
      "\n",
      "- Proof of vehicle ownership (VehicleRegistration)\n",
      "- Driver's license (DriverLicense)\n",
      "- Accident report (AccidentReport) if there was an accident \n",
      "- Accident images (AccidentImages) if there was an accident\n"
     ]
    }
   ],
   "source": [
    "qa = RetrievalQA.from_chain_type(\n",
    "    llm=llm,\n",
    "    chain_type=\"stuff\",\n",
    "    retriever=kb_retriever,\n",
    "    return_source_documents=True,\n",
    "    chain_type_kwargs={\"prompt\": PROMPT}\n",
    ")\n",
    "\n",
    "response = qa.invoke({'query':query})\n",
    "print(response['result'])"
   ]
  },
  {
   "cell_type": "markdown",
   "id": "d934f627-2051-4be7-b525-668159c7693a",
   "metadata": {},
   "source": [
    "## Cleanup (Optional)\n",
    "We will perform clean-up of the objects created above\n",
    "* Remove knowledge base\n",
    "* Remove OpenSearch components\n",
    "* Empty documents from S3 bucket"
   ]
  },
  {
   "cell_type": "code",
   "execution_count": null,
   "id": "f17e34e4-2f7f-4f0e-b09e-ff9bbe8b0462",
   "metadata": {},
   "outputs": [],
   "source": [
    "objects = s3.list_objects(Bucket=default_bucket,Prefix=kb_bucket_prefix)\n",
    "# Empty and delete S3 Bucket\n",
    "if 'Contents' in objects:\n",
    "    for obj in objects['Contents']:\n",
    "        s3.delete_object(Bucket=default_bucket, Key=obj['Key'])"
   ]
  },
  {
   "cell_type": "code",
   "execution_count": null,
   "id": "7bf83ed1-d9a9-4791-a766-32b43a1064f3",
   "metadata": {},
   "outputs": [],
   "source": [
    "# Delete IAM Policies, detach and the IAM role\n",
    "for policy in [\n",
    "    kb_bedrock_policy,\n",
    "    kb_aoss_policy,\n",
    "    kb_s3_policy\n",
    "]:\n",
    "    response = iam.list_entities_for_policy(\n",
    "        PolicyArn=policy['Policy']['Arn'],\n",
    "        EntityFilter='Role'\n",
    "    )\n",
    "\n",
    "    for role in response['PolicyRoles']:\n",
    "        iam.detach_role_policy(\n",
    "            RoleName=role['RoleName'], \n",
    "            PolicyArn=policy['Policy']['Arn']\n",
    "        )\n",
    "\n",
    "    iam.delete_policy(\n",
    "        PolicyArn=policy['Policy']['Arn']\n",
    "    )\n",
    "\n",
    "    \n",
    "for role_name in [\n",
    "    kb_role_name\n",
    "]:\n",
    "    try: \n",
    "        iam.delete_role(\n",
    "            RoleName=role_name\n",
    "        )\n",
    "    except Exception as e:\n",
    "        print(e)\n",
    "        print(\"couldn't delete role\", role_name)"
   ]
  },
  {
   "cell_type": "code",
   "execution_count": null,
   "id": "967f7398-b127-4002-98da-f180aebcedc3",
   "metadata": {},
   "outputs": [],
   "source": [
    "try:\n",
    "    oss.delete_collection(\n",
    "        id=opensearch_collection_response[\"createCollectionDetail\"][\"id\"]\n",
    "    )\n",
    "\n",
    "    oss.delete_access_policy(\n",
    "          name=kb_collection_name,\n",
    "          type='data'\n",
    "    )    \n",
    "\n",
    "    oss.delete_security_policy(\n",
    "          name=kb_collection_name,\n",
    "          type='network'\n",
    "    )   \n",
    "\n",
    "    oss.delete_security_policy(\n",
    "          name=kb_collection_name,\n",
    "          type='encryption'\n",
    "    )    \n",
    "\n",
    "except Exception as e:\n",
    "    print(e)"
   ]
  },
  {
   "cell_type": "code",
   "execution_count": null,
   "id": "4ca5184e-3cc1-4eb2-80b7-ae1bcbc9f6a1",
   "metadata": {},
   "outputs": [],
   "source": [
    "try:\n",
    "    bedrock_agent.delete_knowledge_base(\n",
    "        knowledgeBaseId=knowledge_base_id\n",
    "    )\n",
    "except Exception as e:\n",
    "    print(e)"
   ]
  },
  {
   "cell_type": "code",
   "execution_count": null,
   "id": "d55a627e-29e8-4e17-8c8e-07e5c6f302b9",
   "metadata": {},
   "outputs": [],
   "source": []
  }
 ],
 "metadata": {
  "kernelspec": {
   "display_name": "Python 3 (ipykernel)",
   "language": "python",
   "name": "python3"
  },
  "language_info": {
   "codemirror_mode": {
    "name": "ipython",
    "version": 3
   },
   "file_extension": ".py",
   "mimetype": "text/x-python",
   "name": "python",
   "nbconvert_exporter": "python",
   "pygments_lexer": "ipython3",
   "version": "3.10.13"
  }
 },
 "nbformat": 4,
 "nbformat_minor": 5
}
